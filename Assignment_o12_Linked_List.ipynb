{
  "nbformat": 4,
  "nbformat_minor": 0,
  "metadata": {
    "colab": {
      "provenance": []
    },
    "kernelspec": {
      "name": "python3",
      "display_name": "Python 3"
    },
    "language_info": {
      "name": "python"
    }
  },
  "cells": [
    {
      "cell_type": "markdown",
      "source": [
        "# Assignment 12 - Linked List"
      ],
      "metadata": {
        "id": "8o3bEQJnuldw"
      }
    },
    {
      "cell_type": "markdown",
      "source": [
        "## Question no.1:-\n",
        "\n",
        " Given a singly linked list, delete middle of the linked list. For example, if given linked list is 1->2->3->4->5 then linked list should be modified to 1->2->4->5.If there are even nodes, then there would be two middle nodes, we need to delete the second middle element. For example, if given linked list is 1->2->3->4->5->6 then it should be modified to 1->2->3->5->6.If the input linked list is NULL or has 1 node, then it should return NULL\n",
        "\n",
        "Example 1:\n",
        "\n",
        "Input:\n",
        "\n",
        "LinkedList: 1->2->3->4->5\n",
        "\n",
        "Output:1 2 4 5"
      ],
      "metadata": {
        "id": "Y_JSbUevunmP"
      }
    },
    {
      "cell_type": "code",
      "execution_count": 1,
      "metadata": {
        "colab": {
          "base_uri": "https://localhost:8080/"
        },
        "id": "v5s5HSsOuTrm",
        "outputId": "2beb05da-200f-4aaa-9c15-01e1360d5f3d"
      },
      "outputs": [
        {
          "output_type": "stream",
          "name": "stdout",
          "text": [
            "1 2 4 5 "
          ]
        }
      ],
      "source": [
        "class Node:\n",
        "\n",
        "    def __init__(self):\n",
        "\n",
        "        self.data = 0\n",
        "        self.next = None\n",
        "\n",
        "def countOfNodes(head):\n",
        "\n",
        "    count = 0\n",
        "\n",
        "    while (head != None):\n",
        "        head = head.next\n",
        "        count += 1\n",
        "\n",
        "    return count\n",
        "\n",
        "def deleteMid(head):\n",
        "\n",
        "    if (head == None):\n",
        "        return None\n",
        "    if (head.next == None):\n",
        "        del head\n",
        "        return None\n",
        "\n",
        "    new_head = head\n",
        "\n",
        "    count = countOfNodes(head)\n",
        "\n",
        "    mid = count // 2\n",
        "\n",
        "    while (mid > 1):\n",
        "        mid -= 1\n",
        "        head = head.next\n",
        "\n",
        "    head.next = head.next.next\n",
        "\n",
        "    return new_head\n",
        "\n",
        "def printList(ptr):\n",
        "\n",
        "    while (ptr != None):\n",
        "        print(ptr.data, end = ' ')\n",
        "        ptr = ptr.next\n",
        "\n",
        "def newNode(data):\n",
        "\n",
        "    temp = Node()\n",
        "    temp.data = data\n",
        "    temp.next = None\n",
        "    return temp\n",
        "\n",
        "head = newNode(1)\n",
        "head.next = newNode(2)\n",
        "head.next.next = newNode(3)\n",
        "head.next.next.next = newNode(4)\n",
        "head.next.next.next.next = newNode(5)\n",
        "\n",
        "head = deleteMid(head)\n",
        "\n",
        "printList(head)"
      ]
    },
    {
      "cell_type": "markdown",
      "source": [
        "## Question no.2 :-\n",
        "\n",
        " Given a linked list of N nodes. The task is to check if the linked list has a loop. Linked list can contain self loop.\n",
        "\n",
        "Example 1:\n",
        "\n",
        "Input:\n",
        "\n",
        "N = 3\n",
        "\n",
        "value[] = {1,3,4}\n",
        "\n",
        "x(position at which tail is connected) = 2\n",
        "\n",
        "Output:True\n",
        "\n",
        "Explanation:In above test case N = 3. The linked list with nodes N = 3 is given. Then value of x=2 is given which means last node is connected with xth node of linked list. Therefore, there exists a loop."
      ],
      "metadata": {
        "id": "iIwCX8jBuq5P"
      }
    },
    {
      "cell_type": "code",
      "source": [
        "class Node:\n",
        "    def __init__(self, d):\n",
        "        self.data = d\n",
        "        self.next = None\n",
        "\n",
        "\n",
        "head = None\n",
        "\n",
        "\n",
        "def push(new_data):\n",
        "    global head\n",
        "    new_node = Node(new_data)\n",
        "    new_node.next = head\n",
        "    head = new_node\n",
        "\n",
        "\n",
        "def detectLoop(h):\n",
        "    global head\n",
        "\n",
        "    if (head == None):\n",
        "        return False\n",
        "    else:\n",
        "\n",
        "        while (head != None):\n",
        "            if (head.data == -1):\n",
        "                return True\n",
        "            else:\n",
        "                head.data = -1\n",
        "                head = head.next\n",
        "\n",
        "        return False\n",
        "\n",
        "\n",
        "push(1)\n",
        "push(2)\n",
        "push(3)\n",
        "push(4)\n",
        "push(5)\n",
        "\n",
        "head.next.next.next.next.next = head.next.next\n",
        "\n",
        "if (detectLoop(head)):\n",
        "    print(True)\n",
        "else:\n",
        "    print(False)"
      ],
      "metadata": {
        "colab": {
          "base_uri": "https://localhost:8080/"
        },
        "id": "MJmaXz1Iu29O",
        "outputId": "2afb576f-ae36-4667-976e-59cdfcab06d8"
      },
      "execution_count": 2,
      "outputs": [
        {
          "output_type": "stream",
          "name": "stdout",
          "text": [
            "True\n"
          ]
        }
      ]
    },
    {
      "cell_type": "markdown",
      "source": [
        "## Question no.3 :-\n",
        "\n",
        " Given a linked list consisting of L nodes and given a number N. The task is to find the Nth node from the end of the linked list.\n",
        "\n",
        "Example 1:\n",
        "\n",
        "Input:\n",
        "\n",
        "N = 2\n",
        "\n",
        "LinkedList: 1->2->3->4->5->6->7->8->9\n",
        "\n",
        "Output:8\n",
        "\n",
        "Explanation:In the first example, there are 9 nodes in linked list and we need to find 2nd node from end. 2nd node from end is 8."
      ],
      "metadata": {
        "id": "9VQvcIH8u_8v"
      }
    },
    {
      "cell_type": "code",
      "source": [
        "class Node:\n",
        "    def __init__(self, new_data):\n",
        "        self.data = new_data\n",
        "        self.next = None\n",
        "\n",
        "\n",
        "class LinkedList:\n",
        "    def __init__(self):\n",
        "        self.head = None\n",
        "\n",
        "    def push(self, new_data):\n",
        "        new_node = Node(new_data)\n",
        "        new_node.next = self.head\n",
        "        self.head = new_node\n",
        "\n",
        "    def printNthFromLast(self,n):\n",
        "        temp = self.head\n",
        "\n",
        "        length = 0\n",
        "        while temp is not None:\n",
        "            temp = temp.next\n",
        "            length += 1\n",
        "\n",
        "\n",
        "        if n > length:\n",
        "\n",
        "            print('Location is greater than the' +\n",
        "                  ' length of LinkedList')\n",
        "            return\n",
        "        temp = self.head\n",
        "        for i in range(0, length - n):\n",
        "            temp = temp.next\n",
        "        print(temp.data)\n",
        "\n",
        "\n",
        "\n",
        "llist = LinkedList()\n",
        "llist.push(9)\n",
        "llist.push(8)\n",
        "llist.push(7)\n",
        "llist.push(6)\n",
        "llist.push(5)\n",
        "llist.push(4)\n",
        "llist.push(3)\n",
        "llist.push(2)\n",
        "llist.push(1)\n",
        "\n",
        "\n",
        "llist.printNthFromLast(2)"
      ],
      "metadata": {
        "colab": {
          "base_uri": "https://localhost:8080/"
        },
        "id": "D6swVUBbu7Oh",
        "outputId": "390bc9b3-ad6c-4473-b0ce-2eacf4c3b327"
      },
      "execution_count": 3,
      "outputs": [
        {
          "output_type": "stream",
          "name": "stdout",
          "text": [
            "8\n"
          ]
        }
      ]
    },
    {
      "cell_type": "markdown",
      "source": [
        "## Question no.4 :-\n",
        "\n",
        "Given a singly linked list of characters, write a function that returns true if the given list is a palindrome, else false.\n",
        "\n",
        "Examples:\n",
        "\n",
        "Input: R->A->D->A->R->NULL\n",
        "\n",
        "Output: Yes\n",
        "\n",
        "Input: C->O->D->E->NULL\n",
        "\n",
        "Output: No"
      ],
      "metadata": {
        "id": "sVQJSWYdvIve"
      }
    },
    {
      "cell_type": "code",
      "source": [
        "class ListNode:\n",
        "   def __init__(self, data, next = None):\n",
        "      self.data = data\n",
        "      self.next = next\n",
        "\n",
        "def Linked_list(elements):\n",
        "   head = ListNode(elements[0])\n",
        "   for element in elements[1:]:\n",
        "      ptr = head\n",
        "      while ptr.next:\n",
        "         ptr = ptr.next\n",
        "      ptr.next = ListNode(element)\n",
        "   return head\n",
        "\n",
        "class Palindrome_check:\n",
        "   def is_Palindrome(self, head):\n",
        "      fast,slow = head,head\n",
        "      rev = None\n",
        "      flag = 1\n",
        "      if not head:\n",
        "         return True\n",
        "\n",
        "      while fast and fast.next:\n",
        "         if not fast.next.next:\n",
        "            flag = 0\n",
        "            break\n",
        "         fast = fast.next.next\n",
        "         temp = slow\n",
        "         slow = slow.next\n",
        "         temp.next = rev\n",
        "         rev = temp\n",
        "\n",
        "      fast = slow.next\n",
        "      slow.next = rev\n",
        "\n",
        "      if flag:\n",
        "         slow = slow.next\n",
        "      while fast and slow:\n",
        "         if fast.data != slow.data:\n",
        "            return False\n",
        "         fast = fast.next\n",
        "         slow = slow.next\n",
        "      return True\n",
        "\n",
        "\n",
        "head = Linked_list([\"R\",\"A\",\"D\",\"A\",\"R\"])\n",
        "obj = Palindrome_check()\n",
        "print(obj.is_Palindrome(head))"
      ],
      "metadata": {
        "colab": {
          "base_uri": "https://localhost:8080/"
        },
        "id": "ITuJsP8PvFr4",
        "outputId": "1f5f6060-c04b-41ba-cb11-3c0ccd34fa92"
      },
      "execution_count": 4,
      "outputs": [
        {
          "output_type": "stream",
          "name": "stdout",
          "text": [
            "True\n"
          ]
        }
      ]
    },
    {
      "cell_type": "markdown",
      "source": [
        "## Question no.5 :-\n",
        "\n",
        " Given a linked list of N nodes such that it may contain a loop.\n",
        "\n",
        "A loop here means that the last node of the link list is connected to the node at position X(1-based index). If the link list does not have any loop, X=0.\n",
        "\n",
        "Remove the loop from the linked list, if it is present, i.e. unlink the last node which is forming the loop.\n",
        "\n",
        "Example 1:\n",
        "\n",
        "Input:\n",
        "\n",
        "N = 3\n",
        "\n",
        "value[] = {1,3,4}\n",
        "\n",
        "X = 2\n",
        "\n",
        "Output:1\n",
        "\n",
        "Explanation:The link list looks like 1 -> 3 -> 4 ^ | |____| A loop is present. If you remove it successfully, the answer will be 1."
      ],
      "metadata": {
        "id": "MVjKPntqvP9H"
      }
    },
    {
      "cell_type": "code",
      "source": [],
      "metadata": {
        "id": "VhhgvOsVvPH2"
      },
      "execution_count": null,
      "outputs": []
    },
    {
      "cell_type": "markdown",
      "source": [
        "Question no.6 :-\n",
        "\n",
        "Given a linked list and two integers M and N. Traverse the linked list such that you retain M nodes then delete next N nodes, continue the same till end of the linked list.\n",
        "\n",
        "Difficulty Level: Rookie\n",
        "\n",
        "Example 1:\n",
        "\n",
        "Input:\n",
        "\n",
        "M = 2, N = 2\n",
        "\n",
        "Linked List: 1->2->3->4->5->6->7->8\n",
        "\n",
        "Output:\n",
        "\n",
        "Linked List: 1->2->5->6"
      ],
      "metadata": {
        "id": "ad7MIIyLvV1O"
      }
    },
    {
      "cell_type": "code",
      "source": [
        "class Node:\n",
        "\n",
        "    def __init__(self, data):\n",
        "        self.data = data\n",
        "        self.next = None\n",
        "\n",
        "class LinkedList:\n",
        "\n",
        "    def __init__(self):\n",
        "        self.head = None\n",
        "\n",
        "    def push(self, new_data):\n",
        "        new_node = Node(new_data)\n",
        "        new_node.next = self.head\n",
        "        self.head = new_node\n",
        "\n",
        "    def printList(self):\n",
        "        temp = self.head\n",
        "        while(temp):\n",
        "            print (temp.data,end=\" \")\n",
        "            temp = temp.next\n",
        "\n",
        "    def skipMdeleteN(self, M, N):\n",
        "        curr = self.head\n",
        "\n",
        "        while(curr):\n",
        "\n",
        "            for count in range(1, M):\n",
        "                if curr is None:\n",
        "                    return\n",
        "                curr = curr.next\n",
        "\n",
        "            if curr is None :\n",
        "                return\n",
        "\n",
        "            t = curr.next\n",
        "            for count in range(1, N+1):\n",
        "                if t is None:\n",
        "                    break\n",
        "                t = t.next\n",
        "\n",
        "            curr.next = t\n",
        "\n",
        "            curr = t\n",
        "\n",
        "\n",
        "llist = LinkedList()\n",
        "M = 2\n",
        "N = 2\n",
        "\n",
        "llist.push(8)\n",
        "llist.push(7)\n",
        "llist.push(6)\n",
        "llist.push(5)\n",
        "llist.push(4)\n",
        "llist.push(3)\n",
        "llist.push(2)\n",
        "llist.push(1)\n",
        "\n",
        "llist.skipMdeleteN(M, N)\n",
        "\n",
        "llist.printList()"
      ],
      "metadata": {
        "colab": {
          "base_uri": "https://localhost:8080/"
        },
        "id": "xBy0Ci1WvZnX",
        "outputId": "ff676bd1-7e76-4f2c-ac9e-b6c822c93b5a"
      },
      "execution_count": 5,
      "outputs": [
        {
          "output_type": "stream",
          "name": "stdout",
          "text": [
            "1 2 5 6 "
          ]
        }
      ]
    },
    {
      "cell_type": "markdown",
      "source": [
        "## Question no.7 :-\n",
        "\n",
        "Given two linked lists, insert nodes of second list into first list at alternate positions of first list. For example, if first list is 5->7->17->13->11 and second is 12->10->2->4->6, the first list should become 5->12->7->10->17->2->13->4->11->6 and second list should become empty. The nodes of second list should only be inserted when there are positions available. For example, if the first list is 1->2->3 and second list is 4->5->6->7->8, then first list should become 1->4->2->5->3->6 and second list to 7->8.\n",
        "\n",
        "Use of extra space is not allowed (Not allowed to create additional nodes), i.e., insertion must be done in-place. Expected time complexity is O(n) where n is number of nodes in first list."
      ],
      "metadata": {
        "id": "Zwvhg0JdvhEu"
      }
    },
    {
      "cell_type": "code",
      "source": [
        "class Node:\n",
        "    def __init__(self, data:int):\n",
        "        self.data = data\n",
        "        self.next = None\n",
        "\n",
        "\n",
        "class LinkedList:\n",
        "    def __init__(self):\n",
        "        self.head = None\n",
        "\n",
        "    def push(self,new_data):\n",
        "        new_node = Node(new_data)\n",
        "        new_node.next = self.head\n",
        "        self.head = new_node\n",
        "\n",
        "    def printList(self):\n",
        "        temp = self.head\n",
        "        while temp != None:\n",
        "            print(temp.data)\n",
        "            temp = temp.next\n",
        "\n",
        "    def merge(self, p, q):\n",
        "        p_curr = p.head\n",
        "        q_curr = q.head\n",
        "\n",
        "        while p_curr != None and q_curr != None:\n",
        "\n",
        "            p_next = p_curr.next\n",
        "            q_next = q_curr.next\n",
        "\n",
        "            q_curr.next = p_next\n",
        "            p_curr.next = q_curr\n",
        "\n",
        "            p_curr = p_next\n",
        "            q_curr = q_next\n",
        "            q.head = q_curr\n",
        "\n",
        "\n",
        "\n",
        "\n",
        "llist1 = LinkedList()\n",
        "llist2 = LinkedList()\n",
        "\n",
        "llist1.push(3)\n",
        "llist1.push(2)\n",
        "llist1.push(1)\n",
        "\n",
        "for i in range(8, 3, -1):\n",
        "    llist2.push(i)\n",
        "\n",
        "print(\"First Linked List:\")\n",
        "llist1.printList()\n",
        "\n",
        "print(\"Second Linked List:\")\n",
        "llist2.printList()\n",
        "\n",
        "llist1.merge(p=llist1, q=llist2)\n",
        "\n",
        "print(\"Modified first linked list:\")\n",
        "llist1.printList()\n",
        "\n",
        "print(\"Modified second linked list:\")\n",
        "llist2.printList()"
      ],
      "metadata": {
        "colab": {
          "base_uri": "https://localhost:8080/"
        },
        "id": "fC7GjkHEvdpH",
        "outputId": "88d237d6-144b-4022-9cac-492bb6066b9d"
      },
      "execution_count": 6,
      "outputs": [
        {
          "output_type": "stream",
          "name": "stdout",
          "text": [
            "First Linked List:\n",
            "1\n",
            "2\n",
            "3\n",
            "Second Linked List:\n",
            "4\n",
            "5\n",
            "6\n",
            "7\n",
            "8\n",
            "Modified first linked list:\n",
            "1\n",
            "4\n",
            "2\n",
            "5\n",
            "3\n",
            "6\n",
            "Modified second linked list:\n",
            "7\n",
            "8\n"
          ]
        }
      ]
    },
    {
      "cell_type": "markdown",
      "source": [
        "## Question no.8 :-\n",
        "\n",
        "Given a singly linked list, find if the linked list is circular or not.\n",
        "\n",
        "A linked list is called circular if it is not NULL-terminated and all nodes are connected in the form of a cycle. Below is an example of a circular linked list."
      ],
      "metadata": {
        "id": "PH-2lkWCvnoO"
      }
    },
    {
      "cell_type": "code",
      "source": [
        "\n",
        "class Node:\n",
        "    def __init__(self, data):\n",
        "        self.data = data\n",
        "        self.next = None\n",
        "\n",
        "class LinkedList:\n",
        "    def __init__(self):\n",
        "        self.head = None\n",
        "\n",
        "    def add_to_front(self, data):\n",
        "        new_node = Node(data)\n",
        "        new_node.next = self.head\n",
        "        self.head = new_node\n",
        "\n",
        "    def is_circular(self):\n",
        "        if self.head is None:\n",
        "            return False\n",
        "        slow = self.head\n",
        "        fast = self.head.next\n",
        "        while fast is not None and fast.next is not None:\n",
        "            if slow == fast:\n",
        "                return True\n",
        "            slow = slow.next\n",
        "            fast = fast.next.next\n",
        "        return False\n",
        "\n",
        "list = LinkedList()\n",
        "\n",
        "list.add_to_front(1)\n",
        "list.add_to_front(2)\n",
        "list.add_to_front(3)\n",
        "list.add_to_front(4)\n",
        "print(list.is_circular())"
      ],
      "metadata": {
        "colab": {
          "base_uri": "https://localhost:8080/"
        },
        "id": "c5fp-1LWvmew",
        "outputId": "d24d71db-a87b-490c-8bca-449616335f45"
      },
      "execution_count": 7,
      "outputs": [
        {
          "output_type": "stream",
          "name": "stdout",
          "text": [
            "False\n"
          ]
        }
      ]
    }
  ]
}