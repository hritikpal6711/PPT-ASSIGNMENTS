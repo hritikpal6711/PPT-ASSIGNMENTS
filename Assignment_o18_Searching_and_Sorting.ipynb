{
  "nbformat": 4,
  "nbformat_minor": 0,
  "metadata": {
    "colab": {
      "provenance": []
    },
    "kernelspec": {
      "name": "python3",
      "display_name": "Python 3"
    },
    "language_info": {
      "name": "python"
    }
  },
  "cells": [
    {
      "cell_type": "markdown",
      "source": [
        "# Assignment 18 - Searching and Sorting"
      ],
      "metadata": {
        "id": "pzT2UINDZ-FS"
      }
    },
    {
      "cell_type": "markdown",
      "source": [
        "# Question 1 -\n",
        "\n",
        "1. **Merge Intervals**\n",
        "\n",
        "Given an array of `intervals` where `intervals[i] = [starti, endi]`, merge all overlapping intervals, and return *an array of the non-overlapping intervals that cover all the intervals in the input*.\n",
        "\n",
        "**Example 1:**\n",
        "\n",
        "```\n",
        "Input: intervals = [[1,3],[2,6],[8,10],[15,18]]\n",
        "Output: [[1,6],[8,10],[15,18]]\n",
        "Explanation: Since intervals [1,3] and [2,6] overlap, merge them into [1,6].\n",
        "\n",
        "```\n",
        "\n",
        "**Example 2:**\n",
        "\n",
        "```\n",
        "Input: intervals = [[1,4],[4,5]]\n",
        "Output: [[1,5]]\n",
        "Explanation: Intervals [1,4] and [4,5] are considered overlapping.\n",
        "\n",
        "```\n",
        "\n",
        "**Constraints:**\n",
        "\n",
        "- `1 <= intervals.length <= 10000`\n",
        "- `intervals[i].length == 2`\n",
        "- `0 <= starti <= endi <= 10000`\n"
      ],
      "metadata": {
        "id": "0tvQQMiQaVvj"
      }
    },
    {
      "cell_type": "code",
      "source": [
        "def merge_intervals(intervals):\n",
        "\n",
        "    intervals.sort(key=lambda x: x[0])\n",
        "\n",
        "    merged = []\n",
        "\n",
        "    for interval in intervals:\n",
        "        if not merged or interval[0] > merged[-1][1]:\n",
        "\n",
        "            merged.append(interval)\n",
        "        else:\n",
        "\n",
        "            merged[-1][1] = max(merged[-1][1], interval[1])\n",
        "\n",
        "    return merged\n",
        "\n",
        "intervals1 = [[1, 3], [2, 6], [8, 10], [15, 18]]\n",
        "print(merge_intervals(intervals1))\n",
        "\n",
        "\n",
        "intervals2 = [[1, 4], [4, 5]]\n",
        "print(merge_intervals(intervals2))"
      ],
      "metadata": {
        "colab": {
          "base_uri": "https://localhost:8080/"
        },
        "id": "OjEb_TY-alst",
        "outputId": "9fcf3789-9c40-494c-e345-8105162722aa"
      },
      "execution_count": 1,
      "outputs": [
        {
          "output_type": "stream",
          "name": "stdout",
          "text": [
            "[[1, 6], [8, 10], [15, 18]]\n",
            "[[1, 5]]\n"
          ]
        }
      ]
    },
    {
      "cell_type": "markdown",
      "source": [
        "# Question 2 -\n",
        "\n",
        "💡 2. **Sort Colors**\n",
        "\n",
        "Given an array `nums` with `n` objects colored red, white, or blue, sort them **[in-place](https://en.wikipedia.org/wiki/In-place_algorithm)** so that objects of the same color are adjacent, with the colors in the order red, white, and blue.\n",
        "\n",
        "We will use the integers `0`, `1`, and `2` to represent the color red, white, and blue, respectively.\n",
        "\n",
        "You must solve this problem without using the library's sort function.\n",
        "\n",
        "**Example 1:**\n",
        "\n",
        "```\n",
        "Input: nums = [2,0,2,1,1,0]\n",
        "Output: [0,0,1,1,2,2]\n",
        "\n",
        "```\n",
        "\n",
        "**Example 2:**\n",
        "\n",
        "```\n",
        "Input: nums = [2,0,1]\n",
        "Output: [0,1,2]\n",
        "\n",
        "```\n",
        "\n",
        "**Constraints:**\n",
        "\n",
        "- `n == nums.length`\n",
        "- `1 <= n <= 300`\n",
        "- `nums[i]` is either `0`, `1`, or `2`."
      ],
      "metadata": {
        "id": "VINACOEhbIl4"
      }
    },
    {
      "cell_type": "code",
      "source": [
        "def sortColors(nums):\n",
        "    low = 0\n",
        "    mid = 0\n",
        "    high = len(nums) - 1\n",
        "\n",
        "    while mid <= high:\n",
        "        if nums[mid] == 0:\n",
        "            nums[low], nums[mid] = nums[mid], nums[low]\n",
        "            low += 1\n",
        "            mid += 1\n",
        "        elif nums[mid] == 1:\n",
        "            mid += 1\n",
        "        else:\n",
        "            nums[mid], nums[high] = nums[high], nums[mid]\n",
        "            high -= 1\n",
        "\n",
        "\n",
        "nums1 = [2, 0, 2, 1, 1, 0]\n",
        "sortColors(nums1)\n",
        "print(nums1)\n",
        "\n",
        "\n",
        "nums2 = [2, 0, 1]\n",
        "sortColors(nums2)\n",
        "print(nums2)\n",
        "\n"
      ],
      "metadata": {
        "colab": {
          "base_uri": "https://localhost:8080/"
        },
        "id": "tRwGG4GXa8ay",
        "outputId": "8c9438be-ed51-4c00-ca9c-34443ba937cd"
      },
      "execution_count": 2,
      "outputs": [
        {
          "output_type": "stream",
          "name": "stdout",
          "text": [
            "[0, 0, 1, 1, 2, 2]\n",
            "[0, 1, 2]\n"
          ]
        }
      ]
    },
    {
      "cell_type": "markdown",
      "source": [
        "# Question 3 -\n",
        "<aside>\n",
        "💡 3. **First Bad Version Solution**\n",
        "\n",
        "You are a product manager and currently leading a team to develop a new product. Unfortunately, the latest version of your product fails the quality check. Since each version is developed based on the previous version, all the versions after a bad version are also bad.\n",
        "\n",
        "Suppose you have `n` versions `[1, 2, ..., n]` and you want to find out the first bad one, which causes all the following ones to be bad.\n",
        "\n",
        "You are given an API `bool isBadVersion(version)` which returns whether `version` is bad. Implement a function to find the first bad version. You should minimize the number of calls to the API.\n",
        "\n",
        "**Example 1:**\n",
        "\n",
        "```\n",
        "Input: n = 5, bad = 4\n",
        "Output: 4\n",
        "Explanation:\n",
        "call isBadVersion(3) -> false\n",
        "call isBadVersion(5) -> true\n",
        "call isBadVersion(4) -> true\n",
        "Then 4 is the first bad version.\n",
        "\n",
        "```\n",
        "\n",
        "**Example 2:**\n",
        "\n",
        "```\n",
        "Input: n = 1, bad = 1\n",
        "Output: 1\n",
        "\n",
        "```\n",
        "\n",
        "**Constraints:**\n",
        "\n",
        "- `1 <= bad <= n <= 2^31 - 1`\n",
        "</aside>"
      ],
      "metadata": {
        "id": "Ah9SGNlFciOr"
      }
    },
    {
      "cell_type": "code",
      "source": [
        "bad = 0\n",
        "\n",
        "def isBadVersion(version):\n",
        "   if version >= bad:\n",
        "      return True\n",
        "   return False\n",
        "\n",
        "class checkVersion:\n",
        "   def firstBadVersion(self,n):\n",
        "      if n <2:\n",
        "         return n\n",
        "      start = 1\n",
        "      end = n\n",
        "      while(start<=end):\n",
        "         mid = (start+end)//2\n",
        "         if isBadVersion(mid) and not isBadVersion(mid-1):\n",
        "            return mid\n",
        "         elif isBadVersion(mid-1):\n",
        "            end = mid-1\n",
        "         else:\n",
        "            start = mid+1\n",
        "\n",
        "\n",
        "\n",
        "obj2 = checkVersion()\n",
        "bad = 3\n",
        "n = 7\n",
        "print(obj2.firstBadVersion(n))"
      ],
      "metadata": {
        "colab": {
          "base_uri": "https://localhost:8080/"
        },
        "id": "6fSBJmA-ceSU",
        "outputId": "89a3c7ef-8d94-42c5-f3e3-37e2c02bf7c6"
      },
      "execution_count": 3,
      "outputs": [
        {
          "output_type": "stream",
          "name": "stdout",
          "text": [
            "3\n"
          ]
        }
      ]
    },
    {
      "cell_type": "markdown",
      "source": [
        "# Question 4 -\n",
        "<aside>\n",
        "💡 4. **Maximum Gap**\n",
        "\n",
        "Given an integer array `nums`, return *the maximum difference between two successive elements in its sorted form*. If the array contains less than two elements, return `0`.\n",
        "\n",
        "You must write an algorithm that runs in linear time and uses linear extra space.\n",
        "\n",
        "**Example 1:**\n",
        "\n",
        "```\n",
        "Input: nums = [3,6,9,1]\n",
        "Output: 3\n",
        "Explanation: The sorted form of the array is [1,3,6,9], either (3,6) or (6,9) has the maximum difference 3.\n",
        "\n",
        "```\n",
        "\n",
        "**Example 2:**\n",
        "\n",
        "```\n",
        "Input: nums = [10]\n",
        "Output: 0\n",
        "Explanation: The array contains less than 2 elements, therefore return 0.\n",
        "\n",
        "```\n",
        "\n",
        "**Constraints:**\n",
        "\n",
        "- `1 <= nums.length <= 10^5`\n",
        "- `0 <= nums[i] <= 10^9`\n",
        "</aside>"
      ],
      "metadata": {
        "id": "JnMtSBVMe1sj"
      }
    },
    {
      "cell_type": "code",
      "source": [
        "def maximumGap(nums):\n",
        "    if len(nums) < 2:\n",
        "        return 0\n",
        "\n",
        "\n",
        "    max_num = max(nums)\n",
        "\n",
        "\n",
        "    exp = 1\n",
        "    while max_num // exp > 0:\n",
        "        countingSort(nums, exp)\n",
        "        exp *= 10\n",
        "\n",
        "\n",
        "    max_gap = 0\n",
        "    for i in range(1, len(nums)):\n",
        "        max_gap = max(max_gap, nums[i] - nums[i-1])\n",
        "\n",
        "    return max_gap\n",
        "\n",
        "\n",
        "def countingSort(nums, exp):\n",
        "    n = len(nums)\n",
        "    output = [0] * n\n",
        "    count = [0] * 10\n",
        "\n",
        "\n",
        "    for i in range(n):\n",
        "        digit = (nums[i] // exp) % 10\n",
        "        count[digit] += 1\n",
        "\n",
        "\n",
        "    for i in range(1, 10):\n",
        "        count[i] += count[i-1]\n",
        "\n",
        "\n",
        "    for i in range(n-1, -1, -1):\n",
        "        digit = (nums[i] // exp) % 10\n",
        "        output[count[digit] - 1] = nums[i]\n",
        "        count[digit] -= 1\n",
        "\n",
        "\n",
        "    for i in range(n):\n",
        "        nums[i] = output[i]\n",
        "\n",
        "\n",
        "nums1 = [3, 6, 9, 1]\n",
        "print(maximumGap(nums1))\n",
        "\n",
        "nums2 = [10]\n",
        "print(maximumGap(nums2))\n"
      ],
      "metadata": {
        "colab": {
          "base_uri": "https://localhost:8080/"
        },
        "id": "mmIJEd0YfBU8",
        "outputId": "51c6b18a-7896-4f32-8387-586df3be4c13"
      },
      "execution_count": 4,
      "outputs": [
        {
          "output_type": "stream",
          "name": "stdout",
          "text": [
            "3\n",
            "0\n"
          ]
        }
      ]
    },
    {
      "cell_type": "markdown",
      "source": [
        "# Question 5 -\n",
        "<aside>\n",
        "💡 5. **Contains Duplicate**\n",
        "\n",
        "Given an integer array `nums`, return `true` if any value appears **at least twice** in the array, and return `false` if every element is distinct.\n",
        "\n",
        "**Example 1:**\n",
        "\n",
        "```\n",
        "Input: nums = [1,2,3,1]\n",
        "Output: true\n",
        "\n",
        "```\n",
        "\n",
        "**Example 2:**\n",
        "\n",
        "```\n",
        "Input: nums = [1,2,3,4]\n",
        "Output: false\n",
        "\n",
        "```\n",
        "\n",
        "**Example 3:**\n",
        "\n",
        "```\n",
        "Input: nums = [1,1,1,3,3,4,3,2,4,2]\n",
        "Output: true\n",
        "\n",
        "```\n",
        "\n",
        "**Constraints:**\n",
        "\n",
        "- `1 <= nums.length <= 10^5`\n",
        "- `109 <= nums[i] <= 10^9`\n",
        "</aside>"
      ],
      "metadata": {
        "id": "QZiXl91JgxF4"
      }
    },
    {
      "cell_type": "code",
      "source": [
        "class Clone:\n",
        "    def is_clone(self,nums):\n",
        "        nums.sort()\n",
        "        for i in range(len(nums)-1):\n",
        "            if nums[i]==nums[i+1]:\n",
        "                return True\n",
        "        return False\n",
        "\n",
        "\n",
        "obj4 = Clone()\n",
        "nums = [1,2,3,1]\n",
        "print(obj4.is_clone(nums))"
      ],
      "metadata": {
        "colab": {
          "base_uri": "https://localhost:8080/"
        },
        "id": "8Y2k5d-ugs7p",
        "outputId": "b4d1f32b-c449-4199-e82a-c97ae8a86ce5"
      },
      "execution_count": 5,
      "outputs": [
        {
          "output_type": "stream",
          "name": "stdout",
          "text": [
            "True\n"
          ]
        }
      ]
    },
    {
      "cell_type": "markdown",
      "source": [
        "# Question 6 -\n",
        "<aside>\n",
        "💡 6. **Minimum Number of Arrows to Burst Balloons**\n",
        "\n",
        "There are some spherical balloons taped onto a flat wall that represents the XY-plane. The balloons are represented as a 2D integer array `points` where `points[i] = [xstart, xend]` denotes a balloon whose **horizontal diameter** stretches between `xstart` and `xend`. You do not know the exact y-coordinates of the balloons.\n",
        "\n",
        "Arrows can be shot up **directly vertically** (in the positive y-direction) from different points along the x-axis. A balloon with `xstart` and `xend` is **burst** by an arrow shot at `x` if `xstart <= x <= xend`. There is **no limit** to the number of arrows that can be shot. A shot arrow keeps traveling up infinitely, bursting any balloons in its path.\n",
        "\n",
        "Given the array `points`, return *the **minimum** number of arrows that must be shot to burst all balloons*.\n",
        "\n",
        "**Example 1:**\n",
        "\n",
        "Input: points = [[10,16],[2,8],[1,6],[7,12]]\n",
        "\n",
        "Output: 2\n",
        "\n",
        "Explanation: The balloons can be burst by 2 arrows:\n",
        "\n",
        "- Shoot an arrow at x = 6, bursting the balloons [2,8] and [1,6].\n",
        "\n",
        "- Shoot an arrow at x = 11, bursting the balloons [10,16] and [7,12].\n",
        "\n",
        "</aside>"
      ],
      "metadata": {
        "id": "Aqfg4TnlhJHZ"
      }
    },
    {
      "cell_type": "code",
      "source": [
        "class Burst_Balloons:\n",
        "    def find_arrows(self,s):\n",
        "        s.sort(key = lambda i: i[1])\n",
        "        k = 1\n",
        "        aim = s.pop(0)[1]\n",
        "\n",
        "        for i in s:\n",
        "            if i[0] > aim:\n",
        "                aim = i[1]\n",
        "                k += 1\n",
        "        return k\n",
        "\n",
        "\n",
        "obj5 = Burst_Balloons()\n",
        "s = [[10,16],[2,8],[1,6],[7,12]]\n",
        "print(obj5.find_arrows(s))"
      ],
      "metadata": {
        "colab": {
          "base_uri": "https://localhost:8080/"
        },
        "id": "Dc2xt8EihHAK",
        "outputId": "d9adb523-a726-4dcb-c3ca-d9445ddbb228"
      },
      "execution_count": 6,
      "outputs": [
        {
          "output_type": "stream",
          "name": "stdout",
          "text": [
            "2\n"
          ]
        }
      ]
    },
    {
      "cell_type": "markdown",
      "source": [
        "# Question 7 -\n",
        "\n",
        "Longest Increasing Subsequence\n",
        "\n",
        "Given an integer array nums, return the length of the longest strictly increasing**\n",
        "\n",
        "*subsequence*\n",
        "\n",
        "Example 1:\n",
        "\n",
        "Input: nums = [10,9,2,5,3,7,101,18]\n",
        "\n",
        "Output: 4\n",
        "\n",
        "Explanation: The longest increasing subsequence is [2,3,7,101], therefore the length is 4."
      ],
      "metadata": {
        "id": "dF5RHFKrhf7u"
      }
    },
    {
      "cell_type": "code",
      "source": [
        "class Longest_Ss:\n",
        "    def long_Ss(self,nums):\n",
        "        S = [1] * len(nums)\n",
        "\n",
        "        for i in range(len(nums)-1, -1, -1):\n",
        "            for j in range(i+1, len(nums)):\n",
        "                if nums[i] < nums[j]:\n",
        "                    S[i] = max(S[i],1+S[j])\n",
        "        return max(S)\n",
        "\n",
        "\n",
        "obj6 = Longest_Ss()\n",
        "nums = [10,9,2,5,3,7,101,18]\n",
        "print(obj6.long_Ss(nums))\n",
        ""
      ],
      "metadata": {
        "colab": {
          "base_uri": "https://localhost:8080/"
        },
        "id": "HNf8B2RkheRP",
        "outputId": "b97c53ab-23ff-4d4d-f223-5511e2738ded"
      },
      "execution_count": 7,
      "outputs": [
        {
          "output_type": "stream",
          "name": "stdout",
          "text": [
            "4\n"
          ]
        }
      ]
    },
    {
      "cell_type": "markdown",
      "source": [
        "# Question 8 -\n",
        "<aside>\n",
        "💡 8. **132 Pattern**\n",
        "\n",
        "Given an array of `n` integers `nums`, a **132 pattern** is a subsequence of three integers `nums[i]`, `nums[j]` and `nums[k]` such that `i < j < k` and `nums[i] < nums[k] < nums[j]`.\n",
        "\n",
        "Return `true` *if there is a **132 pattern** in* `nums`*, otherwise, return* `false`*.*\n",
        "\n",
        "**Example 1:**\n",
        "\n",
        "Input: nums = [1,2,3,4]\n",
        "\n",
        "Output: false\n",
        "\n",
        "Explanation: There is no 132 pattern in the sequence.\n",
        "\n",
        "</aside>"
      ],
      "metadata": {
        "id": "E5mUeHkOhw-_"
      }
    },
    {
      "cell_type": "code",
      "source": [
        "def find132pattern(nums):\n",
        "    stack = []\n",
        "    second_max = float('-inf')\n",
        "\n",
        "    for i in range(len(nums)-1, -1, -1):\n",
        "        if nums[i] < second_max:\n",
        "            return True\n",
        "\n",
        "        while stack and nums[i] > stack[-1]:\n",
        "            second_max = max(second_max, stack.pop())\n",
        "\n",
        "        stack.append(nums[i])\n",
        "\n",
        "    return False\n",
        "\n",
        "\n",
        "nums = [1, 2, 3, 4]\n",
        "print(find132pattern(nums))\n"
      ],
      "metadata": {
        "colab": {
          "base_uri": "https://localhost:8080/"
        },
        "id": "mmRXXOO5hwTY",
        "outputId": "eded44d0-1cad-4e75-f9bf-03bc51455107"
      },
      "execution_count": 8,
      "outputs": [
        {
          "output_type": "stream",
          "name": "stdout",
          "text": [
            "False\n"
          ]
        }
      ]
    }
  ]
}