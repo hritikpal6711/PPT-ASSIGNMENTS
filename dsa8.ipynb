{
 "cells": [
  {
   "cell_type": "markdown",
   "id": "4c20b055",
   "metadata": {},
   "source": [
    "<aside>\n",
    "💡 **Question 1**\n",
    "\n",
    "Given two strings s1 and s2, return *the lowest **ASCII** sum of deleted characters to make two strings equal*.\n",
    "\n",
    "</aside>"
   ]
  },
  {
   "cell_type": "code",
   "execution_count": 1,
   "id": "0cede6e9",
   "metadata": {},
   "outputs": [],
   "source": [
    "def minimumDeleteSum(s1, s2):\n",
    "    m, n = len(s1), len(s2)\n",
    "    dp = [[0] * (n + 1) for _ in range(m + 1)]\n",
    "\n",
    "    for i in range(1, m + 1):\n",
    "        dp[i][0] = dp[i - 1][0] + ord(s1[i - 1])\n",
    "\n",
    "    for j in range(1, n + 1):\n",
    "        dp[0][j] = dp[0][j - 1] + ord(s2[j - 1])\n",
    "\n",
    "    for i in range(1, m + 1):\n",
    "        for j in range(1, n + 1):\n",
    "            if s1[i - 1] == s2[j - 1]:\n",
    "                dp[i][j] = dp[i - 1][j - 1]\n",
    "            else:\n",
    "                dp[i][j] = min(dp[i - 1][j] + ord(s1[i - 1]), dp[i][j - 1] + ord(s2[j - 1]))\n",
    "\n",
    "    return dp[m][n]\n"
   ]
  },
  {
   "cell_type": "code",
   "execution_count": 2,
   "id": "4ac2273d",
   "metadata": {},
   "outputs": [
    {
     "data": {
      "text/plain": [
       "231"
      ]
     },
     "execution_count": 2,
     "metadata": {},
     "output_type": "execute_result"
    }
   ],
   "source": [
    "minimumDeleteSum(s1 = \"sea\", s2 = \"eat\")"
   ]
  },
  {
   "cell_type": "markdown",
   "id": "b7dcecb3",
   "metadata": {},
   "source": [
    "<aside>\n",
    "💡 **Question 2**\n",
    "\n",
    "Given a string s containing only three types of characters: '(', ')' and '*', return true *if* s *is **valid***.\n",
    "\n",
    "The following rules define a **valid** string:\n",
    "\n",
    "- Any left parenthesis '(' must have a corresponding right parenthesis ')'.\n",
    "- Any right parenthesis ')' must have a corresponding left parenthesis '('.\n",
    "- Left parenthesis '(' must go before the corresponding right parenthesis ')'.\n",
    "- '*' could be treated as a single right parenthesis ')' or a single left parenthesis '(' or an empty string \"\".\n",
    "</aside>"
   ]
  },
  {
   "cell_type": "code",
   "execution_count": 3,
   "id": "33b721ba",
   "metadata": {},
   "outputs": [],
   "source": [
    "def checkValidString(s):\n",
    "    stack = []\n",
    "\n",
    "    for c in s:\n",
    "        if c == '(' or c == '*':\n",
    "            stack.append(c)\n",
    "        else:  # c == ')'\n",
    "            if stack and stack[-1] == '(':\n",
    "                stack.pop()\n",
    "            elif stack and stack[-1] == '*':\n",
    "                stack.pop()\n",
    "            else:\n",
    "                return False\n",
    "\n",
    "    while stack:\n",
    "        if stack[-1] == '(':\n",
    "            stack.pop()\n",
    "        else:\n",
    "            stack.pop()\n",
    "            if not stack:\n",
    "                break\n",
    "\n",
    "    return not stack\n"
   ]
  },
  {
   "cell_type": "code",
   "execution_count": 4,
   "id": "95ef2f3a",
   "metadata": {},
   "outputs": [
    {
     "data": {
      "text/plain": [
       "True"
      ]
     },
     "execution_count": 4,
     "metadata": {},
     "output_type": "execute_result"
    }
   ],
   "source": [
    "checkValidString(s=\"()\")"
   ]
  },
  {
   "cell_type": "markdown",
   "id": "d1b5558b",
   "metadata": {},
   "source": [
    "<aside>\n",
    "💡 **Question 3**\n",
    "\n",
    "Given two strings word1 and word2, return *the minimum number of **steps** required to make* word1 *and* word2 *the same*.\n",
    "\n",
    "In one **step**, you can delete exactly one character in either string.\n",
    "\n",
    "</aside>"
   ]
  },
  {
   "cell_type": "code",
   "execution_count": 5,
   "id": "733b4dbb",
   "metadata": {},
   "outputs": [],
   "source": [
    "def minDistance(word1, word2):\n",
    "    m, n = len(word1), len(word2)\n",
    "    dp = [[0] * (n + 1) for _ in range(m + 1)]\n",
    "\n",
    "    for i in range(1, m + 1):\n",
    "        dp[i][0] = i\n",
    "\n",
    "    for j in range(1, n + 1):\n",
    "        dp[0][j] = j\n",
    "\n",
    "    for i in range(1, m + 1):\n",
    "        for j in range(1, n + 1):\n",
    "            if word1[i - 1] == word2[j - 1]:\n",
    "                dp[i][j] = dp[i - 1][j - 1]\n",
    "            else:\n",
    "                dp[i][j] = min(dp[i - 1][j] + 1, dp[i][j - 1] + 1)\n",
    "\n",
    "    return dp[m][n]\n"
   ]
  },
  {
   "cell_type": "code",
   "execution_count": 6,
   "id": "c3da948e",
   "metadata": {},
   "outputs": [
    {
     "data": {
      "text/plain": [
       "2"
      ]
     },
     "execution_count": 6,
     "metadata": {},
     "output_type": "execute_result"
    }
   ],
   "source": [
    "minDistance( word1 = \"sea\", word2 = \"eat\")"
   ]
  },
  {
   "cell_type": "markdown",
   "id": "393c9cb5",
   "metadata": {},
   "source": [
    "<aside>\n",
    "💡 **Question 4**\n",
    "\n",
    "You need to construct a binary tree from a string consisting of parenthesis and integers.\n",
    "\n",
    "The whole input represents a binary tree. It contains an integer followed by zero, one or two pairs of parenthesis. The integer represents the root's value and a pair of parenthesis contains a child binary tree with the same structure.\n",
    "You always start to construct the **left** child node of the parent first if it exists.\n",
    "\n",
    "</aside>"
   ]
  },
  {
   "cell_type": "code",
   "execution_count": 8,
   "id": "b45086ec",
   "metadata": {},
   "outputs": [
    {
     "name": "stdout",
     "output_type": "stream",
     "text": [
      "4\n",
      "2\n",
      "3\n",
      "1\n",
      "6\n",
      "5\n"
     ]
    }
   ],
   "source": [
    "class TreeNode:\n",
    "    def __init__(self, value):\n",
    "        self.val = value\n",
    "        self.left = None\n",
    "        self.right = None\n",
    "\n",
    "def constructTree(s):\n",
    "    if not s:\n",
    "        return None\n",
    "\n",
    "    index = s.find('(')\n",
    "    if index == -1:\n",
    "        root_val = int(s)\n",
    "        return TreeNode(root_val)\n",
    "\n",
    "    root_val = int(s[:index])\n",
    "    root = TreeNode(root_val)\n",
    "\n",
    "    count = 0\n",
    "    left_start = index\n",
    "    for i in range(index, len(s)):\n",
    "        if s[i] == '(':\n",
    "            count += 1\n",
    "        elif s[i] == ')':\n",
    "            count -= 1\n",
    "\n",
    "        if count == 0:\n",
    "            if left_start == index:\n",
    "                left_child_str = s[index + 1:i]\n",
    "                root.left = constructTree(left_child_str)\n",
    "                left_start = i + 1\n",
    "            else:\n",
    "                right_child_str = s[left_start + 1:i]\n",
    "                root.right = constructTree(right_child_str)\n",
    "\n",
    "    return root\n",
    "\n",
    "def printTree(node):\n",
    "    if node is None:\n",
    "        return\n",
    "    print(node.val)\n",
    "    printTree(node.left)\n",
    "    printTree(node.right)\n",
    "\n",
    "\n",
    "\n",
    "input_string = \"4(2(3)(1))(6(5))\"\n",
    "root = constructTree(input_string)\n",
    "printTree(root)\n",
    "# Print the constructed binary tree using pre-order traversal\n"
   ]
  },
  {
   "cell_type": "markdown",
   "id": "7c475efa",
   "metadata": {},
   "source": [
    "<aside>\n",
    "💡 **Question 6**\n",
    "\n",
    "Given two strings s and p, return *an array of all the start indices of* p*'s anagrams in* s. You may return the answer in **any order**.\n",
    "\n",
    "An **Anagram** is a word or phrase formed by rearranging the letters of a different word or phrase, typically using all the original letters exactly once.\n",
    "\n",
    "</aside>"
   ]
  },
  {
   "cell_type": "code",
   "execution_count": 9,
   "id": "3cfd299b",
   "metadata": {},
   "outputs": [],
   "source": [
    "from collections import Counter\n",
    "\n",
    "def findAnagrams(s, p):\n",
    "    result = []\n",
    "    p_count = Counter(p)\n",
    "    window_count = Counter()\n",
    "\n",
    "    left = right = 0\n",
    "    while right < len(s):\n",
    "        window_count[s[right]] += 1\n",
    "\n",
    "        if right - left + 1 == len(p):\n",
    "            if p_count == window_count:\n",
    "                result.append(left)\n",
    "\n",
    "            window_count[s[left]] -= 1\n",
    "            if window_count[s[left]] == 0:\n",
    "                del window_count[s[left]]\n",
    "            left += 1\n",
    "\n",
    "        right += 1\n",
    "\n",
    "    return result\n"
   ]
  },
  {
   "cell_type": "code",
   "execution_count": 10,
   "id": "cca53bf5",
   "metadata": {},
   "outputs": [
    {
     "data": {
      "text/plain": [
       "[0, 6]"
      ]
     },
     "execution_count": 10,
     "metadata": {},
     "output_type": "execute_result"
    }
   ],
   "source": [
    "findAnagrams( s = \"cbaebabacd\", p = \"abc\")"
   ]
  },
  {
   "cell_type": "markdown",
   "id": "e115b4d1",
   "metadata": {},
   "source": [
    "<aside>\n",
    "💡 **Question 8**\n",
    "\n",
    "Given two strings s and goal, return true *if you can swap two letters in* s *so the result is equal to* goal*, otherwise, return* false*.*\n",
    "\n",
    "Swapping letters is defined as taking two indices i and j (0-indexed) such that i != j and swapping the characters at s[i] and s[j].\n",
    "\n",
    "- For example, swapping at indices 0 and 2 in \"abcd\" results in \"cbad\".\n",
    "</aside>"
   ]
  },
  {
   "cell_type": "code",
   "execution_count": 15,
   "id": "2c178ac7",
   "metadata": {},
   "outputs": [],
   "source": [
    "def buddyStrings(s, goal):\n",
    "    mismatch_indices = []\n",
    "    common_chars = []\n",
    "\n",
    "    for i in range(len(s)):\n",
    "        if s[i] != goal[i]:\n",
    "            mismatch_indices.append(i)\n",
    "        else:\n",
    "            common_chars.append(s[i])\n",
    "\n",
    "    if len(mismatch_indices) != 2:\n",
    "        return False\n",
    "\n",
    "    if s[mismatch_indices[0]] == goal[mismatch_indices[1]] and s[mismatch_indices[1]] == goal[mismatch_indices[0]]:\n",
    "        return True\n",
    "\n",
    "    if not mismatch_indices and len(common_chars) >= 2:\n",
    "        return True\n",
    "\n",
    "    return False\n"
   ]
  },
  {
   "cell_type": "code",
   "execution_count": 16,
   "id": "675a6f97",
   "metadata": {},
   "outputs": [
    {
     "data": {
      "text/plain": [
       "True"
      ]
     },
     "execution_count": 16,
     "metadata": {},
     "output_type": "execute_result"
    }
   ],
   "source": [
    "buddyStrings(s = \"abcd\",goal = \"cbad\")"
   ]
  },
  {
   "cell_type": "code",
   "execution_count": null,
   "id": "a41eee22",
   "metadata": {},
   "outputs": [],
   "source": []
  }
 ],
 "metadata": {
  "kernelspec": {
   "display_name": "Python 3 (ipykernel)",
   "language": "python",
   "name": "python3"
  },
  "language_info": {
   "codemirror_mode": {
    "name": "ipython",
    "version": 3
   },
   "file_extension": ".py",
   "mimetype": "text/x-python",
   "name": "python",
   "nbconvert_exporter": "python",
   "pygments_lexer": "ipython3",
   "version": "3.10.4"
  }
 },
 "nbformat": 4,
 "nbformat_minor": 5
}
