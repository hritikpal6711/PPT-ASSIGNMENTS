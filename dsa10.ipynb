{
 "cells": [
  {
   "cell_type": "markdown",
   "id": "709c2707",
   "metadata": {},
   "source": [
    "<aside>\n",
    "💡 **Question 1**\n",
    "\n",
    "Given an integer `n`, return *`true` if it is a power of three. Otherwise, return `false`*.\n",
    "\n",
    "An integer `n` is a power of three, if there exists an integer `x` such that `n == 3x`.\n",
    "\n",
    "</aside>"
   ]
  },
  {
   "cell_type": "code",
   "execution_count": 1,
   "id": "b854e8dc",
   "metadata": {},
   "outputs": [],
   "source": [
    "def isPowerOfThree(n):\n",
    "    if n == 1:\n",
    "        return True\n",
    "    if n <= 0 or n % 3 != 0:\n",
    "        return False\n",
    "    return isPowerOfThree(n // 3)\n"
   ]
  },
  {
   "cell_type": "code",
   "execution_count": 2,
   "id": "a1dace30",
   "metadata": {},
   "outputs": [
    {
     "data": {
      "text/plain": [
       "False"
      ]
     },
     "execution_count": 2,
     "metadata": {},
     "output_type": "execute_result"
    }
   ],
   "source": [
    "isPowerOfThree(15)"
   ]
  },
  {
   "cell_type": "markdown",
   "id": "e0dc7114",
   "metadata": {},
   "source": [
    "<aside>\n",
    "💡 **Question 2**\n",
    "\n",
    "You have a list `arr` of all integers in the range `[1, n]` sorted in a strictly increasing order. Apply the following algorithm on `arr`:\n",
    "\n",
    "- Starting from left to right, remove the first number and every other number afterward until you reach the end of the list.\n",
    "- Repeat the previous step again, but this time from right to left, remove the rightmost number and every other number from the remaining numbers.\n",
    "- Keep repeating the steps again, alternating left to right and right to left, until a single number remains.\n",
    "\n",
    "Given the integer `n`, return *the last number that remains in* `arr`.\n",
    "\n",
    "</aside>"
   ]
  },
  {
   "cell_type": "code",
   "execution_count": 3,
   "id": "45d5c431",
   "metadata": {},
   "outputs": [],
   "source": [
    "def lastRemaining(n):\n",
    "    # Base case: when n is 1, the last remaining number is 1\n",
    "    if n == 1:\n",
    "        return 1\n",
    "    \n",
    "    # If n is odd, the sequence reduces to twice the result of lastRemaining(n//2)\n",
    "    if n % 2 == 1:\n",
    "        return 2 * lastRemaining(n // 2)\n",
    "    \n",
    "    # If n is even, the sequence alternates in a pattern\n",
    "    # For even n, the sequence reduces to 2 * lastRemaining(n // 2) - 1\n",
    "    # For odd n, the sequence reduces to 2 * lastRemaining(n // 2)\n",
    "    return 2 * lastRemaining(n // 2) - 1\n"
   ]
  },
  {
   "cell_type": "code",
   "execution_count": 7,
   "id": "c7386f01",
   "metadata": {},
   "outputs": [
    {
     "data": {
      "text/plain": [
       "1"
      ]
     },
     "execution_count": 7,
     "metadata": {},
     "output_type": "execute_result"
    }
   ],
   "source": [
    "\n",
    "lastRemaining(1)"
   ]
  },
  {
   "cell_type": "markdown",
   "id": "135b2421",
   "metadata": {},
   "source": [
    "<aside>\n",
    "💡 **Question 3**\n",
    "\n",
    "****Given a set represented as a string, write a recursive code to print all subsets of it. The subsets can be printed in any order.\n",
    "\n",
    "</aside>"
   ]
  },
  {
   "cell_type": "code",
   "execution_count": 9,
   "id": "4ab66773",
   "metadata": {},
   "outputs": [],
   "source": [
    "def printSubsets(string, current=\"\", index=0):\n",
    "    if index == len(string):\n",
    "        print(current)\n",
    "        return\n",
    "    \n",
    "    printSubsets(string, current, index + 1)  # Exclude the character at current index\n",
    "    printSubsets(string, current + string[index], index + 1)  # Include the character at current index\n"
   ]
  },
  {
   "cell_type": "code",
   "execution_count": 10,
   "id": "a8ee371b",
   "metadata": {},
   "outputs": [
    {
     "name": "stdout",
     "output_type": "stream",
     "text": [
      "\n",
      "c\n",
      "b\n",
      "bc\n",
      "a\n",
      "ac\n",
      "ab\n",
      "abc\n"
     ]
    }
   ],
   "source": [
    "\n",
    "printSubsets(\"abc\")\n"
   ]
  },
  {
   "cell_type": "markdown",
   "id": "ba18b275",
   "metadata": {},
   "source": [
    "Question4-\n",
    "Given a string calculate length of the string using recursion."
   ]
  },
  {
   "cell_type": "code",
   "execution_count": 14,
   "id": "edc6ffd3",
   "metadata": {},
   "outputs": [],
   "source": [
    "def calculateLength(string):\n",
    "    # Base case: when the string is empty, return 0\n",
    "    if string == \"\":\n",
    "        return 0\n",
    "    \n",
    "    # Recursive case: return 1 (for the current character) + length of the remaining string\n",
    "    return 1 + calculateLength(string[1:])\n"
   ]
  },
  {
   "cell_type": "code",
   "execution_count": 15,
   "id": "c67279bf",
   "metadata": {},
   "outputs": [
    {
     "name": "stdout",
     "output_type": "stream",
     "text": [
      "13\n"
     ]
    }
   ],
   "source": [
    "\n",
    "\n",
    "length = calculateLength(\"GEEKSFORGEEKS\")\n",
    "print(length)  # Output: 13\n"
   ]
  },
  {
   "cell_type": "markdown",
   "id": "a8b84784",
   "metadata": {},
   "source": [
    "<aside>\n",
    "💡 **Question 5**\n",
    "\n",
    "We are given a string S, we need to find count of all contiguous substrings starting and ending with same character.\n",
    "\n",
    "</aside>"
   ]
  },
  {
   "cell_type": "code",
   "execution_count": 16,
   "id": "6700e49e",
   "metadata": {},
   "outputs": [],
   "source": [
    "def countSubstringsWithSameStartAndEnd(S):\n",
    "    count = 0\n",
    "    \n",
    "    def countHelper(left, right):\n",
    "        nonlocal count\n",
    "        \n",
    "        # Base case: when left and right indices are equal, we have a substring with the same start and end\n",
    "        if left == right:\n",
    "            count += 1\n",
    "        \n",
    "        # Recursive case: expand the substring by moving the left and right indices\n",
    "        if left > 0 and right < len(S) - 1:\n",
    "            if S[left - 1] == S[right + 1]:\n",
    "                count += 1\n",
    "                countHelper(left - 1, right + 1)\n",
    "    \n",
    "    # Iterate over each index in the string and start the recursive count\n",
    "    for i in range(len(S)):\n",
    "        countHelper(i, i)\n",
    "    \n",
    "    return count\n"
   ]
  },
  {
   "cell_type": "code",
   "execution_count": 17,
   "id": "dcf2dfa3",
   "metadata": {},
   "outputs": [
    {
     "name": "stdout",
     "output_type": "stream",
     "text": [
      "6\n"
     ]
    }
   ],
   "source": [
    "\n",
    "\n",
    "S = \"abccba\"\n",
    "count = countSubstringsWithSameStartAndEnd(S)\n",
    "print(count)  # Output: 7\n"
   ]
  },
  {
   "cell_type": "markdown",
   "id": "99ea154b",
   "metadata": {},
   "source": [
    "<aside>\n",
    "💡 **Question 6**\n",
    "\n",
    "The [tower of Hanoi](https://en.wikipedia.org/wiki/Tower_of_Hanoi) is a famous puzzle where we have three rods and **N** disks. The objective of the puzzle is to move the entire stack to another rod. You are given the number of discs **N**. Initially, these discs are in the rod 1. You need to print all the steps of discs movement so that all the discs reach the 3rd rod. Also, you need to find the total moves.**Note:** The discs are arranged such that the **top disc is numbered 1** and the **bottom-most disc is numbered N**. Also, all the discs have **different sizes** and a bigger disc **cannot** be put on the top of a smaller disc. Refer the provided link to get a better clarity about the puzzle.\n",
    "\n",
    "</aside>"
   ]
  },
  {
   "cell_type": "code",
   "execution_count": 18,
   "id": "29113566",
   "metadata": {},
   "outputs": [
    {
     "name": "stdout",
     "output_type": "stream",
     "text": [
      "Move disc 1 from rod 1 to rod 3\n",
      "Move disc 2 from rod 1 to rod 2\n",
      "Move disc 1 from rod 3 to rod 2\n",
      "Move disc 3 from rod 1 to rod 3\n",
      "Move disc 1 from rod 2 to rod 1\n",
      "Move disc 2 from rod 2 to rod 3\n",
      "Move disc 1 from rod 1 to rod 3\n",
      "Total moves: 7\n"
     ]
    }
   ],
   "source": [
    "def towerOfHanoi(n, source, auxiliary, destination):\n",
    "    if n == 1:\n",
    "        print(f\"Move disc 1 from rod {source} to rod {destination}\")\n",
    "        return 1\n",
    "    \n",
    "    count = 0\n",
    "    \n",
    "    count += towerOfHanoi(n - 1, source, destination, auxiliary)\n",
    "    \n",
    "    print(f\"Move disc {n} from rod {source} to rod {destination}\")\n",
    "    count += 1\n",
    "    \n",
    "    count += towerOfHanoi(n - 1, auxiliary, source, destination)\n",
    "    \n",
    "    return count\n",
    "\n",
    "# Example usage:\n",
    "n = 3\n",
    "total_moves = towerOfHanoi(n, 1, 2, 3)\n",
    "print(f\"Total moves: {total_moves}\")\n"
   ]
  },
  {
   "cell_type": "markdown",
   "id": "c0b72856",
   "metadata": {},
   "source": [
    "<aside>\n",
    "💡 **Question 7**\n",
    "\n",
    "Given a string, count total number of consonants in it. A consonant is an English alphabet character that is not vowel (a, e, i, o and u). Examples of constants are b, c, d, f, and g.\n",
    "\n",
    "</aside>"
   ]
  },
  {
   "cell_type": "code",
   "execution_count": 21,
   "id": "4acb8c58",
   "metadata": {},
   "outputs": [],
   "source": [
    "def countConsonants(string):\n",
    "    consonants = \"bcdfghjklmnpqrstvwxyzBCDFGHJKLMNPQRSTVWXYZ\"\n",
    "    count = 0\n",
    "    \n",
    "    for char in string:\n",
    "        if char in consonants:\n",
    "            count += 1\n",
    "    \n",
    "    return count\n"
   ]
  },
  {
   "cell_type": "code",
   "execution_count": 22,
   "id": "b48f27c3",
   "metadata": {},
   "outputs": [
    {
     "name": "stdout",
     "output_type": "stream",
     "text": [
      "7\n"
     ]
    }
   ],
   "source": [
    "\n",
    "string = \"Hello World\"\n",
    "consonant_count = countConsonants(string)\n",
    "print(consonant_count)  # Output: 7\n"
   ]
  },
  {
   "cell_type": "code",
   "execution_count": null,
   "id": "6a099c3f",
   "metadata": {},
   "outputs": [],
   "source": []
  }
 ],
 "metadata": {
  "kernelspec": {
   "display_name": "Python 3 (ipykernel)",
   "language": "python",
   "name": "python3"
  },
  "language_info": {
   "codemirror_mode": {
    "name": "ipython",
    "version": 3
   },
   "file_extension": ".py",
   "mimetype": "text/x-python",
   "name": "python",
   "nbconvert_exporter": "python",
   "pygments_lexer": "ipython3",
   "version": "3.10.4"
  }
 },
 "nbformat": 4,
 "nbformat_minor": 5
}
