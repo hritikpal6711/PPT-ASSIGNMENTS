{
  "nbformat": 4,
  "nbformat_minor": 0,
  "metadata": {
    "colab": {
      "provenance": []
    },
    "kernelspec": {
      "name": "python3",
      "display_name": "Python 3"
    },
    "language_info": {
      "name": "python"
    }
  },
  "cells": [
    {
      "cell_type": "markdown",
      "source": [
        "# Assignment 17 - Queues"
      ],
      "metadata": {
        "id": "8pE9ossRNp_l"
      }
    },
    {
      "cell_type": "markdown",
      "source": [
        "# Question no.1 :-\n",
        "\n",
        "Given a string s, find the first non-repeating character in it and return its index. If it does not exist, return -1.\n",
        "\n",
        "Example 1:\n",
        "\n",
        "Input: s = \"loveleetcode\" Output: 2"
      ],
      "metadata": {
        "id": "bqWwqP8sNsI0"
      }
    },
    {
      "cell_type": "code",
      "execution_count": 3,
      "metadata": {
        "colab": {
          "base_uri": "https://localhost:8080/"
        },
        "id": "dTvuO-lhNMVr",
        "outputId": "35222857-902d-483b-ffa2-d9ef25aa8a80"
      },
      "outputs": [
        {
          "output_type": "stream",
          "name": "stdout",
          "text": [
            "0\n"
          ]
        }
      ],
      "source": [
        "def firstUniqChar(s):\n",
        "\n",
        "    char_freq = {}\n",
        "\n",
        "\n",
        "    for char in s:\n",
        "        char_freq[char] = char_freq.get(char, 0) + 1\n",
        "\n",
        "\n",
        "    for i in range(len(s)):\n",
        "        if char_freq[s[i]] == 1:\n",
        "            return i\n",
        "\n",
        "\n",
        "    return -1\n",
        "\n",
        "s = \"zloveleeetcode\"\n",
        "result = firstUniqChar(s)\n",
        "print(result)\n"
      ]
    },
    {
      "cell_type": "markdown",
      "source": [
        "# Question no.2 :-\n",
        "\n",
        "Given a circular integer array nums of length n, return the maximum possible sum of a non-empty subarray of nums.\n",
        "\n",
        "A circular array means the end of the array connects to the beginning of the array. Formally, the next element of nums[i] is nums[(i + 1) % n] and the previous element of nums[i] is nums[(i - 1 + n) % n].\n",
        "\n",
        "A subarray may only include each element of the fixed buffer nums at most once. Formally, for a subarray nums[i], nums[i + 1], ..., nums[j], there does not exist i <= k1, k2 <= j with k1 % n == k2 % n.\n",
        "\n",
        "Example 1:\n",
        "\n",
        "Input: nums = [1,-2,3,-2]\n",
        "\n",
        "Output: 3\n",
        "\n",
        "Explanation: Subarray [3] has maximum sum 3."
      ],
      "metadata": {
        "id": "TF9xXd3IO0SM"
      }
    },
    {
      "cell_type": "code",
      "source": [
        "def maxSubarraySumCircular(nums):\n",
        "\n",
        "    def kadane(arr):\n",
        "        max_sum = float('-inf')\n",
        "        curr_sum = 0\n",
        "        for num in arr:\n",
        "            curr_sum = max(num, curr_sum + num)\n",
        "            max_sum = max(max_sum, curr_sum)\n",
        "        return max_sum\n",
        "\n",
        "    n = len(nums)\n",
        "\n",
        "\n",
        "    max_sum_within = kadane(nums)\n",
        "\n",
        "\n",
        "    total_sum = sum(nums)\n",
        "    inverted_nums = [-num for num in nums]\n",
        "    max_sum_across = total_sum + kadane(inverted_nums)\n",
        "\n",
        "\n",
        "    return max(max_sum_within, max_sum_across) if max_sum_within > 0 else max_sum_within\n",
        "\n",
        "\n",
        "nums = [1, -2, 3, -2]\n",
        "result = maxSubarraySumCircular(nums)\n",
        "print(result)"
      ],
      "metadata": {
        "colab": {
          "base_uri": "https://localhost:8080/"
        },
        "id": "FrbUCuyTOnMc",
        "outputId": "8042407b-0d23-44f6-8718-94a4bc92cb30"
      },
      "execution_count": 4,
      "outputs": [
        {
          "output_type": "stream",
          "name": "stdout",
          "text": [
            "3\n"
          ]
        }
      ]
    },
    {
      "cell_type": "markdown",
      "source": [
        "# Question no.3 :-\n",
        "\n",
        "The school cafeteria offers circular and square sandwiches at lunch break, referred to by numbers 0 and 1 respectively. All students stand in a queue. Each student either prefers square or circular sandwiches.\n",
        "\n",
        "The number of sandwiches in the cafeteria is equal to the number of students. The sandwiches are placed in a stack. At each step:\n",
        "\n",
        "If the student at the front of the queue prefers the sandwich on the top of the stack, they will take it and leave the queue.\n",
        "Otherwise, they will leave it and go to the queue's end.\n",
        "This continues until none of the queue students want to take the top sandwich and are thus unable to eat.\n",
        "\n",
        "You are given two integer arrays students and sandwiches where sandwiches[i] is the type of the ith sandwich in the stack (i = 0 is the top of the stack) and students[j] is the preference of the jth student in the initial queue (j = 0 is the front of the queue). Return the number of students that are unable to eat.\n",
        "\n",
        "Example 1:\n",
        "\n",
        "Input: students = [1,1,1,0,0,1], sandwiches = [1,0,0,0,1,1]\n",
        "\n",
        "Output: 3"
      ],
      "metadata": {
        "id": "Hh_XRin7Pn5i"
      }
    },
    {
      "cell_type": "code",
      "source": [
        "def countStudents(students, sandwiches):\n",
        "    n = len(students)\n",
        "    i = 0\n",
        "    j = 0\n",
        "\n",
        "    while i < n and j < n:\n",
        "        if students[i] == sandwiches[j]:\n",
        "\n",
        "            i += 1\n",
        "            j += 1\n",
        "        else:\n",
        "\n",
        "            i += 1\n",
        "\n",
        "    return n - j\n",
        "\n",
        "\n",
        "students = [1, 1, 1, 0, 0, 1]\n",
        "sandwiches = [1, 0, 0, 0, 1, 1]\n",
        "result = countStudents(students, sandwiches)\n",
        "print(result)\n"
      ],
      "metadata": {
        "colab": {
          "base_uri": "https://localhost:8080/"
        },
        "id": "VEYF-quRPiUi",
        "outputId": "8e021490-8c1e-4ca6-a788-69fc27492d11"
      },
      "execution_count": 6,
      "outputs": [
        {
          "output_type": "stream",
          "name": "stdout",
          "text": [
            "3\n"
          ]
        }
      ]
    },
    {
      "cell_type": "markdown",
      "source": [
        "# Question no.4 :-\n",
        "\n",
        "You have a RecentCounter class which counts the number of recent requests within a certain time frame.\n",
        "\n",
        "Implement the RecentCounter class:\n",
        "\n",
        "RecentCounter() Initializes the counter with zero recent requests.\n",
        "\n",
        "int ping(int t) Adds a new request at time t, where t represents some time in milliseconds, and returns the number of requests that has happened in the past 3000 milliseconds (including the new request). Specifically, return the number of requests that have happened in the inclusive range [t - 3000, t].\n",
        "\n",
        "It is guaranteed that every call to ping uses a strictly larger value of t than the previous call.\n",
        "\n",
        "Input\n",
        "\n",
        "[\"RecentCounter\", \"ping\", \"ping\", \"ping\", \"ping\"]\n",
        "\n",
        "[[], [1], [100], [3001], [3002]]\n",
        "\n",
        "Output\n",
        "\n",
        "[null, 1, 2, 3, 3]\n",
        "\n",
        "Explanation\n",
        "\n",
        "RecentCounter recentCounter = new RecentCounter();\n",
        "\n",
        "\n",
        "recentCounter.ping(1);     // requests = [1], range is [-2999,1], return 1\n",
        "\n",
        "recentCounter.ping(100);   // requests = [1,100], range is [-2900,100], return 2\n",
        "\n",
        "recentCounter.ping(3001);  // requests = [1,100,3001], range is [1,3001], return 3\n",
        "\n",
        "recentCounter.ping(3002);  // requests = [1,100,3001,3002], range is [2,3002], return 3"
      ],
      "metadata": {
        "id": "cPQJOoN0RCM0"
      }
    },
    {
      "cell_type": "code",
      "source": [
        "class RecentCounter:\n",
        "    def __init__(self):\n",
        "        self.requests = []\n",
        "\n",
        "    def ping(self, t: int) -> int:\n",
        "        self.requests.append(t)\n",
        "        start_time = t - 3000\n",
        "        count = 0\n",
        "        for request in self.requests:\n",
        "            if request >= start_time:\n",
        "                count += 1\n",
        "        return count\n",
        "\n",
        "# Example usage:\n",
        "recentCounter = RecentCounter()\n",
        "print(recentCounter.ping(1))\n",
        "print(recentCounter.ping(100))\n",
        "print(recentCounter.ping(3001))\n",
        "print(recentCounter.ping(3002))\n"
      ],
      "metadata": {
        "id": "dQfUuv-NQ7_a"
      },
      "execution_count": null,
      "outputs": []
    },
    {
      "cell_type": "markdown",
      "source": [
        "# Question no.5 :-\n",
        "\n",
        "There are n friends that are playing a game. The friends are sitting in a circle and are numbered from 1 to n in clockwise order. More formally, moving clockwise from the ith friend brings you to the (i+1)th friend for 1 <= i < n, and moving clockwise from the nth friend brings you to the 1st friend.\n",
        "\n",
        "The rules of the game are as follows:\n",
        "\n",
        "Start at the 1st friend.\n",
        "\n",
        "Count the next k friends in the clockwise direction including the friend you started at. The counting wraps around the circle and may count some friends more than once.\n",
        "\n",
        "The last friend you counted leaves the circle and loses the game.3.\n",
        "\n",
        "If there is still more than one friend in the circle, go back to step 2 starting from the friend immediately clockwise of the friend who just lost and repeat.\n",
        "\n",
        "Else, the last friend in the circle wins the game.\n",
        "\n",
        "Given the number of friends, n, and an integer k, return the winner of the game.\n",
        "\n",
        "Example 1:\n",
        "\n",
        "Input: n = 6, k = 5\n",
        "\n",
        "Output: 1\n",
        "\n",
        "Explanation: The friends leave in this order: 5, 4, 6, 2, 3. The winner is friend 1.\n"
      ],
      "metadata": {
        "id": "-YZB2A-bTPUa"
      }
    },
    {
      "cell_type": "code",
      "source": [
        "from collections import deque\n",
        "\n",
        "def findTheWinner(n: int, k: int) -> int:\n",
        "    queue = deque(range(1, n+1))\n",
        "\n",
        "    while len(queue) > 1:\n",
        "\n",
        "        for _ in range(k-1):\n",
        "            friend = queue.popleft()\n",
        "            queue.append(friend)\n",
        "\n",
        "\n",
        "        queue.popleft()\n",
        "\n",
        "\n",
        "    return queue[0]\n",
        "\n",
        "# Example usage:\n",
        "print(findTheWinner(6, 5))\n"
      ],
      "metadata": {
        "colab": {
          "base_uri": "https://localhost:8080/"
        },
        "id": "cGoYsQY1Tbrj",
        "outputId": "91ed5554-395c-4d71-df1f-540fb0cabb29"
      },
      "execution_count": 7,
      "outputs": [
        {
          "output_type": "stream",
          "name": "stdout",
          "text": [
            "1\n"
          ]
        }
      ]
    },
    {
      "cell_type": "markdown",
      "source": [
        "# Question no.6 :-\n",
        "\n",
        "You are given an integer array deck. There is a deck of cards where every card has a unique integer. The integer on the ith card is deck[i].\n",
        "\n",
        "You can order the deck in any order you want. Initially, all the cards start face down (unrevealed) in one deck.\n",
        "\n",
        "You will do the following steps repeatedly until all cards are revealed:\n",
        "\n",
        "Take the top card of the deck, reveal it, and take it out of the deck.\n",
        "If there are still cards in the deck then put the next top card of the deck at the bottom of the deck.\n",
        "If there are still unrevealed cards, go back to step 1. Otherwise, stop.Return an ordering of the deck that would reveal the cards in increasing order.\n",
        "Note that the first entry in the answer is considered to be the top of the deck.\n",
        "\n",
        "Return an ordering of the deck that would reveal the cards in increasing order.\n",
        "\n",
        "Note that the first entry in the answer is considered to be the top of the deck.\n",
        "\n",
        "Example 1:\n",
        "\n",
        "Input: deck = [1,1000]\n",
        "\n",
        "Output: [1,1000]"
      ],
      "metadata": {
        "id": "DRGFB6UhWhU5"
      }
    },
    {
      "cell_type": "code",
      "source": [
        "from collections import deque\n",
        "\n",
        "def revealCardsInIncreasingOrder(deck):\n",
        "    deck.sort()\n",
        "    n = len(deck)\n",
        "    queue = deque(range(n))\n",
        "    result = []\n",
        "\n",
        "    while queue:\n",
        "        top_index = queue.popleft()\n",
        "        result.append(deck[top_index])\n",
        "\n",
        "        if queue:\n",
        "            next_index = queue.popleft()\n",
        "            queue.append(next_index)\n",
        "\n",
        "    return result\n",
        "\n",
        "# Example usage:\n",
        "print(revealCardsInIncreasingOrder([1, 1000]))\n"
      ],
      "metadata": {
        "colab": {
          "base_uri": "https://localhost:8080/"
        },
        "id": "6O9JEub8Wel6",
        "outputId": "26d62edb-0361-43fe-b39b-7cee03fa4084"
      },
      "execution_count": 8,
      "outputs": [
        {
          "output_type": "stream",
          "name": "stdout",
          "text": [
            "[1, 1000]\n"
          ]
        }
      ]
    },
    {
      "cell_type": "markdown",
      "source": [
        "# Question no.7 :-\n",
        "\n",
        "Design a queue that supports push and pop operations in the front, middle, and back.\n",
        "\n",
        "Implement the FrontMiddleBack class:\n",
        "\n",
        "FrontMiddleBack() Initializes the queue.\n",
        "\n",
        "void pushFront(int val) Adds val to the front of the queue.\n",
        "\n",
        "void pushMiddle(int val) Adds val to the middle of the queue.\n",
        "\n",
        "void pushBack(int val) Adds val to the back of the queue.\n",
        "\n",
        "int popFront() Removes the front element of the queue and returns it. If the queue is empty, return 1.\n",
        "\n",
        "int popMiddle() Removes the middle element of the queue and returns it. If the queue is empty, return 1.\n",
        "\n",
        "int popBack() Removes the back element of the queue and returns it. If the queue is empty, return 1.\n",
        "\n",
        "Notice that when there are two middle position choices, the operation is performed on the frontmost middle position choice. For example:\n",
        "\n",
        "Pushing 6 into the middle of [1, 2, 3, 4, 5] results in [1, 2, 6, 3, 4, 5].\n",
        "Popping the middle from [1, 2, 3, 4, 5, 6] returns 3 and results in [1, 2, 4, 5, 6]."
      ],
      "metadata": {
        "id": "mIUAI3TPXPuO"
      }
    },
    {
      "cell_type": "code",
      "source": [
        "class Front_Middle_Back_Queue:\n",
        "\n",
        "    def __init__(self):\n",
        "        self.Q = []\n",
        "\n",
        "    def pushFront(self, val):\n",
        "        self.Q.insert(0, val)\n",
        "\n",
        "    def pushMiddle(self, val):\n",
        "        self.Q.insert(len(self.Q) // 2, val)\n",
        "\n",
        "    def pushBack(self, val):\n",
        "        self.Q.append(val)\n",
        "\n",
        "    def popFront(self):\n",
        "        return (self.Q or [-1]).pop(0)\n",
        "\n",
        "    def popMiddle(self):\n",
        "        return (self.Q or [-1]).pop((len(self.Q) - 1) // 2)\n",
        "\n",
        "    def popBack(self):\n",
        "        return (self.Q or [-1]).pop()\n",
        "\n",
        "\n",
        "q = Front_Middle_Back_Queue()\n",
        "\n",
        "q.pushFront(1)\n",
        "q.pushMiddle(2)\n",
        "q.pushBack(3)\n",
        "print(q.popFront())\n",
        "print(q.popMiddle())\n",
        "print(q.popBack())"
      ],
      "metadata": {
        "colab": {
          "base_uri": "https://localhost:8080/"
        },
        "id": "ebdm908PXJD4",
        "outputId": "ee96d6c8-8f9e-4301-e4d2-ae03f52bb183"
      },
      "execution_count": 9,
      "outputs": [
        {
          "output_type": "stream",
          "name": "stdout",
          "text": [
            "2\n",
            "1\n",
            "3\n"
          ]
        }
      ]
    },
    {
      "cell_type": "markdown",
      "source": [
        "# Question no.8 :-\n",
        "\n",
        "For a stream of integers, implement a data structure that checks if the last k integers parsed in the stream are equal to value.\n",
        "\n",
        "Implement the DataStream class:\n",
        "\n",
        "DataStream(int value, int k) Initializes the object with an empty integer stream and the two integers value and k.\n",
        "boolean consec(int num) Adds num to the stream of integers. Returns true if the last k integers are equal to value, and false otherwise. If there are less than k integers, the condition does not hold true, so returns false.\n",
        "\n",
        "Input:\n",
        "\n",
        "[\"FrontMiddleBackQueue\", \"pushFront\", \"pushBack\", \"pushMiddle\", \"pushMiddle\", \"popFront\", \"popMiddle\", \"popMiddle\", \"popBack\", \"popFront\"]\n",
        "\n",
        "[[], [1], [2], [3], [4], [], [], [], [], []]\n",
        "\n",
        "Output:\n",
        "\n",
        "[null, null, null, null, null, 1, 3, 4, 2, -1]\n",
        "\n",
        "Explanation:\n",
        "\n",
        "FrontMiddleBackQueue q = new FrontMiddleBackQueue();\n",
        "\n",
        "q.pushFront(1);   // [1]\n",
        "\n",
        "q.pushBack(2);    // [1,2]\n",
        "\n",
        "q.pushMiddle(3);  // [1,3, 2]\n",
        "\n",
        "q.pushMiddle(4);  // [1,4, 3, 2]\n",
        "\n",
        "q.popFront();     // return 1 -> [4, 3, 2]\n",
        "\n",
        "q.popMiddle();    // return 3 -> [4, 2]\n",
        "\n",
        "q.popMiddle();    // return 4 -> [2]\n",
        "\n",
        "q.popBack();      // return 2 -> []\n",
        "\n",
        "q.popFront();     // return -1 -> [] (The queue is empty)"
      ],
      "metadata": {
        "id": "uI2I_yiPYPdd"
      }
    },
    {
      "cell_type": "code",
      "source": [
        "from collections import deque\n",
        "\n",
        "class DataStream:\n",
        "    def __init__(self, value, k):\n",
        "        self.value = value\n",
        "        self.k = k\n",
        "        self.stream = deque()\n",
        "\n",
        "    def consec(self, num):\n",
        "        self.stream.append(num)\n",
        "        if len(self.stream) < self.k:\n",
        "            return False\n",
        "        elif len(self.stream) > self.k:\n",
        "            self.stream.popleft()\n",
        "        return all(x == self.value for x in self.stream)\n",
        "\n",
        "\n",
        "ds = DataStream(2, 3)\n",
        "\n",
        "\n",
        "print(ds.consec(1))\n",
        "print(ds.consec(2))\n",
        "print(ds.consec(2))\n",
        "print(ds.consec(2))"
      ],
      "metadata": {
        "colab": {
          "base_uri": "https://localhost:8080/"
        },
        "id": "rqWWLQk0YGi-",
        "outputId": "34797105-598c-4bc8-f1b5-d591e06f0b5d"
      },
      "execution_count": 10,
      "outputs": [
        {
          "output_type": "stream",
          "name": "stdout",
          "text": [
            "False\n",
            "False\n",
            "False\n",
            "True\n"
          ]
        }
      ]
    }
  ]
}