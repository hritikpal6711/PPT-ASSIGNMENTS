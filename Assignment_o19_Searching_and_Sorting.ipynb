{
  "nbformat": 4,
  "nbformat_minor": 0,
  "metadata": {
    "colab": {
      "provenance": []
    },
    "kernelspec": {
      "name": "python3",
      "display_name": "Python 3"
    },
    "language_info": {
      "name": "python"
    }
  },
  "cells": [
    {
      "cell_type": "markdown",
      "source": [
        "# Assignment 19 - Searching and Sorting"
      ],
      "metadata": {
        "id": "8FKIBFryljUA"
      }
    },
    {
      "cell_type": "markdown",
      "source": [
        "# Question 1 -\n",
        "<aside>\n",
        "💡 1. **Merge k Sorted Lists**\n",
        "\n",
        "You are given an array of `k` linked-lists `lists`, each linked-list is sorted in ascending order.\n",
        "\n",
        "*Merge all the linked-lists into one sorted linked-list and return it.*\n",
        "\n",
        "**Example 1:**\n",
        "\n",
        "```\n",
        "Input: lists = [[1,4,5],[1,3,4],[2,6]]\n",
        "Output: [1,1,2,3,4,4,5,6]\n",
        "Explanation: The linked-lists are:\n",
        "[\n",
        "  1->4->5,\n",
        "  1->3->4,\n",
        "  2->6\n",
        "]\n",
        "merging them into one sorted list:\n",
        "1->1->2->3->4->4->5->6\n",
        "\n",
        "```\n",
        "\n"
      ],
      "metadata": {
        "id": "FdWimnm2pwEi"
      }
    },
    {
      "cell_type": "code",
      "source": [],
      "metadata": {
        "id": "zW6IoB2OvRV5"
      },
      "execution_count": null,
      "outputs": []
    },
    {
      "cell_type": "markdown",
      "source": [
        "# Question 2 -\n",
        "<aside>\n",
        "💡 2. **Count of Smaller Numbers After Self**\n",
        "\n",
        "Given an integer array `nums`, return *an integer array* `counts` *where* `counts[i]` *is the number of smaller elements to the right of* `nums[i]`.\n",
        "\n",
        "**Example 1:**\n",
        "\n",
        "```\n",
        "Input: nums = [5,2,6,1]\n",
        "Output: [2,1,1,0]\n",
        "Explanation:\n",
        "To the right of 5 there are2 smaller elements (2 and 1).\n",
        "To the right of 2 there is only1 smaller element (1).\n",
        "To the right of 6 there is1 smaller element (1).\n",
        "To the right of 1 there is0 smaller element.\n",
        "\n",
        "```\n",
        "\n",
        "**Example 2:**\n",
        "\n",
        "```\n",
        "Input: nums = [-1]\n",
        "Output: [0]\n",
        "\n",
        "```\n",
        "\n",
        "**Example 3:**\n",
        "\n",
        "```\n",
        "Input: nums = [-1,-1]\n",
        "Output: [0,0]\n",
        "\n",
        "```\n",
        "\n",
        "**Constraints:**\n",
        "\n",
        "- `1 <= nums.length <= 100000`\n",
        "- `-10000 <= nums[i] <= 10000`\n",
        "</aside>"
      ],
      "metadata": {
        "id": "EDbNQMWGvSvZ"
      }
    },
    {
      "cell_type": "code",
      "source": [
        "from sortedcontainers import SortedList\n",
        "\n",
        "class Counter_s:\n",
        "    def count_smaller(self,nums):\n",
        "        res = []\n",
        "        sorted_nums = SortedList(nums)\n",
        "\n",
        "        for num in nums:\n",
        "            res.append(sorted_nums.index(num))\n",
        "            sorted_nums.remove(num)\n",
        "\n",
        "        return res\n",
        "\n",
        "\n",
        "obj1 = Counter_s()\n",
        "nums = [5,2,6,1]\n",
        "print(obj1.count_smaller(nums))\n",
        ""
      ],
      "metadata": {
        "colab": {
          "base_uri": "https://localhost:8080/"
        },
        "id": "76s7DtuzvnOZ",
        "outputId": "64b8375c-539a-4eba-f8f7-1bd6d0a976bd"
      },
      "execution_count": 10,
      "outputs": [
        {
          "output_type": "stream",
          "name": "stdout",
          "text": [
            "[2, 1, 1, 0]\n"
          ]
        }
      ]
    },
    {
      "cell_type": "markdown",
      "source": [
        "# Question 3 -\n",
        "<aside>\n",
        "💡 3. **Sort an Array**\n",
        "\n",
        "Given an array of integers `nums`, sort the array in ascending order and return it.\n",
        "\n",
        "You must solve the problem **without using any built-in** functions in `O(nlog(n))` time complexity and with the smallest space complexity possible.\n",
        "\n",
        "**Example 1:**\n",
        "\n",
        "```\n",
        "Input: nums = [5,2,3,1]\n",
        "Output: [1,2,3,5]\n",
        "Explanation: After sorting the array, the positions of some numbers are not changed (for example, 2 and 3), while the positions of other numbers are changed (for example, 1 and 5).\n",
        "\n",
        "```\n",
        "\n",
        "**Example 2:**\n",
        "\n",
        "```\n",
        "Input: nums = [5,1,1,2,0,0]\n",
        "Output: [0,0,1,1,2,5]\n",
        "Explanation: Note that the values of nums are not necessairly unique.\n",
        "\n",
        "```\n",
        "\n",
        "**Constraints:**\n",
        "\n",
        "- `1 <= nums.length <= 5 * 10000`\n",
        "- `-5 * 104 <= nums[i] <= 5 * 10000`\n",
        "</aside>"
      ],
      "metadata": {
        "id": "bJnyPMbQvzrc"
      }
    },
    {
      "cell_type": "code",
      "source": [
        "class Solution:\n",
        "    def sortArray(self, nums):\n",
        "        def merge_sort(arr):\n",
        "            if len(arr) <= 1:\n",
        "                return arr\n",
        "\n",
        "            mid = len(arr) // 2\n",
        "            left = merge_sort(arr[:mid])\n",
        "            right = merge_sort(arr[mid:])\n",
        "            return merge(left, right)\n",
        "\n",
        "        def merge(left, right):\n",
        "            merged = []\n",
        "            i, j = 0, 0\n",
        "\n",
        "            while i < len(left) and j < len(right):\n",
        "                if left[i] < right[j]:\n",
        "                    merged.append(left[i])\n",
        "                    i += 1\n",
        "                else:\n",
        "                    merged.append(right[j])\n",
        "                    j += 1\n",
        "\n",
        "            merged.extend(left[i:])\n",
        "            merged.extend(right[j:])\n",
        "            return merged\n",
        "\n",
        "        return merge_sort(nums)\n",
        "\n",
        "\n",
        "# Test case\n",
        "nums = [5, 2, 3, 1]\n",
        "solution = Solution()\n",
        "result = solution.sortArray(nums)\n",
        "print(result)\n"
      ],
      "metadata": {
        "colab": {
          "base_uri": "https://localhost:8080/"
        },
        "id": "JIhaWSQPvyiH",
        "outputId": "4cb33a24-096c-4216-d01a-314112d86e51"
      },
      "execution_count": 11,
      "outputs": [
        {
          "output_type": "stream",
          "name": "stdout",
          "text": [
            "[1, 2, 3, 5]\n"
          ]
        }
      ]
    },
    {
      "cell_type": "markdown",
      "source": [
        "# Question 4 -\n",
        "<aside>\n",
        "💡 4. **Move all zeroes to end of array**\n",
        "\n",
        "Given an array of random numbers, Push all the zero’s of a given array to the end of the array. For example, if the given arrays is {1, 9, 8, 4, 0, 0, 2, 7, 0, 6, 0}, it should be changed to {1, 9, 8, 4, 2, 7, 6, 0, 0, 0, 0}. The order of all other elements should be same. Expected time complexity is O(n) and extra space is O(1).\n",
        "\n",
        "**Example:**\n",
        "\n",
        "```\n",
        "Input :  arr[] = {1, 2, 0, 4, 3, 0, 5, 0};\n",
        "Output : arr[] = {1, 2, 4, 3, 5, 0, 0, 0};\n",
        "\n",
        "Input : arr[]  = {1, 2, 0, 0, 0, 3, 6};\n",
        "Output : arr[] = {1, 2, 3, 6, 0, 0, 0};\n",
        "```\n",
        "\n",
        "</aside>\n",
        "\n"
      ],
      "metadata": {
        "id": "aCzi6QVszsoQ"
      }
    },
    {
      "cell_type": "code",
      "source": [
        "class Move_0s_to_end:\n",
        "    def move(self,nums):\n",
        "        n=len(nums)\n",
        "\n",
        "        for i in range(0,n):\n",
        "            if nums[i]==0:\n",
        "                nums.remove(nums[i])\n",
        "                nums.append(0)\n",
        "        return nums\n",
        "\n",
        "\n",
        "obj3 = Move_0s_to_end()\n",
        "nums = [1,2,0,0,0,0,3,6]\n",
        "print(obj3.move(nums))"
      ],
      "metadata": {
        "colab": {
          "base_uri": "https://localhost:8080/"
        },
        "id": "VadV7AdkzrKM",
        "outputId": "ee29738d-7201-491b-97a0-c8ee3f55f233"
      },
      "execution_count": 12,
      "outputs": [
        {
          "output_type": "stream",
          "name": "stdout",
          "text": [
            "[1, 2, 3, 6, 0, 0, 0, 0]\n"
          ]
        }
      ]
    },
    {
      "cell_type": "markdown",
      "source": [
        "# Question 5 -\n",
        "\n",
        "<aside>\n",
        "💡 5. **Rearrange array in alternating positive & negative items with O(1) extra space**\n",
        "\n",
        "Given an **array of positive** and **negative numbers**, arrange them in an **alternate** fashion such that every positive number is followed by a negative and vice-versa maintaining the **order of appearance**. The number of positive and negative numbers need not be equal. If there are more positive numbers they appear at the end of the array. If there are more negative numbers, they too appear at the end of the array.\n",
        "\n",
        "**Examples:**\n",
        "\n",
        "Input:  arr[] = {1, 2, 3, -4, -1, 4}\n",
        "\n",
        "Output: arr[] = {-4, 1, -1, 2, 3, 4}\n",
        "\n",
        "Input:  arr[] = {-5, -2, 5, 2, 4, 7, 1, 8, 0, -8}\n",
        "\n",
        "Output: arr[] = {-5, 5, -2, 2, -8, 4, 7, 1, 8, 0}\n",
        "\n",
        "</aside>\n",
        "\n"
      ],
      "metadata": {
        "id": "orIbiXxj0NeD"
      }
    },
    {
      "cell_type": "code",
      "source": [
        "\n",
        "def rightRotate(arr, n, outOfPlace, cur):\n",
        "    temp = arr[cur]\n",
        "    for i in range(cur, outOfPlace, -1):\n",
        "        arr[i] = arr[i - 1]\n",
        "    arr[outOfPlace] = temp\n",
        "    return arr\n",
        "\n",
        "\n",
        "def rearrange(arr,n):\n",
        "    outOfPlace = -1\n",
        "\n",
        "    for index in range(n):\n",
        "\n",
        "        if(outOfPlace >= 0):\n",
        "            if((arr[index] >= 0 and arr[outOfPlace] < 0) or\n",
        "                (arr[index] < 0 and arr[outOfPlace] >= 0)):\n",
        "                 arr = rightRotate(arr, n, outOfPlace, index)\n",
        "                 if(index-outOfPlace > 2):\n",
        "                     outOfPlace += 2\n",
        "                 else:\n",
        "                    outOfPlace = - 1\n",
        "\n",
        "        if(outOfPlace == -1):\n",
        "            if((arr[index] >= 0 and index % 2 == 0) or\n",
        "                (arr[index] < 0 and index % 2 == 1)):\n",
        "                outOfPlace = index\n",
        "    return arr\n",
        "\n",
        "\n",
        "arr = [1, 2, 3, -4, -1, 4]\n",
        "n = len(arr)\n",
        "print(rearrange(arr,n))\n",
        ""
      ],
      "metadata": {
        "colab": {
          "base_uri": "https://localhost:8080/"
        },
        "id": "i3s7D9xl0JrO",
        "outputId": "b464e6f1-8333-4675-dcea-9de9b8f069e2"
      },
      "execution_count": 13,
      "outputs": [
        {
          "output_type": "stream",
          "name": "stdout",
          "text": [
            "[-4, 1, -1, 2, 3, 4]\n"
          ]
        }
      ]
    },
    {
      "cell_type": "markdown",
      "source": [
        "# Question 6 -\n",
        "\n",
        "<aside>\n",
        "💡 **6. Merge two sorted arrays**\n",
        "\n",
        "Given two sorted arrays, the task is to merge them in a sorted manner.\n",
        "\n",
        "**Examples:**\n",
        "\n",
        "Input: arr1[] = { 1, 3, 4, 5}, arr2[] = {2, 4, 6, 8}\n",
        "\n",
        "Output: arr3[] = {1, 2, 3, 4, 4, 5, 6, 8}\n",
        "\n",
        "Input: arr1[] = { 5, 8, 9}, arr2[] = {4, 7, 8}\n",
        "\n",
        "Output: arr3[] = {4, 5, 7, 8, 8, 9}\n",
        "\n",
        "</aside>\n"
      ],
      "metadata": {
        "id": "G5vMQ4An0pF2"
      }
    },
    {
      "cell_type": "code",
      "source": [
        "def merge(arr1, arr2, n1, n2):\n",
        "    arr3 = [0] * (n1 + n2)\n",
        "    i = 0\n",
        "    j = 0\n",
        "    k = 0\n",
        "\n",
        "    while i < n1 and j < n2:\n",
        "        if arr1[i] < arr2[j]:\n",
        "            arr3[k] = arr1[i]\n",
        "            i += 1\n",
        "        else:\n",
        "            arr3[k] = arr2[j]\n",
        "            j += 1\n",
        "        k += 1\n",
        "\n",
        "    while i < n1:\n",
        "        arr3[k] = arr1[i]\n",
        "        i += 1\n",
        "        k += 1\n",
        "\n",
        "    while j < n2:\n",
        "        arr3[k] = arr2[j]\n",
        "        j += 1\n",
        "        k += 1\n",
        "\n",
        "    return arr3\n",
        "\n",
        "\n",
        "arr1 = [1, 3, 4, 5]\n",
        "n1 = len(arr1)\n",
        "\n",
        "arr2 = [2, 4, 6, 8]\n",
        "n2 = len(arr2)\n",
        "\n",
        "result = merge(arr1, arr2, n1, n2)\n",
        "print(result)\n"
      ],
      "metadata": {
        "colab": {
          "base_uri": "https://localhost:8080/"
        },
        "id": "uK2X4Twv0479",
        "outputId": "4f53346f-cd20-4f70-8165-937730444a44"
      },
      "execution_count": 15,
      "outputs": [
        {
          "output_type": "stream",
          "name": "stdout",
          "text": [
            "[1, 2, 3, 4, 4, 5, 6, 8]\n"
          ]
        }
      ]
    },
    {
      "cell_type": "markdown",
      "source": [
        "# Question 7 -\n",
        "\n",
        "<aside>\n",
        "💡 7. **Intersection of Two Arrays**\n",
        "\n",
        "Given two integer arrays `nums1` and `nums2`, return *an array of their intersection*. Each element in the result must be **unique** and you may return the result in **any order**.\n",
        "\n",
        "**Example 1:**\n",
        "\n",
        "```\n",
        "Input: nums1 = [1,2,2,1], nums2 = [2,2]\n",
        "Output: [2]\n",
        "\n",
        "```\n",
        "\n",
        "**Example 2:**\n",
        "\n",
        "```\n",
        "Input: nums1 = [4,9,5], nums2 = [9,4,9,8,4]\n",
        "Output: [9,4]\n",
        "Explanation: [4,9] is also accepted.\n",
        "\n",
        "```\n",
        "\n",
        "**Constraints:**\n",
        "\n",
        "- `1 <= nums1.length, nums2.length <= 1000`\n",
        "- `0 <= nums1[i], nums2[i] <= 1000`\n",
        "</aside>"
      ],
      "metadata": {
        "id": "ve63sPh_1Y9b"
      }
    },
    {
      "cell_type": "code",
      "source": [
        "class Intersection:\n",
        "    def intersect(self,nums1,nums2):\n",
        "        set1 = set(nums1)\n",
        "        set2 = set(nums2)\n",
        "\n",
        "        return list(set1.intersection(set2))\n",
        "\n",
        "\n",
        "obj6 = Intersection()\n",
        "nums1 = [1,2,2,1]\n",
        "nums2 = [2,2]\n",
        "print(obj6.intersect(nums1,nums2))"
      ],
      "metadata": {
        "colab": {
          "base_uri": "https://localhost:8080/"
        },
        "id": "RZeCu2jP1d5u",
        "outputId": "e7dc7cd7-90f7-42c0-f681-50da7f048011"
      },
      "execution_count": 16,
      "outputs": [
        {
          "output_type": "stream",
          "name": "stdout",
          "text": [
            "[2]\n"
          ]
        }
      ]
    },
    {
      "cell_type": "markdown",
      "source": [
        "# Question 8 -\n",
        "\n",
        "<aside>\n",
        "💡 8. **Intersection of Two Arrays II**\n",
        "\n",
        "Given two integer arrays `nums1` and `nums2`, return *an array of their intersection*. Each element in the result must appear as many times as it shows in both arrays and you may return the result in **any order**.\n",
        "\n",
        "**Example 1:**\n",
        "\n",
        "```\n",
        "Input: nums1 = [1,2,2,1], nums2 = [2,2]\n",
        "Output: [2,2]\n",
        "\n",
        "```\n",
        "\n",
        "**Example 2:**\n",
        "\n",
        "```\n",
        "Input: nums1 = [4,9,5], nums2 = [9,4,9,8,4]\n",
        "Output: [4,9]\n",
        "Explanation: [9,4] is also accepted.\n",
        "\n",
        "```\n",
        "\n",
        "**Constraints:**\n",
        "\n",
        "- `1 <= nums1.length, nums2.length <= 1000`\n",
        "- `0 <= nums1[i], nums2[i] <= 1000`\n",
        "</aside>"
      ],
      "metadata": {
        "id": "e120D1ta1s-O"
      }
    },
    {
      "cell_type": "code",
      "source": [
        "class Intersection_2:\n",
        "    def intersect2(self,nums1,nums2):\n",
        "        nums1.sort()\n",
        "        nums2.sort()\n",
        "\n",
        "        if len(nums1) > len(nums2):\n",
        "            nums1, nums2 = nums2, nums1\n",
        "\n",
        "        res = []\n",
        "\n",
        "        p1=p2=0\n",
        "\n",
        "        while(p1 < len(nums1) and p2 < len(nums2)):\n",
        "            if nums1[p1] == nums2[p2]:\n",
        "                res.append(nums1[p1])\n",
        "                p1 += 1\n",
        "                p2 += 1\n",
        "            elif nums1[p1] < nums2[p2]:\n",
        "                p1 += 1\n",
        "            else:\n",
        "                p2 += 1\n",
        "\n",
        "        return res\n",
        "\n",
        "\n",
        "obj7 = Intersection_2()\n",
        "nums1 = [4,9,5]\n",
        "nums2 = [9,4,9,8,4]\n",
        "print(obj7.intersect2(nums1,nums2))"
      ],
      "metadata": {
        "colab": {
          "base_uri": "https://localhost:8080/"
        },
        "id": "MBdtTOuG1q0_",
        "outputId": "1db570d7-bcec-4963-d13b-08e2d37c782e"
      },
      "execution_count": 17,
      "outputs": [
        {
          "output_type": "stream",
          "name": "stdout",
          "text": [
            "[4, 9]\n"
          ]
        }
      ]
    }
  ]
}