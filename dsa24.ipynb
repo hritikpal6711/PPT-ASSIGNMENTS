{
  "nbformat": 4,
  "nbformat_minor": 0,
  "metadata": {
    "colab": {
      "provenance": []
    },
    "kernelspec": {
      "name": "python3",
      "display_name": "Python 3"
    },
    "language_info": {
      "name": "python"
    }
  },
  "cells": [
    {
      "cell_type": "code",
      "source": [
        "\"\"\" Q2 Given a string s, find the length of the longest substring without repeating characters\"\"\""
      ],
      "metadata": {
        "id": "FpvMzFlGbAoR"
      },
      "execution_count": null,
      "outputs": []
    },
    {
      "cell_type": "code",
      "execution_count": 1,
      "metadata": {
        "colab": {
          "base_uri": "https://localhost:8080/"
        },
        "id": "sZ7Bzvhla3vs",
        "outputId": "b98809aa-80a1-47e9-b236-80497dbb21c9"
      },
      "outputs": [
        {
          "output_type": "stream",
          "name": "stdout",
          "text": [
            "3\n"
          ]
        }
      ],
      "source": [
        "def length_of_longest_substring(s):\n",
        "    # Create a dictionary to track the last occurrence of each character\n",
        "    char_map = {}\n",
        "    max_length = 0\n",
        "    start = 0\n",
        "\n",
        "    # Iterate through the string with two pointers: start and end\n",
        "    for end in range(len(s)):\n",
        "        # If the current character is already in the dictionary and its last occurrence is after the start pointer,\n",
        "        # update the start pointer to the position after the last occurrence of the current character\n",
        "        if s[end] in char_map and char_map[s[end]] >= start:\n",
        "            start = char_map[s[end]] + 1\n",
        "\n",
        "        # Update the last occurrence of the current character in the dictionary\n",
        "        char_map[s[end]] = end\n",
        "\n",
        "        # Update the maximum length if needed\n",
        "        max_length = max(max_length, end - start + 1)\n",
        "\n",
        "    return max_length\n",
        "\n",
        "\n",
        "# Example usage\n",
        "s = \"abcabcbb\"\n",
        "result = length_of_longest_substring(s)\n",
        "print(result)"
      ]
    },
    {
      "cell_type": "code",
      "source": [
        "\"\"\"💡 3. **Majority Element**\n",
        "\n",
        "Given an array `nums` of size `n`, return *the majority element*.\n",
        "\n",
        "The majority element is the element that appears more than `⌊n / 2⌋` times. You may assume that the majority element always exists in the array.\n",
        "\"\"\""
      ],
      "metadata": {
        "colab": {
          "base_uri": "https://localhost:8080/",
          "height": 52
        },
        "id": "gCBjtPcGa_Xo",
        "outputId": "06a2daed-4ed1-4028-f797-de7a5f92c841"
      },
      "execution_count": 2,
      "outputs": [
        {
          "output_type": "execute_result",
          "data": {
            "text/plain": [
              "'💡 3. **Majority Element**\\n\\nGiven an array\\xa0`nums`\\xa0of size\\xa0`n`, return\\xa0*the majority element*.\\n\\nThe majority element is the element that appears more than\\xa0`⌊n / 2⌋`\\xa0times. You may assume that the majority element always exists in the array.\\n'"
            ],
            "application/vnd.google.colaboratory.intrinsic+json": {
              "type": "string"
            }
          },
          "metadata": {},
          "execution_count": 2
        }
      ]
    },
    {
      "cell_type": "code",
      "source": [
        "def majority_element(nums):\n",
        "    candidate = None\n",
        "    count = 0\n",
        "\n",
        "    # Find the potential majority element\n",
        "    for num in nums:\n",
        "        if count == 0:\n",
        "            candidate = num\n",
        "        if num == candidate:\n",
        "            count += 1\n",
        "        else:\n",
        "            count -= 1\n",
        "\n",
        "    # Verify if the potential majority element is the majority\n",
        "    count = 0\n",
        "    for num in nums:\n",
        "        if num == candidate:\n",
        "            count += 1\n",
        "\n",
        "    # Return the majority element\n",
        "    if count > len(nums) // 2:\n",
        "        return candidate\n",
        "    else:\n",
        "        return None  # Majority element doesn't exist\n",
        "\n",
        "# Example usage\n",
        "nums = [2, 2, 1, 1, 1, 2, 2]\n",
        "result = majority_element(nums)\n",
        "print(result)\n",
        "\n"
      ],
      "metadata": {
        "colab": {
          "base_uri": "https://localhost:8080/"
        },
        "id": "Ff-XCHs7bNbu",
        "outputId": "d38287e7-c484-4d9e-fc26-298f8c8bebd8"
      },
      "execution_count": 3,
      "outputs": [
        {
          "output_type": "stream",
          "name": "stdout",
          "text": [
            "2\n"
          ]
        }
      ]
    },
    {
      "cell_type": "code",
      "source": [
        "\"\"\"4. Given an array of strings `strs`, group **the anagrams** together. You can return the answer in **any order**.\n",
        "\n",
        "An **Anagram** is a word or phrase formed by rearranging the letters of a different word or phrase, typically using all the original letters exactly once.\"\"\""
      ],
      "metadata": {
        "colab": {
          "base_uri": "https://localhost:8080/",
          "height": 70
        },
        "id": "aJsosWPYbbHY",
        "outputId": "28094a7c-4b76-4b6a-cfd2-f265f66fe40d"
      },
      "execution_count": 4,
      "outputs": [
        {
          "output_type": "execute_result",
          "data": {
            "text/plain": [
              "'4. Given an array of strings\\xa0`strs`, group\\xa0**the anagrams**\\xa0together. You can return the answer in\\xa0**any order**.\\n\\nAn\\xa0**Anagram**\\xa0is a word or phrase formed by rearranging the letters of a different word or phrase, typically using all the original letters exactly once.'"
            ],
            "application/vnd.google.colaboratory.intrinsic+json": {
              "type": "string"
            }
          },
          "metadata": {},
          "execution_count": 4
        }
      ]
    },
    {
      "cell_type": "code",
      "source": [
        "def group_anagrams(strs):\n",
        "    anagram_map = {}\n",
        "\n",
        "    # Group strings by sorted characters\n",
        "    for s in strs:\n",
        "        sorted_str = ''.join(sorted(s))\n",
        "        if sorted_str in anagram_map:\n",
        "            anagram_map[sorted_str].append(s)\n",
        "        else:\n",
        "            anagram_map[sorted_str] = [s]\n",
        "\n",
        "    # Convert the values of the map to a list\n",
        "    return list(anagram_map.values())\n",
        "\n",
        "# Example usage\n",
        "strs = [\"eat\", \"tea\", \"tan\", \"ate\", \"nat\", \"bat\"]\n",
        "result = group_anagrams(strs)\n",
        "print(result)\n",
        "\n",
        "# Output: [[\"eat\",\"tea\",\"ate\"],[\"tan\",\"nat\"],[\"bat\"]]\n"
      ],
      "metadata": {
        "colab": {
          "base_uri": "https://localhost:8080/"
        },
        "id": "iBHGy7PHbj1v",
        "outputId": "8e24ee0c-c0f2-4dd8-fd3f-745446dd4c5e"
      },
      "execution_count": 5,
      "outputs": [
        {
          "output_type": "stream",
          "name": "stdout",
          "text": [
            "[['eat', 'tea', 'ate'], ['tan', 'nat'], ['bat']]\n"
          ]
        }
      ]
    },
    {
      "cell_type": "code",
      "source": [
        "\"\"\"5. An **ugly number** is a positive integer whose prime factors are limited to `2`, `3`, and `5`.\n",
        "\n",
        "Given an integer `n`, return *the* `nth` ***ugly number***.\"\"\""
      ],
      "metadata": {
        "colab": {
          "base_uri": "https://localhost:8080/",
          "height": 52
        },
        "id": "HbGxzTgvbnUz",
        "outputId": "1f7c975e-16e3-4176-b94d-ac0cefbc7243"
      },
      "execution_count": 6,
      "outputs": [
        {
          "output_type": "execute_result",
          "data": {
            "text/plain": [
              "'5. An\\xa0**ugly number**\\xa0is a positive integer whose prime factors are limited to\\xa0`2`,\\xa0`3`, and\\xa0`5`.\\n\\nGiven an integer\\xa0`n`, return\\xa0*the*\\xa0`nth`\\xa0***ugly number***.'"
            ],
            "application/vnd.google.colaboratory.intrinsic+json": {
              "type": "string"
            }
          },
          "metadata": {},
          "execution_count": 6
        }
      ]
    },
    {
      "cell_type": "code",
      "source": [
        "def nth_ugly_number(n):\n",
        "    ugly_nums = [1]  # Initialize the first ugly number as 1\n",
        "    i2, i3, i5 = 0, 0, 0  # Pointers for the multiples of 2, 3, and 5\n",
        "\n",
        "    while len(ugly_nums) < n:\n",
        "        # Find the next ugly number by multiplying the current ugly numbers with 2, 3, and 5\n",
        "        next_ugly = min(ugly_nums[i2] * 2, ugly_nums[i3] * 3, ugly_nums[i5] * 5)\n",
        "\n",
        "        # Move the pointers if the next ugly number is already in the list\n",
        "        if next_ugly == ugly_nums[i2] * 2:\n",
        "            i2 += 1\n",
        "        if next_ugly == ugly_nums[i3] * 3:\n",
        "            i3 += 1\n",
        "        if next_ugly == ugly_nums[i5] * 5:\n",
        "            i5 += 1\n",
        "\n",
        "        ugly_nums.append(next_ugly)\n",
        "\n",
        "    return ugly_nums[-1]\n",
        "\n",
        "\n",
        "# Example usage\n",
        "n = 10\n",
        "result = nth_ugly_number(n)\n",
        "print(result)\n",
        "\n",
        "# Output: 12 (The 10th ugly number is 12)\n"
      ],
      "metadata": {
        "colab": {
          "base_uri": "https://localhost:8080/"
        },
        "id": "2M-GuUzzbtZj",
        "outputId": "f8c44251-4457-4cda-c6b4-250552191c54"
      },
      "execution_count": 7,
      "outputs": [
        {
          "output_type": "stream",
          "name": "stdout",
          "text": [
            "12\n"
          ]
        }
      ]
    },
    {
      "cell_type": "code",
      "source": [
        "\"\"\"6. Given an array of strings `words` and an integer `k`, return *the* `k` *most frequent strings*.\n",
        "\n",
        "Return the answer **sorted** by **the frequency** from highest to lowest. Sort the words with the same frequency by their **lexicographical order**.\"\"\""
      ],
      "metadata": {
        "colab": {
          "base_uri": "https://localhost:8080/",
          "height": 70
        },
        "id": "R4oXYDv9bwi7",
        "outputId": "242466ae-24c2-4ad0-edc8-c694a9c6b332"
      },
      "execution_count": 8,
      "outputs": [
        {
          "output_type": "execute_result",
          "data": {
            "text/plain": [
              "'6. Given an array of strings\\xa0`words`\\xa0and an integer\\xa0`k`, return\\xa0*the*\\xa0`k`\\xa0*most frequent strings*.\\n\\nReturn the answer\\xa0**sorted**\\xa0by\\xa0**the frequency**\\xa0from highest to lowest. Sort the words with the same frequency by their\\xa0**lexicographical order**.'"
            ],
            "application/vnd.google.colaboratory.intrinsic+json": {
              "type": "string"
            }
          },
          "metadata": {},
          "execution_count": 8
        }
      ]
    },
    {
      "cell_type": "code",
      "source": [
        "from collections import Counter\n",
        "import heapq\n",
        "\n",
        "def top_k_frequent(words, k):\n",
        "    # Count the frequency of each word\n",
        "    word_count = Counter(words)\n",
        "\n",
        "    # Build a priority queue with custom sorting criteria\n",
        "    pq = []\n",
        "    for word, count in word_count.items():\n",
        "        heapq.heappush(pq, (-count, word))\n",
        "\n",
        "    # Retrieve the top k frequent words from the priority queue\n",
        "    result = []\n",
        "    for _ in range(k):\n",
        "        count, word = heapq.heappop(pq)\n",
        "        result.append(word)\n",
        "\n",
        "    return result\n",
        "\n",
        "# Example usage\n",
        "words = [\"the\", \"day\", \"is\", \"sunny\", \"the\", \"the\", \"the\", \"sunny\", \"is\", \"is\"]\n",
        "k = 2\n",
        "result = top_k_frequent(words, k)\n",
        "print(result)\n",
        "\n",
        "# Output: [\"the\", \"is\"] (The 2 most frequent strings in the array are \"the\" and \"is\")\n"
      ],
      "metadata": {
        "colab": {
          "base_uri": "https://localhost:8080/"
        },
        "id": "L10GR-Omb3ch",
        "outputId": "f59809b8-4b22-40e4-8840-e0dcffb566a1"
      },
      "execution_count": 9,
      "outputs": [
        {
          "output_type": "stream",
          "name": "stdout",
          "text": [
            "['the', 'is']\n"
          ]
        }
      ]
    },
    {
      "cell_type": "code",
      "source": [
        "\"\"\"You are given an array of integers `nums`, there is a sliding window of size `k` which is moving from the very left of the array to the very right. You can only see the `k` numbers in the window. Each time the sliding window moves right by one position.\n",
        "\n",
        "Return *the max sliding window*.\"\"\""
      ],
      "metadata": {
        "colab": {
          "base_uri": "https://localhost:8080/",
          "height": 70
        },
        "id": "hp1HGHnUcMWQ",
        "outputId": "cc220d9f-af37-4836-ea37-dba9bd7eb51b"
      },
      "execution_count": 10,
      "outputs": [
        {
          "output_type": "execute_result",
          "data": {
            "text/plain": [
              "'You are given an array of integers\\xa0`nums`, there is a sliding window of size\\xa0`k`\\xa0which is moving from the very left of the array to the very right. You can only see the\\xa0`k`\\xa0numbers in the window. Each time the sliding window moves right by one position.\\n\\nReturn\\xa0*the max sliding window*.'"
            ],
            "application/vnd.google.colaboratory.intrinsic+json": {
              "type": "string"
            }
          },
          "metadata": {},
          "execution_count": 10
        }
      ]
    },
    {
      "cell_type": "code",
      "source": [
        "from collections import deque\n",
        "\n",
        "def max_sliding_window(nums, k):\n",
        "    result = []\n",
        "    window = deque()\n",
        "\n",
        "    for i in range(len(nums)):\n",
        "        # Remove elements that are out of the current window\n",
        "        if window and window[0] == i - k:\n",
        "            window.popleft()\n",
        "\n",
        "        # Remove elements smaller than the current element from the right end of the window\n",
        "        while window and nums[window[-1]] < nums[i]:\n",
        "            window.pop()\n",
        "\n",
        "        # Add the current element to the window\n",
        "        window.append(i)\n",
        "\n",
        "        # Append the maximum element in the current window to the result\n",
        "        if i >= k - 1:\n",
        "            result.append(nums[window[0]])\n",
        "\n",
        "    return result\n",
        "\n",
        "# Example usage\n",
        "nums = [1, 3, -1, -3, 5, 3, 6, 7]\n",
        "k = 3\n",
        "result = max_sliding_window(nums, k)\n",
        "print(result)\n",
        "\n",
        "# Output: [3, 3, 5, 5, 6, 7] (The maximum sliding window for each position is [1, 3, -1] -> [3, -1, -3] -> [-1, -3, 5] -> [-3, 5, 3] -> [5, 3, 6] -> [3, 6, 7])\n"
      ],
      "metadata": {
        "colab": {
          "base_uri": "https://localhost:8080/"
        },
        "id": "37zG_HthccJp",
        "outputId": "6ebca841-7f31-4fea-8bcf-d83182037c74"
      },
      "execution_count": 11,
      "outputs": [
        {
          "output_type": "stream",
          "name": "stdout",
          "text": [
            "[3, 3, 5, 5, 6, 7]\n"
          ]
        }
      ]
    },
    {
      "cell_type": "code",
      "source": [
        "\"\"\"Given a **sorted** integer array `arr`, two integers `k` and `x`, return the `k` closest integers to `x` in the array. The result should also be sorted in ascending order.\n",
        "\n",
        "An integer `a` is closer to `x` than an integer `b` if:\n",
        "\n",
        "- `|a - x| < |b - x|`, or\n",
        "- `|a - x| == |b - x|` and `a < b`\"\"\""
      ],
      "metadata": {
        "colab": {
          "base_uri": "https://localhost:8080/",
          "height": 70
        },
        "id": "o1QguPzFcgdK",
        "outputId": "cc8f4439-9ee1-404f-e588-c83c404497f0"
      },
      "execution_count": 12,
      "outputs": [
        {
          "output_type": "execute_result",
          "data": {
            "text/plain": [
              "'Given a\\xa0**sorted**\\xa0integer array\\xa0`arr`, two integers\\xa0`k`\\xa0and\\xa0`x`, return the\\xa0`k`\\xa0closest integers to\\xa0`x`\\xa0in the array. The result should also be sorted in ascending order.\\n\\nAn integer\\xa0`a`\\xa0is closer to\\xa0`x`\\xa0than an integer\\xa0`b`\\xa0if:\\n\\n- `|a - x| < |b - x|`, or\\n- `|a - x| == |b - x|`\\xa0and\\xa0`a < b`'"
            ],
            "application/vnd.google.colaboratory.intrinsic+json": {
              "type": "string"
            }
          },
          "metadata": {},
          "execution_count": 12
        }
      ]
    },
    {
      "cell_type": "code",
      "source": [
        "def find_closest_elements(arr, k, x):\n",
        "    left = 0\n",
        "    right = len(arr) - 1\n",
        "\n",
        "    # Use binary search to find the position of x in the array\n",
        "    while left <= right:\n",
        "        mid = (left + right) // 2\n",
        "        if arr[mid] == x:\n",
        "            break\n",
        "        elif arr[mid] < x:\n",
        "            left = mid + 1\n",
        "        else:\n",
        "            right = mid - 1\n",
        "\n",
        "    # Adjust the left and right pointers to include the k closest elements\n",
        "    left = max(0, mid - k)  # Ensure left pointer doesn't go below index 0\n",
        "    right = min(len(arr) - 1, left + k - 1)  # Ensure right pointer doesn't go beyond the array\n",
        "\n",
        "    # Use two pointers to get the k closest elements\n",
        "    while right - left + 1 > k:\n",
        "        if abs(arr[left] - x) <= abs(arr[right] - x):\n",
        "            right -= 1\n",
        "        else:\n",
        "            left += 1\n",
        "\n",
        "    # Return the k closest elements\n",
        "    return arr[left:right+1]\n",
        "\n",
        "# Example usage\n",
        "arr = [1, 2, 3, 4, 5]\n",
        "k = 3\n",
        "x = 4\n",
        "result = find_closest_elements(arr, k, x)\n",
        "print(result)\n",
        "\n",
        "# Output: [3, 4, 5] (The 3 closest integers to 4 in the array [1, 2, 3, 4, 5] are [3, 4, 5])\n"
      ],
      "metadata": {
        "colab": {
          "base_uri": "https://localhost:8080/"
        },
        "id": "RBDcG8qkcnZt",
        "outputId": "463bf3e4-3c33-4308-c96a-ca4f85a93ac2"
      },
      "execution_count": 13,
      "outputs": [
        {
          "output_type": "stream",
          "name": "stdout",
          "text": [
            "[1, 2, 3]\n"
          ]
        }
      ]
    },
    {
      "cell_type": "code",
      "source": [],
      "metadata": {
        "id": "j6GCv3avcq58"
      },
      "execution_count": null,
      "outputs": []
    }
  ]
}