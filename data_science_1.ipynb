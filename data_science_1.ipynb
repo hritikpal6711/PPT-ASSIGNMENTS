{
  "nbformat": 4,
  "nbformat_minor": 0,
  "metadata": {
    "colab": {
      "provenance": []
    },
    "kernelspec": {
      "name": "python3",
      "display_name": "Python 3"
    },
    "language_info": {
      "name": "python"
    }
  },
  "cells": [
    {
      "cell_type": "markdown",
      "source": [
        "### 1. Write a Python program to reverse a string without using any built-in string reversal functions.\n"
      ],
      "metadata": {
        "id": "DsTTplB6Du1j"
      }
    },
    {
      "cell_type": "code",
      "execution_count": 2,
      "metadata": {
        "colab": {
          "base_uri": "https://localhost:8080/"
        },
        "id": "8ZsVpdu88cXu",
        "outputId": "c6a01cc3-7937-4824-92df-b83a2ec2919e"
      },
      "outputs": [
        {
          "output_type": "stream",
          "name": "stdout",
          "text": [
            "Enter a string: hello world\n",
            "Reversed string: dlrow olleh\n"
          ]
        }
      ],
      "source": [
        "def reverse_string(string):\n",
        "    reversed_string = \"\"\n",
        "    for i in range(len(string)-1, -1, -1):\n",
        "        reversed_string += string[i]\n",
        "    return reversed_string\n",
        "\n",
        "input_string = input(\"Enter a string: \")\n",
        "reversed_string = reverse_string(input_string)\n",
        "print(\"Reversed string:\", reversed_string)"
      ]
    },
    {
      "cell_type": "markdown",
      "source": [
        "### 2. Implement a function to check if a given string is a palindrome."
      ],
      "metadata": {
        "id": "cALRBryRExkc"
      }
    },
    {
      "cell_type": "code",
      "source": [
        "def is_palindrome(string):\n",
        "    reversed_string = \"\"\n",
        "    for i in range(len(string)-1, -1, -1):\n",
        "        reversed_string += string[i]\n",
        "    return string == reversed_string\n",
        "\n",
        "input_string = input(\"Enter a string: \")\n",
        "if is_palindrome(input_string):\n",
        "    print(\"The string is a palindrome.\")\n",
        "else:\n",
        "    print(\"The string is not a palindrome.\")"
      ],
      "metadata": {
        "colab": {
          "base_uri": "https://localhost:8080/"
        },
        "id": "L5OHcf6CE2IC",
        "outputId": "e9b788f1-821d-4cc3-ff36-58f7ae564cb6"
      },
      "execution_count": 4,
      "outputs": [
        {
          "output_type": "stream",
          "name": "stdout",
          "text": [
            "Enter a string: wellew\n",
            "The string is a palindrome.\n"
          ]
        }
      ]
    },
    {
      "cell_type": "markdown",
      "source": [
        "### 3. Write a program to find the largest element in a given list."
      ],
      "metadata": {
        "id": "jscHTprNFGCU"
      }
    },
    {
      "cell_type": "code",
      "source": [
        "def find_largest_element(lst):\n",
        "    largest = lst[0]\n",
        "    for num in lst:\n",
        "        if num > largest:\n",
        "            largest = num\n",
        "    return largest\n",
        "\n",
        "numbers = [12, 45, 67, 23, 90, 34]\n",
        "largest_number = find_largest_element(numbers)\n",
        "print(\"Largest number:\", largest_number)"
      ],
      "metadata": {
        "colab": {
          "base_uri": "https://localhost:8080/"
        },
        "id": "5ffcFAWxFLlF",
        "outputId": "5c12453c-7884-43a0-8426-2284266962db"
      },
      "execution_count": 5,
      "outputs": [
        {
          "output_type": "stream",
          "name": "stdout",
          "text": [
            "Largest number: 90\n"
          ]
        }
      ]
    },
    {
      "cell_type": "markdown",
      "source": [
        "### 4. Implement a function to count the occurrence of each element in a list."
      ],
      "metadata": {
        "id": "2WhPbXVFFYYu"
      }
    },
    {
      "cell_type": "code",
      "source": [
        "def count_occurrences(lst):\n",
        "    counts = {}\n",
        "    for num in lst:\n",
        "        if num in counts:\n",
        "            counts[num] += 1\n",
        "        else:\n",
        "            counts[num] = 1\n",
        "    return counts\n",
        "\n",
        "numbers = [1, 2, 3, 4, 2, 3, 1, 2, 4, 5, 1]\n",
        "occurrences = count_occurrences(numbers)\n",
        "print(\"Occurrences:\", occurrences)"
      ],
      "metadata": {
        "colab": {
          "base_uri": "https://localhost:8080/"
        },
        "id": "DRTIXt-RFcfv",
        "outputId": "2e5cdb53-c6e4-4c8c-e8f0-2014adac77f6"
      },
      "execution_count": 6,
      "outputs": [
        {
          "output_type": "stream",
          "name": "stdout",
          "text": [
            "Occurrences: {1: 3, 2: 3, 3: 2, 4: 2, 5: 1}\n"
          ]
        }
      ]
    },
    {
      "cell_type": "markdown",
      "source": [
        "### 5. Write a Python program to find the second largest number in a list."
      ],
      "metadata": {
        "id": "uzzlvBCkFmQQ"
      }
    },
    {
      "cell_type": "code",
      "source": [
        "def find_second_largest(lst):\n",
        "    largest = float('-inf')\n",
        "    second_largest = float('-inf')\n",
        "\n",
        "    for num in lst:\n",
        "        if num > largest:\n",
        "            second_largest = largest\n",
        "            largest = num\n",
        "        elif num > second_largest and num != largest:\n",
        "            second_largest = num\n",
        "\n",
        "    return second_largest\n",
        "\n",
        "numbers = [12, 45, 67, 23, 90, 34]\n",
        "second_largest = find_second_largest(numbers)\n",
        "print(\"Second largest number:\", second_largest)"
      ],
      "metadata": {
        "colab": {
          "base_uri": "https://localhost:8080/"
        },
        "id": "GzHbEU5rFl44",
        "outputId": "0fa4a8ba-7779-4626-bcdd-0e8f69e115ce"
      },
      "execution_count": 7,
      "outputs": [
        {
          "output_type": "stream",
          "name": "stdout",
          "text": [
            "Second largest number: 67\n"
          ]
        }
      ]
    },
    {
      "cell_type": "markdown",
      "source": [
        "### 6. Implement a function to remove duplicate elements from a list."
      ],
      "metadata": {
        "id": "QGOV1x3WFtrg"
      }
    },
    {
      "cell_type": "code",
      "source": [
        "def remove_duplicates(lst):\n",
        "    return list(set(lst))\n",
        "\n",
        "numbers = [1, 2, 3, 4, 2, 3, 1, 2, 4, 5, 1]\n",
        "unique_numbers = remove_duplicates(numbers)\n",
        "print(\"List with duplicates removed:\", unique_numbers)"
      ],
      "metadata": {
        "colab": {
          "base_uri": "https://localhost:8080/"
        },
        "id": "qAH97Fr8FtLy",
        "outputId": "9ee70c59-9d14-4eea-ba70-0d0e3410d8c6"
      },
      "execution_count": 8,
      "outputs": [
        {
          "output_type": "stream",
          "name": "stdout",
          "text": [
            "List with duplicates removed: [1, 2, 3, 4, 5]\n"
          ]
        }
      ]
    },
    {
      "cell_type": "markdown",
      "source": [
        "### 7. Write a program to calculate the factorial of a given number."
      ],
      "metadata": {
        "id": "jztHox6NF7Ha"
      }
    },
    {
      "cell_type": "code",
      "source": [
        "def factorial(n):\n",
        "    if n == 0:\n",
        "        return 1\n",
        "    else:\n",
        "        return n * factorial(n-1)\n",
        "\n",
        "number = int(input(\"Enter a number: \"))\n",
        "result = factorial(number)\n",
        "print(\"Factorial:\", result)"
      ],
      "metadata": {
        "colab": {
          "base_uri": "https://localhost:8080/"
        },
        "id": "pA9SEgBnF69T",
        "outputId": "7ef0eabb-6daf-42e7-c193-25cd3cec691b"
      },
      "execution_count": 9,
      "outputs": [
        {
          "output_type": "stream",
          "name": "stdout",
          "text": [
            "Enter a number: 5\n",
            "Factorial: 120\n"
          ]
        }
      ]
    },
    {
      "cell_type": "markdown",
      "source": [
        "### 8. Implement a function to check if a given number is prime."
      ],
      "metadata": {
        "id": "byoB_Y4iGCBz"
      }
    },
    {
      "cell_type": "code",
      "source": [
        "def is_prime(n):\n",
        "    if n <= 1:\n",
        "        return False\n",
        "    for i in range(2, int(n**0.5) + 1):\n",
        "        if n % i == 0:\n",
        "            return False\n",
        "    return True\n",
        "\n",
        "number = int(input(\"Enter a number: \"))\n",
        "if is_prime(number):\n",
        "    print(\"The number is prime.\")\n",
        "else:\n",
        "    print(\"The number is not prime.\")"
      ],
      "metadata": {
        "colab": {
          "base_uri": "https://localhost:8080/"
        },
        "id": "6wk9I8g_GB6L",
        "outputId": "14fedf7e-ece5-447d-f860-59c60e2a3774"
      },
      "execution_count": 10,
      "outputs": [
        {
          "output_type": "stream",
          "name": "stdout",
          "text": [
            "Enter a number: 5\n",
            "The number is prime.\n"
          ]
        }
      ]
    },
    {
      "cell_type": "markdown",
      "source": [
        "### 9. Write a Python program to sort a list of integers in ascending order."
      ],
      "metadata": {
        "id": "wyHpheK_GKME"
      }
    },
    {
      "cell_type": "code",
      "source": [
        "def sort_list(lst):\n",
        "    return sorted(lst)\n",
        "\n",
        "numbers = [5, 2, 9, 1, 7, 3]\n",
        "sorted_numbers = sort_list(numbers)\n",
        "print(\"Sorted list:\", sorted_numbers)"
      ],
      "metadata": {
        "colab": {
          "base_uri": "https://localhost:8080/"
        },
        "id": "E7xEhAeHGJ9r",
        "outputId": "b13cc241-df17-4505-a3ff-8bd03a8b4ca2"
      },
      "execution_count": 11,
      "outputs": [
        {
          "output_type": "stream",
          "name": "stdout",
          "text": [
            "Sorted list: [1, 2, 3, 5, 7, 9]\n"
          ]
        }
      ]
    },
    {
      "cell_type": "markdown",
      "source": [
        "### 10. Implement a function to find the sum of all numbers in a list."
      ],
      "metadata": {
        "id": "sMBD2pakGSBU"
      }
    },
    {
      "cell_type": "code",
      "source": [
        "def find_sum(lst):\n",
        "    total = 0\n",
        "    for num in lst:\n",
        "        total += num\n",
        "    return total\n",
        "\n",
        "numbers = [1, 2, 3, 4, 5]\n",
        "sum_of_numbers = find_sum(numbers)\n",
        "print(\"Sum of numbers:\", sum_of_numbers)"
      ],
      "metadata": {
        "colab": {
          "base_uri": "https://localhost:8080/"
        },
        "id": "kG3j6x7YGR3t",
        "outputId": "10f9f7c9-f40b-46c7-8bbd-1dbc6d03ddc3"
      },
      "execution_count": 12,
      "outputs": [
        {
          "output_type": "stream",
          "name": "stdout",
          "text": [
            "Sum of numbers: 15\n"
          ]
        }
      ]
    },
    {
      "cell_type": "markdown",
      "source": [
        "### 11. Write a program to find the common elements between two lists."
      ],
      "metadata": {
        "id": "qM7E-tajGXcd"
      }
    },
    {
      "cell_type": "code",
      "source": [
        "def find_common_elements(list1, list2):\n",
        "    common_elements = []\n",
        "    for element in list1:\n",
        "        if element in list2 and element not in common_elements:\n",
        "            common_elements.append(element)\n",
        "    return common_elements\n",
        "\n",
        "list1 = [1, 2, 3, 4, 5]\n",
        "list2 = [4, 5, 6, 7, 8]\n",
        "common_elements = find_common_elements(list1, list2)\n",
        "print(\"Common elements:\", common_elements)"
      ],
      "metadata": {
        "colab": {
          "base_uri": "https://localhost:8080/"
        },
        "id": "qZVhxcQuGXS9",
        "outputId": "b0f63473-4f33-4932-982b-73658924de12"
      },
      "execution_count": 13,
      "outputs": [
        {
          "output_type": "stream",
          "name": "stdout",
          "text": [
            "Common elements: [4, 5]\n"
          ]
        }
      ]
    },
    {
      "cell_type": "markdown",
      "source": [
        "### 12. Implement a function to check if a given string is an anagram of another string."
      ],
      "metadata": {
        "id": "qTSyNLXXGerW"
      }
    },
    {
      "cell_type": "code",
      "source": [
        "def is_anagram(string1, string2):\n",
        "    string1 = string1.lower().replace(\" \", \"\")\n",
        "    string2 = string2.lower().replace(\" \", \"\")\n",
        "    return sorted(string1) == sorted(string2)\n",
        "\n",
        "string1 = input(\"Enter the first string: \")\n",
        "string2 = input(\"Enter the second string: \")\n",
        "if is_anagram(string1, string2):\n",
        "    print(\"The strings are anagrams.\")\n",
        "else:\n",
        "    print(\"The strings are not anagrams.\")"
      ],
      "metadata": {
        "colab": {
          "base_uri": "https://localhost:8080/"
        },
        "id": "MEn4OO-aGede",
        "outputId": "8f74b444-af04-4da0-cbed-3a6b5876a162"
      },
      "execution_count": 14,
      "outputs": [
        {
          "output_type": "stream",
          "name": "stdout",
          "text": [
            "Enter the first string: asdfgh\n",
            "Enter the second string: asdfgh\n",
            "The strings are anagrams.\n"
          ]
        }
      ]
    },
    {
      "cell_type": "markdown",
      "source": [
        "### 13. Write a Python program to generate all permutations of a given string."
      ],
      "metadata": {
        "id": "KfvRDAtBG0IY"
      }
    },
    {
      "cell_type": "code",
      "source": [
        "from itertools import permutations\n",
        "\n",
        "def generate_permutations(string):\n",
        "    perms = [''.join(p) for p in permutations(string)]\n",
        "    return perms\n",
        "\n",
        "input_string = input(\"Enter a string: \")\n",
        "permutations = generate_permutations(input_string)\n",
        "print(\"Permutations:\", permutations)"
      ],
      "metadata": {
        "colab": {
          "base_uri": "https://localhost:8080/"
        },
        "id": "T6dA85XxGz_Y",
        "outputId": "d7c7be89-42f1-4808-eac5-981eae52af04"
      },
      "execution_count": 15,
      "outputs": [
        {
          "output_type": "stream",
          "name": "stdout",
          "text": [
            "Enter a string: 123\n",
            "Permutations: ['123', '132', '213', '231', '312', '321']\n"
          ]
        }
      ]
    },
    {
      "cell_type": "markdown",
      "source": [
        "### 14. Implement a function to calculate the Fibonacci sequence up to a given number of terms."
      ],
      "metadata": {
        "id": "hsefG7agG9CB"
      }
    },
    {
      "cell_type": "code",
      "source": [
        "def fibonacci_sequence(n):\n",
        "    sequence = [0, 1]\n",
        "    while len(sequence) < n:\n",
        "        next_number = sequence[-1] + sequence[-2]\n",
        "        sequence.append(next_number)\n",
        "    return sequence\n",
        "\n",
        "terms = int(input(\"Enter the number of terms: \"))\n",
        "fib_sequence = fibonacci_sequence(terms)\n",
        "print(\"Fibonacci sequence:\", fib_sequence)"
      ],
      "metadata": {
        "colab": {
          "base_uri": "https://localhost:8080/"
        },
        "id": "W7M8-xfKG83h",
        "outputId": "6b24ecce-87d3-420e-baea-6227953f45b9"
      },
      "execution_count": 16,
      "outputs": [
        {
          "output_type": "stream",
          "name": "stdout",
          "text": [
            "Enter the number of terms: 12\n",
            "Fibonacci sequence: [0, 1, 1, 2, 3, 5, 8, 13, 21, 34, 55, 89]\n"
          ]
        }
      ]
    },
    {
      "cell_type": "markdown",
      "source": [
        "### 15. Write a program to find the median of a list of numbers."
      ],
      "metadata": {
        "id": "4mOYSpr1HGb6"
      }
    },
    {
      "cell_type": "code",
      "source": [
        "def find_median(numbers):\n",
        "    sorted_numbers = sorted(numbers)\n",
        "    n = len(sorted_numbers)\n",
        "    if n % 2 == 0:\n",
        "        median = (sorted_numbers[n//2 - 1] + sorted_numbers[n//2]) / 2\n",
        "    else:\n",
        "        median = sorted_numbers[n//2]\n",
        "    return median\n",
        "\n",
        "numbers = [5, 2, 9, 1, 7, 3]\n",
        "median = find_median(numbers)\n",
        "print(\"Median:\", median)"
      ],
      "metadata": {
        "colab": {
          "base_uri": "https://localhost:8080/"
        },
        "id": "WPPhh6CKHGRC",
        "outputId": "e4e260f8-5a89-4818-91e6-c8a7748d321f"
      },
      "execution_count": 17,
      "outputs": [
        {
          "output_type": "stream",
          "name": "stdout",
          "text": [
            "Median: 4.0\n"
          ]
        }
      ]
    },
    {
      "cell_type": "markdown",
      "source": [
        "### 16. Implement a function to check if a given list is sorted in non-decreasing order."
      ],
      "metadata": {
        "id": "1aaF0_stHFZb"
      }
    },
    {
      "cell_type": "code",
      "source": [
        "def is_sorted(lst):\n",
        "    return all(lst[i] <= lst[i+1] for i in range(len(lst)-1))\n",
        "\n",
        "numbers = [1, 2, 3, 4, 5]\n",
        "if is_sorted(numbers):\n",
        "    print(\"The list is sorted in non-decreasing order.\")\n",
        "else:\n",
        "    print(\"The list is not sorted in non-decreasing order.\")"
      ],
      "metadata": {
        "colab": {
          "base_uri": "https://localhost:8080/"
        },
        "id": "RXy6M_NqHFQR",
        "outputId": "985eeb9e-ed17-4e02-de35-1dc2a2880235"
      },
      "execution_count": 18,
      "outputs": [
        {
          "output_type": "stream",
          "name": "stdout",
          "text": [
            "The list is sorted in non-decreasing order.\n"
          ]
        }
      ]
    },
    {
      "cell_type": "markdown",
      "source": [
        "### 17. Write a Python program to find the intersection of two lists."
      ],
      "metadata": {
        "id": "kGAM6OlMHE5C"
      }
    },
    {
      "cell_type": "code",
      "source": [
        "def find_intersection(list1, list2):\n",
        "    intersection = list(set(list1) & set(list2))\n",
        "    return intersection\n",
        "\n",
        "list1 = [1, 2, 3, 4, 5]\n",
        "list2 = [4, 5, 6, 7, 8]\n",
        "intersection = find_intersection(list1, list2)\n",
        "print(\"Intersection:\", intersection)"
      ],
      "metadata": {
        "colab": {
          "base_uri": "https://localhost:8080/"
        },
        "id": "BzsRrGBFHEwT",
        "outputId": "d7929bf1-f4ed-4aa8-d824-82c4f310c289"
      },
      "execution_count": 19,
      "outputs": [
        {
          "output_type": "stream",
          "name": "stdout",
          "text": [
            "Intersection: [4, 5]\n"
          ]
        }
      ]
    },
    {
      "cell_type": "markdown",
      "source": [
        "### 18. Implement a function to find the maximum subarray sum in a given list."
      ],
      "metadata": {
        "id": "zQba2CHXHjtm"
      }
    },
    {
      "cell_type": "code",
      "source": [
        "def find_maximum_subarray_sum(lst):\n",
        "    max_sum = float('-inf')\n",
        "    current_sum = 0\n",
        "\n",
        "    for num in lst:\n",
        "        current_sum = max(num, current_sum + num)\n",
        "        max_sum = max(max_sum, current_sum)\n",
        "\n",
        "    return max_sum\n",
        "\n",
        "numbers = [2, -3, 4, -1, -2, 1, 5, -3]\n",
        "maximum_sum = find_maximum_subarray_sum(numbers)\n",
        "print(\"Maximum subarray sum:\", maximum_sum)"
      ],
      "metadata": {
        "colab": {
          "base_uri": "https://localhost:8080/"
        },
        "id": "bguAahF9Hjl-",
        "outputId": "2275393c-6ab1-406a-e6bc-0c1e4958b5de"
      },
      "execution_count": 20,
      "outputs": [
        {
          "output_type": "stream",
          "name": "stdout",
          "text": [
            "Maximum subarray sum: 7\n"
          ]
        }
      ]
    },
    {
      "cell_type": "markdown",
      "source": [
        "### 19. Write a program to remove all vowels from a given string."
      ],
      "metadata": {
        "id": "OT4nqcFkHrub"
      }
    },
    {
      "cell_type": "code",
      "source": [
        "def remove_vowels(string):\n",
        "    vowels = ['a', 'e', 'i', 'o', 'u']\n",
        "    result = \"\"\n",
        "    for char in string:\n",
        "        if char.lower() not in vowels:\n",
        "            result += char\n",
        "    return result\n",
        "\n",
        "input_string = input(\"Enter a string: \")\n",
        "string_without_vowels = remove_vowels(input_string)\n",
        "print(\"String without vowels:\", string_without_vowels)"
      ],
      "metadata": {
        "colab": {
          "base_uri": "https://localhost:8080/"
        },
        "id": "o8ymY4HTHrnS",
        "outputId": "156001a1-4c9c-4bcb-a8cf-1dca3c938415"
      },
      "execution_count": 21,
      "outputs": [
        {
          "output_type": "stream",
          "name": "stdout",
          "text": [
            "Enter a string: asdfghj\n",
            "String without vowels: sdfghj\n"
          ]
        }
      ]
    },
    {
      "cell_type": "markdown",
      "source": [
        "### 20. Implement a function to reverse the order of words in a given sentence."
      ],
      "metadata": {
        "id": "4qqWc5FFH2b7"
      }
    },
    {
      "cell_type": "code",
      "source": [
        "def reverse_words(sentence):\n",
        "    words = sentence.split()\n",
        "    reversed_words = words[::-1]\n",
        "    reversed_sentence = \" \".join(reversed_words)\n",
        "    return reversed_sentence\n",
        "\n",
        "input_sentence = input(\"Enter a sentence: \")\n",
        "reversed_sentence = reverse_words(input_sentence)\n",
        "print(\"Reversed sentence:\", reversed_sentence)"
      ],
      "metadata": {
        "colab": {
          "base_uri": "https://localhost:8080/"
        },
        "id": "V3go3OylH2Uz",
        "outputId": "8ff6380b-8fe2-49e7-8066-335ab62ff37e"
      },
      "execution_count": 23,
      "outputs": [
        {
          "output_type": "stream",
          "name": "stdout",
          "text": [
            "Enter a sentence: hello world\n",
            "Reversed sentence: world hello\n"
          ]
        }
      ]
    },
    {
      "cell_type": "markdown",
      "source": [
        "### 21. Write a Python program to check if two strings are anagrams of each other."
      ],
      "metadata": {
        "id": "400Df4VHIFey"
      }
    },
    {
      "cell_type": "code",
      "source": [
        "def are_anagrams(string1, string2):\n",
        "    string1 = string1.lower().replace(\" \", \"\")\n",
        "    string2 = string2.lower().replace(\" \", \"\")\n",
        "    return sorted(string1) == sorted(string2)\n",
        "\n",
        "string1 = input(\"Enter the first string: \")\n",
        "string2 = input(\"Enter the second string: \")\n",
        "if are_anagrams(string1, string2):\n",
        "    print(\"The strings are anagrams.\")\n",
        "else:\n",
        "    print(\"The strings are not anagrams.\")"
      ],
      "metadata": {
        "colab": {
          "base_uri": "https://localhost:8080/"
        },
        "id": "MquoE1MUIFSi",
        "outputId": "47b305bf-304c-47a5-f043-68a2f5e76aab"
      },
      "execution_count": 24,
      "outputs": [
        {
          "output_type": "stream",
          "name": "stdout",
          "text": [
            "Enter the first string: qwerty\n",
            "Enter the second string: qwerty\n",
            "The strings are anagrams.\n"
          ]
        }
      ]
    },
    {
      "cell_type": "markdown",
      "source": [
        "### 22. Implement a function to find the first non-repeating character in a string."
      ],
      "metadata": {
        "id": "Wd2VhMHTITGr"
      }
    },
    {
      "cell_type": "code",
      "source": [
        "def find_first_non_repeating_char(string):\n",
        "    char_count = {}\n",
        "    for char in string:\n",
        "        if char in char_count:\n",
        "            char_count[char] += 1\n",
        "        else:\n",
        "            char_count[char] = 1\n",
        "\n",
        "    for char in string:\n",
        "        if char_count[char] == 1:\n",
        "            return char\n",
        "\n",
        "    return None\n",
        "\n",
        "input_string = input(\"Enter a string: \")\n",
        "first_non_repeating_char = find_first_non_repeating_char(input_string)\n",
        "if first_non_repeating_char:\n",
        "    print(\"First non-repeating character:\", first_non_repeating_char)\n",
        "else:\n",
        "    print(\"No non-repeating character found.\")"
      ],
      "metadata": {
        "colab": {
          "base_uri": "https://localhost:8080/"
        },
        "id": "aJBlikbyIS8r",
        "outputId": "f7f5a57c-98ad-424f-e4a2-45c1e61929a0"
      },
      "execution_count": 26,
      "outputs": [
        {
          "output_type": "stream",
          "name": "stdout",
          "text": [
            "Enter a string: qwertyqw\n",
            "First non-repeating character: e\n"
          ]
        }
      ]
    },
    {
      "cell_type": "markdown",
      "source": [
        "### 23. Write a program to find the prime factors of a given number."
      ],
      "metadata": {
        "id": "nVP6simPIe0V"
      }
    },
    {
      "cell_type": "code",
      "source": [
        "def find_prime_factors(number):\n",
        "    factors = []\n",
        "    divisor = 2\n",
        "\n",
        "    while divisor <= number:\n",
        "        if number % divisor == 0:\n",
        "            factors.append(divisor)\n",
        "            number /= divisor\n",
        "        else:\n",
        "            divisor += 1\n",
        "\n",
        "    return factors\n",
        "\n",
        "number = int(input(\"Enter a number: \"))\n",
        "prime_factors = find_prime_factors(number)\n",
        "print(\"Prime factors:\", prime_factors)"
      ],
      "metadata": {
        "colab": {
          "base_uri": "https://localhost:8080/"
        },
        "id": "6u51rCHOIer8",
        "outputId": "a90ae195-cd58-4a79-9036-53d02b5fb51a"
      },
      "execution_count": 27,
      "outputs": [
        {
          "output_type": "stream",
          "name": "stdout",
          "text": [
            "Enter a number: 123\n",
            "Prime factors: [3, 41]\n"
          ]
        }
      ]
    },
    {
      "cell_type": "markdown",
      "source": [
        "### 24. Implement a function to check if a given number is a power of two."
      ],
      "metadata": {
        "id": "4Ds_p-aHImUN"
      }
    },
    {
      "cell_type": "code",
      "source": [
        "def is_power_of_two(number):\n",
        "    if number <= 0:\n",
        "        return False\n",
        "    return (number & (number - 1)) == 0\n",
        "\n",
        "number = int(input(\"Enter a number: \"))\n",
        "if is_power_of_two(number):\n",
        "    print(\"The number is a power of two.\")\n",
        "else:\n",
        "    print(\"The number is not a power of two.\")"
      ],
      "metadata": {
        "colab": {
          "base_uri": "https://localhost:8080/"
        },
        "id": "yfJxE3-sImKk",
        "outputId": "337bcd88-16e1-4808-9917-09d2dff99d08"
      },
      "execution_count": 30,
      "outputs": [
        {
          "output_type": "stream",
          "name": "stdout",
          "text": [
            "Enter a number: 5\n",
            "The number is not a power of two.\n"
          ]
        }
      ]
    },
    {
      "cell_type": "markdown",
      "source": [
        "### 25. Write a Python program to merge two sorted lists into a single sorted list."
      ],
      "metadata": {
        "id": "ceZkdfbII2t-"
      }
    },
    {
      "cell_type": "code",
      "source": [
        "def merge_sorted_lists(list1, list2):\n",
        "    merged_list = []\n",
        "    i, j = 0, 0\n",
        "\n",
        "    while i < len(list1) and j < len(list2):\n",
        "        if list1[i] < list2[j]:\n",
        "            merged_list.append(list1[i])\n",
        "            i += 1\n",
        "        else:\n",
        "            merged_list.append(list2[j])\n",
        "            j += 1\n",
        "\n",
        "    merged_list.extend(list1[i:])\n",
        "    merged_list.extend(list2[j:])\n",
        "    return merged_list\n",
        "\n",
        "list1 = [1, 3, 5, 7]\n",
        "list2 = [2, 4, 6, 8]\n",
        "merged_list = merge_sorted_lists(list1, list2)\n",
        "print(\"Merged list:\", merged_list)"
      ],
      "metadata": {
        "colab": {
          "base_uri": "https://localhost:8080/"
        },
        "id": "BRl5JUZDI2l-",
        "outputId": "193aedc8-27e4-4f1e-f73f-6120f93fabe0"
      },
      "execution_count": 31,
      "outputs": [
        {
          "output_type": "stream",
          "name": "stdout",
          "text": [
            "Merged list: [1, 2, 3, 4, 5, 6, 7, 8]\n"
          ]
        }
      ]
    },
    {
      "cell_type": "markdown",
      "source": [
        "### 26. Implement a function to find the mode of a list of numbers."
      ],
      "metadata": {
        "id": "8dk1SU7rI9l_"
      }
    },
    {
      "cell_type": "code",
      "source": [
        "from collections import Counter\n",
        "\n",
        "def find_mode(numbers):\n",
        "    counter = Counter(numbers)\n",
        "    max_count = max(counter.values())\n",
        "    modes = [num for num, count in counter.items() if count == max_count]\n",
        "    return modes\n",
        "\n",
        "numbers = [1, 2, 3, 3, 4, 4, 4, 5]\n",
        "modes = find_mode(numbers)\n",
        "print(\"Mode(s):\", modes)"
      ],
      "metadata": {
        "colab": {
          "base_uri": "https://localhost:8080/"
        },
        "id": "o-ievTFkI9dv",
        "outputId": "a43a0e7d-a7b7-49da-ca6d-294d041b3ee8"
      },
      "execution_count": 32,
      "outputs": [
        {
          "output_type": "stream",
          "name": "stdout",
          "text": [
            "Mode(s): [4]\n"
          ]
        }
      ]
    },
    {
      "cell_type": "markdown",
      "source": [
        "### 27. Write a program to find the greatest common divisor (GCD) of two numbers."
      ],
      "metadata": {
        "id": "Pi7cj-9VJE3w"
      }
    },
    {
      "cell_type": "code",
      "source": [
        "def find_gcd(a, b):\n",
        "    while b != 0:\n",
        "        a, b = b, a % b\n",
        "    return a\n",
        "\n",
        "num1 = int(input(\"Enter the first number: \"))\n",
        "num2 = int(input(\"Enter the second number: \"))\n",
        "gcd = find_gcd(num1, num2)\n",
        "print(\"GCD:\", gcd)"
      ],
      "metadata": {
        "colab": {
          "base_uri": "https://localhost:8080/"
        },
        "id": "biOkZECpJD0f",
        "outputId": "ae6c18a4-f077-4e4a-9d67-e98e328faf5d"
      },
      "execution_count": 35,
      "outputs": [
        {
          "output_type": "stream",
          "name": "stdout",
          "text": [
            "Enter the first number: 123\n",
            "Enter the second number: 456\n",
            "GCD: 3\n"
          ]
        }
      ]
    },
    {
      "cell_type": "markdown",
      "source": [
        "### 28. Implement a function to calculate the square root of a given number."
      ],
      "metadata": {
        "id": "9r4Cp2lKJVd6"
      }
    },
    {
      "cell_type": "code",
      "source": [
        "def square_root(number):\n",
        "    if number < 0:\n",
        "        return None\n",
        "    guess = number\n",
        "    while abs(guess * guess - number) > 1e-10:\n",
        "        guess = (guess + number / guess) / 2\n",
        "    return guess\n",
        "\n",
        "number = float(input(\"Enter a number: \"))\n",
        "sqrt = square_root(number)\n",
        "if sqrt is None:\n",
        "    print(\"Invalid input. Cannot calculate square root of a negative number.\")\n",
        "else:\n",
        "    print(\"Square root:\", sqrt)"
      ],
      "metadata": {
        "colab": {
          "base_uri": "https://localhost:8080/"
        },
        "id": "rj7J5znYJVWi",
        "outputId": "056f7343-8b62-40f1-a466-efd9f15b9a03"
      },
      "execution_count": 36,
      "outputs": [
        {
          "output_type": "stream",
          "name": "stdout",
          "text": [
            "Enter a number: 4\n",
            "Square root: 2.000000000000002\n"
          ]
        }
      ]
    },
    {
      "cell_type": "markdown",
      "source": [
        "### 29. Write a Python program to check if a given string is a valid palindrome ignoring non-alphanumeric characters."
      ],
      "metadata": {
        "id": "QxcS6ldTJgZj"
      }
    },
    {
      "cell_type": "code",
      "source": [
        "import re\n",
        "\n",
        "def is_valid_palindrome(string):\n",
        "    alphanumeric_string = re.sub(r'\\W+', '', string.lower())\n",
        "    return alphanumeric_string == alphanumeric_string[::-1]\n",
        "\n",
        "input_string = input(\"Enter a string: \")\n",
        "if is_valid_palindrome(input_string):\n",
        "    print(\"The string is a valid palindrome.\")\n",
        "else:\n",
        "    print(\"The string is not a valid palindrome.\")"
      ],
      "metadata": {
        "colab": {
          "base_uri": "https://localhost:8080/"
        },
        "id": "vysLU77RJgNr",
        "outputId": "b171c4b1-6d71-4674-82f2-a32e37ddba53"
      },
      "execution_count": 37,
      "outputs": [
        {
          "output_type": "stream",
          "name": "stdout",
          "text": [
            "Enter a string: asdfgh\n",
            "The string is not a valid palindrome.\n"
          ]
        }
      ]
    },
    {
      "cell_type": "markdown",
      "source": [
        "### 30. Implement a function to find the minimum element in a rotated sorted list."
      ],
      "metadata": {
        "id": "Wkvv8WhoJrBE"
      }
    },
    {
      "cell_type": "code",
      "source": [
        "def find_minimum(rotated_list):\n",
        "    left = 0\n",
        "    right = len(rotated_list) - 1\n",
        "\n",
        "    while left < right:\n",
        "        mid = (left + right) // 2\n",
        "\n",
        "        if rotated_list[mid] > rotated_list[right]:\n",
        "            left = mid + 1\n",
        "        else:\n",
        "            right = mid\n",
        "\n",
        "    return rotated_list[left]\n",
        "\n",
        "rotated_list = [4, 5, 6, 7, 0, 1, 2]\n",
        "minimum = find_minimum(rotated_list)\n",
        "print(\"Minimum element:\", minimum)"
      ],
      "metadata": {
        "colab": {
          "base_uri": "https://localhost:8080/"
        },
        "id": "Rf9TguGQJq11",
        "outputId": "dd291ec2-7588-4ef3-909b-9a347cf5dd00"
      },
      "execution_count": 38,
      "outputs": [
        {
          "output_type": "stream",
          "name": "stdout",
          "text": [
            "Minimum element: 0\n"
          ]
        }
      ]
    },
    {
      "cell_type": "markdown",
      "source": [
        "### 31. Write a program to find the sum of all even numbers in a list."
      ],
      "metadata": {
        "id": "_deEZWdGJyJ7"
      }
    },
    {
      "cell_type": "code",
      "source": [
        "def sum_even_numbers(numbers):\n",
        "    sum_even = 0\n",
        "    for num in numbers:\n",
        "        if num % 2 == 0:\n",
        "            sum_even += num\n",
        "    return sum_even\n",
        "\n",
        "numbers = [1, 2, 3, 4, 5, 6, 7, 8, 9, 10]\n",
        "even_sum = sum_even_numbers(numbers)\n",
        "print(\"Sum of even numbers:\", even_sum)"
      ],
      "metadata": {
        "colab": {
          "base_uri": "https://localhost:8080/"
        },
        "id": "sMvVKSEmJx8b",
        "outputId": "9bb24d11-b9c0-4915-f2ab-b3d570311728"
      },
      "execution_count": 39,
      "outputs": [
        {
          "output_type": "stream",
          "name": "stdout",
          "text": [
            "Sum of even numbers: 30\n"
          ]
        }
      ]
    },
    {
      "cell_type": "markdown",
      "source": [
        "### 32. Implement a function to calculate the power of a number using recursion."
      ],
      "metadata": {
        "id": "GsK6lcdMJ54M"
      }
    },
    {
      "cell_type": "code",
      "source": [
        "def power(base, exponent):\n",
        "    if exponent == 0:\n",
        "        return 1\n",
        "    elif exponent > 0:\n",
        "        return base * power(base, exponent - 1)\n",
        "    else:\n",
        "        return 1 / power(base, -exponent)\n",
        "\n",
        "base = float(input(\"Enter the base: \"))\n",
        "exponent = int(input(\"Enter the exponent: \"))\n",
        "result = power(base, exponent)\n",
        "print(\"Result:\", result)"
      ],
      "metadata": {
        "colab": {
          "base_uri": "https://localhost:8080/"
        },
        "id": "WAvwMih4J5ws",
        "outputId": "02c83662-e72f-448a-d8c3-de1bfae5e096"
      },
      "execution_count": 40,
      "outputs": [
        {
          "output_type": "stream",
          "name": "stdout",
          "text": [
            "Enter the base: 2\n",
            "Enter the exponent: 3\n",
            "Result: 8.0\n"
          ]
        }
      ]
    },
    {
      "cell_type": "markdown",
      "source": [
        "### 33. Write a Python program to remove duplicates from a list while preserving the order."
      ],
      "metadata": {
        "id": "mNGQX4lCKEXe"
      }
    },
    {
      "cell_type": "code",
      "source": [
        "def remove_duplicates_preserve_order(lst):\n",
        "    seen = set()\n",
        "    result = []\n",
        "    for item in lst:\n",
        "        if item not in seen:\n",
        "            seen.add(item)\n",
        "            result.append(item)\n",
        "    return result\n",
        "\n",
        "numbers = [1, 2, 3, 2, 4, 5, 1, 6, 5]\n",
        "result = remove_duplicates_preserve_order(numbers)\n",
        "print(\"List with duplicates removed:\", result)"
      ],
      "metadata": {
        "colab": {
          "base_uri": "https://localhost:8080/"
        },
        "id": "RvOs4URvKEQn",
        "outputId": "368e4f1e-b63f-48e0-d8a6-5b3b48ee2e75"
      },
      "execution_count": 41,
      "outputs": [
        {
          "output_type": "stream",
          "name": "stdout",
          "text": [
            "List with duplicates removed: [1, 2, 3, 4, 5, 6]\n"
          ]
        }
      ]
    },
    {
      "cell_type": "markdown",
      "source": [
        "### 34. Implement a function to find the longest common prefix among a list of strings."
      ],
      "metadata": {
        "id": "xLwkviMoKLf_"
      }
    },
    {
      "cell_type": "code",
      "source": [
        "def longest_common_prefix(strings):\n",
        "    if not strings:\n",
        "        return \"\"\n",
        "    min_length = min(len(s) for s in strings)\n",
        "    for i in range(min_length):\n",
        "        if any(strings[j][i] != strings[0][i] for j in range(1, len(strings))):\n",
        "            return strings[0][:i]\n",
        "    return strings[0][:min_length]\n",
        "\n",
        "words = [\"flower\", \"flow\", \"flight\"]\n",
        "common_prefix = longest_common_prefix(words)\n",
        "print(\"Longest common prefix:\", common_prefix)"
      ],
      "metadata": {
        "colab": {
          "base_uri": "https://localhost:8080/"
        },
        "id": "OJTnRtvTKLX3",
        "outputId": "723cbef1-5945-4600-ddd0-b4360ad8b52c"
      },
      "execution_count": 42,
      "outputs": [
        {
          "output_type": "stream",
          "name": "stdout",
          "text": [
            "Longest common prefix: fl\n"
          ]
        }
      ]
    },
    {
      "cell_type": "markdown",
      "source": [
        "### 35. Write a program to check if a given number is a perfect square."
      ],
      "metadata": {
        "id": "viF-RZIhKR7I"
      }
    },
    {
      "cell_type": "code",
      "source": [
        "def is_perfect_square(number):\n",
        "    if number < 0:\n",
        "        return False\n",
        "    root = int(number ** 0.5)\n",
        "    return root * root == number\n",
        "\n",
        "number = int(input(\"Enter a number: \"))\n",
        "if is_perfect_square(number):\n",
        "    print(\"The number is a perfect square.\")\n",
        "else:\n",
        "    print(\"The number is not a perfect square.\")"
      ],
      "metadata": {
        "colab": {
          "base_uri": "https://localhost:8080/"
        },
        "id": "zm5rCGy0KRxw",
        "outputId": "ceff709c-660a-4dab-a0d0-bb4136a2946e"
      },
      "execution_count": 43,
      "outputs": [
        {
          "output_type": "stream",
          "name": "stdout",
          "text": [
            "Enter a number: 123\n",
            "The number is not a perfect square.\n"
          ]
        }
      ]
    },
    {
      "cell_type": "markdown",
      "source": [
        "### 36. Implement a function to calculate the product of all elements in a list."
      ],
      "metadata": {
        "id": "Vh9k54sDKcyy"
      }
    },
    {
      "cell_type": "code",
      "source": [
        "def calculate_product(numbers):\n",
        "    product = 1\n",
        "    for num in numbers:\n",
        "        product *= num\n",
        "    return product\n",
        "\n",
        "numbers = [2, 3, 4, 5]\n",
        "product = calculate_product(numbers)\n",
        "print(\"Product of numbers:\", product)"
      ],
      "metadata": {
        "colab": {
          "base_uri": "https://localhost:8080/"
        },
        "id": "2iCzxTRlKZbh",
        "outputId": "5ba22770-8199-4981-9e35-5a8b84c005f1"
      },
      "execution_count": 44,
      "outputs": [
        {
          "output_type": "stream",
          "name": "stdout",
          "text": [
            "Product of numbers: 120\n"
          ]
        }
      ]
    },
    {
      "cell_type": "markdown",
      "source": [
        "### 37. Write a Python program to reverse the order of words in a sentence while preserving the word order."
      ],
      "metadata": {
        "id": "B_A-Gp_fKjKb"
      }
    },
    {
      "cell_type": "code",
      "source": [
        "def reverse_words_preserve_order(sentence):\n",
        "    words = sentence.split()\n",
        "    reversed_sentence = \" \".join(words[::-1])\n",
        "    return reversed_sentence\n",
        "\n",
        "input_sentence = input(\"Enter a sentence: \")\n",
        "reversed_sentence = reverse_words_preserve_order(input_sentence)\n",
        "print(\"Reversed sentence:\", reversed_sentence)"
      ],
      "metadata": {
        "colab": {
          "base_uri": "https://localhost:8080/"
        },
        "id": "nmxTp19ZKjB7",
        "outputId": "ec76cfb9-d274-4bb6-c534-4eb6a8776e4d"
      },
      "execution_count": 45,
      "outputs": [
        {
          "output_type": "stream",
          "name": "stdout",
          "text": [
            "Enter a sentence: hello world\n",
            "Reversed sentence: world hello\n"
          ]
        }
      ]
    },
    {
      "cell_type": "markdown",
      "source": [
        "### 38. Implement a function to find the missing number in a given list of consecutive numbers."
      ],
      "metadata": {
        "id": "kPU4_9jXKoyk"
      }
    },
    {
      "cell_type": "code",
      "source": [
        "def find_missing_number(numbers):\n",
        "    n = len(numbers) + 1\n",
        "    expected_sum = n * (n + 1) // 2\n",
        "    actual_sum = sum(numbers)\n",
        "    missing_number = expected_sum - actual_sum\n",
        "    return missing_number\n",
        "\n",
        "numbers = [1, 2, 3, 5, 6, 7]\n",
        "missing_num = find_missing_number(numbers)\n",
        "print(\"Missing number:\", missing_num)"
      ],
      "metadata": {
        "colab": {
          "base_uri": "https://localhost:8080/"
        },
        "id": "V-U59Ko9Koor",
        "outputId": "88ea5cf5-60e8-4561-c5a0-1297dd8c7d10"
      },
      "execution_count": 46,
      "outputs": [
        {
          "output_type": "stream",
          "name": "stdout",
          "text": [
            "Missing number: 4\n"
          ]
        }
      ]
    },
    {
      "cell_type": "markdown",
      "source": [
        "### 39. Write a program to find the sum of digits of a given number."
      ],
      "metadata": {
        "id": "7k5Tlar_K0KE"
      }
    },
    {
      "cell_type": "code",
      "source": [
        "def sum_of_digits(number):\n",
        "    sum_digits = 0\n",
        "    while number > 0:\n",
        "        digit = number % 10\n",
        "        sum_digits += digit\n",
        "        number //= 10\n",
        "    return sum_digits\n",
        "\n",
        "number = int(input(\"Enter a number: \"))\n",
        "digit_sum = sum_of_digits(number)\n",
        "print(\"Sum of digits:\", digit_sum)"
      ],
      "metadata": {
        "colab": {
          "base_uri": "https://localhost:8080/"
        },
        "id": "SzSEd40IK0BV",
        "outputId": "84ad5996-66e7-43dd-a089-1b0aa2aebe26"
      },
      "execution_count": 47,
      "outputs": [
        {
          "output_type": "stream",
          "name": "stdout",
          "text": [
            "Enter a number: 123\n",
            "Sum of digits: 6\n"
          ]
        }
      ]
    },
    {
      "cell_type": "markdown",
      "source": [
        "### 40. Implement a function to check if a given string is a valid palindrome considering case sensitivity."
      ],
      "metadata": {
        "id": "gqRHigZjK8Vu"
      }
    },
    {
      "cell_type": "code",
      "source": [
        "def is_valid_palindrome_case_sensitive(string):\n",
        "    return string == string[::-1]\n",
        "\n",
        "input_string = input(\"Enter a string: \")\n",
        "if is_valid_palindrome_case_sensitive(input_string):\n",
        "    print(\"The string is a valid palindrome.\")\n",
        "else:\n",
        "    print(\"The string is not a valid palindrome.\")"
      ],
      "metadata": {
        "colab": {
          "base_uri": "https://localhost:8080/"
        },
        "id": "Sp47BtKyK8NH",
        "outputId": "4153a335-be22-4e03-a1cf-e70b4400b9ad"
      },
      "execution_count": 48,
      "outputs": [
        {
          "output_type": "stream",
          "name": "stdout",
          "text": [
            "Enter a string: hello world\n",
            "The string is not a valid palindrome.\n"
          ]
        }
      ]
    },
    {
      "cell_type": "markdown",
      "source": [
        "### 41. Write a Python program to find the smallest missing positive integer in a list."
      ],
      "metadata": {
        "id": "fxXxokOgLFHW"
      }
    },
    {
      "cell_type": "code",
      "source": [
        "def find_smallest_missing_positive(numbers):\n",
        "    n = len(numbers)\n",
        "    for i in range(n):\n",
        "        while 1 <= numbers[i] <= n and numbers[numbers[i] - 1] != numbers[i]:\n",
        "            numbers[numbers[i] - 1], numbers[i] = numbers[i], numbers[numbers[i] - 1]\n",
        "    for i in range(n):\n",
        "        if numbers[i] != i + 1:\n",
        "            return i + 1\n",
        "    return n + 1\n",
        "\n",
        "numbers = [3, 4, -1, 1]\n",
        "smallest_missing = find_smallest_missing_positive(numbers)\n",
        "print(\"Smallest missing positive integer:\", smallest_missing)"
      ],
      "metadata": {
        "colab": {
          "base_uri": "https://localhost:8080/"
        },
        "id": "GK9pvh90LE-O",
        "outputId": "353a4182-1dd7-4990-8e02-4537429c64da"
      },
      "execution_count": 49,
      "outputs": [
        {
          "output_type": "stream",
          "name": "stdout",
          "text": [
            "Smallest missing positive integer: 2\n"
          ]
        }
      ]
    },
    {
      "cell_type": "markdown",
      "source": [
        "### 42. Implement a function to find the longest palindrome substring in a given string."
      ],
      "metadata": {
        "id": "dK3crqbXLLug"
      }
    },
    {
      "cell_type": "code",
      "source": [
        "def longest_palindrome_substring(string):\n",
        "    longest = \"\"\n",
        "    for i in range(len(string)):\n",
        "        # Check odd-length palindromes centered at i\n",
        "        l, r = i, i\n",
        "        while l >= 0 and r < len(string) and string[l] == string[r]:\n",
        "            if r - l + 1 > len(longest):\n",
        "                longest = string[l:r+1]\n",
        "            l -= 1\n",
        "            r += 1\n",
        "\n",
        "        # Check even-length palindromes centered at i, i+1\n",
        "        l, r = i, i + 1\n",
        "        while l >= 0 and r < len(string) and string[l] == string[r]:\n",
        "            if r - l + 1 > len(longest):\n",
        "                longest = string[l:r+1]\n",
        "            l -= 1\n",
        "            r += 1\n",
        "\n",
        "    return longest\n",
        "\n",
        "input_string = input(\"Enter a string: \")\n",
        "longest_palindrome = longest_palindrome_substring(input_string)\n",
        "print(\"Longest palindrome substring:\", longest_palindrome)"
      ],
      "metadata": {
        "colab": {
          "base_uri": "https://localhost:8080/"
        },
        "id": "vVVbtlTeLLFP",
        "outputId": "c896b40c-ed77-45b9-de8c-bf18e608b15f"
      },
      "execution_count": 51,
      "outputs": [
        {
          "output_type": "stream",
          "name": "stdout",
          "text": [
            "Enter a string: forgeeksskeegfor\\\n",
            "Longest palindrome substring: geeksskeeg\n"
          ]
        }
      ]
    },
    {
      "cell_type": "markdown",
      "source": [
        "### 43. Write a program to find the number of occurrences of a given element in a list."
      ],
      "metadata": {
        "id": "6Kh0O9y1Llup"
      }
    },
    {
      "cell_type": "code",
      "source": [
        "def count_occurrences(numbers, target):\n",
        "    count = 0\n",
        "    for num in numbers:\n",
        "        if num == target:\n",
        "            count += 1\n",
        "    return count\n",
        "\n",
        "numbers = [1, 2, 3, 4, 2, 2, 5, 6, 2]\n",
        "target_number = 2\n",
        "occurrences"
      ],
      "metadata": {
        "colab": {
          "base_uri": "https://localhost:8080/"
        },
        "id": "K0QR_uKPLllL",
        "outputId": "28cea1f5-e143-4f66-d4a5-5433e8ca61b4"
      },
      "execution_count": 52,
      "outputs": [
        {
          "output_type": "execute_result",
          "data": {
            "text/plain": [
              "{1: 3, 2: 3, 3: 2, 4: 2, 5: 1}"
            ]
          },
          "metadata": {},
          "execution_count": 52
        }
      ]
    },
    {
      "cell_type": "markdown",
      "source": [
        "### 44. Implement a function to check if a given number is a perfect number."
      ],
      "metadata": {
        "id": "ypoTW3gBLr3K"
      }
    },
    {
      "cell_type": "code",
      "source": [
        "def is_perfect_number(number):\n",
        "    if number < 1:\n",
        "        return False\n",
        "    divisor_sum = sum(divisor for divisor in range(1, number) if number % divisor == 0)\n",
        "    return divisor_sum == number\n",
        "\n",
        "number = int(input(\"Enter a number: \"))\n",
        "if is_perfect_number(number):\n",
        "    print(\"The number is a perfect number.\")\n",
        "else:\n",
        "    print(\"The number is not a perfect number.\")"
      ],
      "metadata": {
        "colab": {
          "base_uri": "https://localhost:8080/"
        },
        "id": "WJBoWktrLrvL",
        "outputId": "55263f0a-268f-4e12-e169-e225318f2705"
      },
      "execution_count": 53,
      "outputs": [
        {
          "output_type": "stream",
          "name": "stdout",
          "text": [
            "Enter a number: 123\n",
            "The number is not a perfect number.\n"
          ]
        }
      ]
    },
    {
      "cell_type": "markdown",
      "source": [
        "### 45. Write a Python program to remove all duplicates from a string."
      ],
      "metadata": {
        "id": "ExmSfVSIL2Or"
      }
    },
    {
      "cell_type": "code",
      "source": [
        "def remove_duplicates(string):\n",
        "    unique_chars = []\n",
        "    for char in string:\n",
        "        if char not in unique_chars:\n",
        "            unique_chars.append(char)\n",
        "    return ''.join(unique_chars)\n",
        "\n",
        "input_string = input(\"Enter a string: \")\n",
        "result = remove_duplicates(input_string)\n",
        "print(\"String with duplicates removed:\", result)"
      ],
      "metadata": {
        "colab": {
          "base_uri": "https://localhost:8080/"
        },
        "id": "H1D0PM9ZL2CM",
        "outputId": "f5db81df-9c7d-4a4b-b8ac-71b631ea2ec9"
      },
      "execution_count": 54,
      "outputs": [
        {
          "output_type": "stream",
          "name": "stdout",
          "text": [
            "Enter a string: hello world\n",
            "String with duplicates removed: helo wrd\n"
          ]
        }
      ]
    },
    {
      "cell_type": "markdown",
      "source": [
        "### 46. Implement a function to find the first missing positive."
      ],
      "metadata": {
        "id": "06HF5Z7lMATN"
      }
    },
    {
      "cell_type": "code",
      "source": [
        "def find_first_missing_positive(numbers):\n",
        "    n = len(numbers)\n",
        "    for i in range(n):\n",
        "        while 1 <= numbers[i] <= n and numbers[numbers[i] - 1] != numbers[i]:\n",
        "            numbers[numbers[i] - 1], numbers[i] = numbers[i], numbers[numbers[i] - 1]\n",
        "    for i in range(n):\n",
        "        if numbers[i] != i + 1:\n",
        "            return i + 1\n",
        "    return n + 1\n",
        "\n",
        "numbers = [3, 4, -1, 1]\n",
        "first_missing_positive = find_first_missing_positive(numbers)\n",
        "print(\"First missing positive integer:\", first_missing_positive)"
      ],
      "metadata": {
        "colab": {
          "base_uri": "https://localhost:8080/"
        },
        "id": "h0HxmqqZMBH9",
        "outputId": "4b493c2b-b5a4-4362-d47f-571339dcee31"
      },
      "execution_count": 55,
      "outputs": [
        {
          "output_type": "stream",
          "name": "stdout",
          "text": [
            "First missing positive integer: 2\n"
          ]
        }
      ]
    }
  ]
}