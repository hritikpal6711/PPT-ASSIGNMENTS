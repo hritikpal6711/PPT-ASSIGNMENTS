{
  "nbformat": 4,
  "nbformat_minor": 0,
  "metadata": {
    "colab": {
      "provenance": []
    },
    "kernelspec": {
      "name": "python3",
      "display_name": "Python 3"
    },
    "language_info": {
      "name": "python"
    }
  },
  "cells": [
    {
      "cell_type": "markdown",
      "source": [
        "# Assignment_o15_Stacks."
      ],
      "metadata": {
        "id": "FOQN0mFsv7TF"
      }
    },
    {
      "cell_type": "markdown",
      "source": [
        "# Question no.1 :-\n",
        "\n",
        "Given an array arr[ ] of size N having elements, the task is to find the next greater element for each element of the array in order of their appearance in the array.Next greater element of an element in the array is the nearest element on the right which is greater than the current element.If there does not exist next greater of current element, then next greater element for current element is -1. For example, next greater of the last element is always -1.\n",
        "\n",
        "Example 1:\n",
        "\n",
        "Input:\n",
        "\n",
        "N = 4, arr[] = [1 3 2 4]\n",
        "\n",
        "Output:\n",
        "\n",
        "3 4 4 -1 Explanation:\n",
        "\n",
        "In the array, the next larger element to 1 is 3 , 3 is 4 , 2 is 4 and for 4 ? since it doesn't exist, it is -1.\n"
      ],
      "metadata": {
        "id": "kKhqJWipv7Hx"
      }
    },
    {
      "cell_type": "code",
      "execution_count": 1,
      "metadata": {
        "colab": {
          "base_uri": "https://localhost:8080/"
        },
        "id": "hgjd5zEWvA6r",
        "outputId": "ceec6a84-8337-46a7-e84d-dfd94e9a3715"
      },
      "outputs": [
        {
          "output_type": "stream",
          "name": "stdout",
          "text": [
            "[3, 4, 4, -1]\n"
          ]
        }
      ],
      "source": [
        "class Nxt_gtr_ele:\n",
        "    def gtr_ele(self,arr,N):\n",
        "        l = []\n",
        "        res = [0]*N\n",
        "        l.append(0)\n",
        "\n",
        "        for i in range(1,N):\n",
        "            while l and arr[l[-1]] <= arr[i]:\n",
        "                res[l[-1]] = arr[i]\n",
        "                l.pop()\n",
        "            l.append(i)\n",
        "\n",
        "        while l:\n",
        "            res[l[-1]] = -1\n",
        "            l.pop()\n",
        "\n",
        "        return res\n",
        "\n",
        "\n",
        "obj = Nxt_gtr_ele()\n",
        "arr = [1,3,2,4]\n",
        "N = 4\n",
        "print(obj.gtr_ele(arr,N))"
      ]
    },
    {
      "cell_type": "markdown",
      "source": [
        "# Question no.2 :-\n",
        "\n",
        "Given an array a of integers of length n, find the nearest smaller number for every element such that the smaller element is on left side.If no small element present on the left print -1.\n",
        "\n",
        "Example 1:\n",
        "\n",
        "Input: n = 3\n",
        "\n",
        "a = {1, 6, 2}\n",
        "\n",
        "Output: -1 1 1\n",
        "\n",
        "Explaination: There is no number at the left of 1. Smaller number than 6 and 2 is 1."
      ],
      "metadata": {
        "id": "0E9T7V1ByxOi"
      }
    },
    {
      "cell_type": "code",
      "source": [
        "def find_nearest_smaller_numbers(n, a):\n",
        "    stack = []\n",
        "    result = []\n",
        "\n",
        "    for i in range(n):\n",
        "        while stack and stack[-1] >= a[i]:\n",
        "            stack.pop()\n",
        "\n",
        "        if not stack:\n",
        "            result.append(-1)\n",
        "        else:\n",
        "            result.append(stack[-1])\n",
        "\n",
        "        stack.append(a[i])\n",
        "\n",
        "    return result\n",
        "\n",
        "\n",
        "n = 3\n",
        "a = [1, 6, 2]\n",
        "\n",
        "result = find_nearest_smaller_numbers(n, a)\n",
        "print(result)\n"
      ],
      "metadata": {
        "colab": {
          "base_uri": "https://localhost:8080/"
        },
        "id": "_-nfe_JO0ewH",
        "outputId": "65093f6a-eaea-4f45-9dce-9e761e702350"
      },
      "execution_count": 3,
      "outputs": [
        {
          "output_type": "stream",
          "name": "stdout",
          "text": [
            "[-1, 1, 1]\n"
          ]
        }
      ]
    },
    {
      "cell_type": "markdown",
      "source": [
        "Question no.3 :-\n",
        "Implement a Stack using two queues q1 and q2.\n",
        "\n",
        "Example 1:\n",
        "\n",
        "Input:\n",
        "\n",
        "push(2)\n",
        "\n",
        "push(3)\n",
        "\n",
        "pop()\n",
        "\n",
        "push(4)\n",
        "\n",
        "pop()\n",
        "\n",
        "Output:3 4\n",
        "\n",
        "Explanation:\n",
        "\n",
        "push(2) the stack will be {2}\n",
        "\n",
        "push(3) the stack will be {2 3}\n",
        "\n",
        "pop() poped element will be 3 the stack will be {2}\n",
        "\n",
        "push(4) the stack will be {2 4}\n",
        "\n",
        "pop() poped element will be 4"
      ],
      "metadata": {
        "id": "wFjdMdGny7JM"
      }
    },
    {
      "cell_type": "code",
      "source": [
        "class Stack:\n",
        "    def __init__(self):\n",
        "        self.q1 = []\n",
        "        self.q2 = []\n",
        "\n",
        "    def push(self, value):\n",
        "        self.q2.append(value)\n",
        "        while self.q1:\n",
        "            self.q2.append(self.q1.pop(0))\n",
        "        self.q1, self.q2 = self.q2, self.q1\n",
        "\n",
        "    def pop(self):\n",
        "        if not self.q1:\n",
        "            return None\n",
        "        return self.q1.pop(0)\n",
        "\n",
        "stack = Stack()\n",
        "\n",
        "stack.push(2)\n",
        "stack.push(3)\n",
        "print(stack.pop())\n",
        "stack.push(4)\n",
        "print(stack.pop())"
      ],
      "metadata": {
        "colab": {
          "base_uri": "https://localhost:8080/"
        },
        "id": "9ZKKKXaZy6aL",
        "outputId": "79821f63-0aaa-44c3-eaf2-24ea0579be58"
      },
      "execution_count": 4,
      "outputs": [
        {
          "output_type": "stream",
          "name": "stdout",
          "text": [
            "3\n",
            "4\n"
          ]
        }
      ]
    },
    {
      "cell_type": "markdown",
      "source": [
        "# Question no.4 :-\n",
        "\n",
        " You are given a stack St. You have to reverse the stack using recursion.\n",
        "\n",
        "Example 1:\n",
        "\n",
        "Input:St = {3,2,1,7,6}\n",
        "\n",
        "Output:{6,7,1,2,3}"
      ],
      "metadata": {
        "id": "j0y7Emb12DvB"
      }
    },
    {
      "cell_type": "code",
      "source": [
        "def reverse_stack(st):\n",
        "    if len(st) <= 1:\n",
        "        return\n",
        "\n",
        "    top_element = st.pop()\n",
        "    reverse_stack(st)\n",
        "    insert_at_bottom(st, top_element)\n",
        "\n",
        "def insert_at_bottom(st, element):\n",
        "    if len(st) == 0:\n",
        "        st.append(element)\n",
        "        return\n",
        "\n",
        "    top = st.pop()\n",
        "    insert_at_bottom(st, element)\n",
        "    st.append(top)\n",
        "\n",
        "\n",
        "stack = [3, 2, 1, 7, 6]\n",
        "reverse_stack(stack)\n",
        "print(stack)\n"
      ],
      "metadata": {
        "colab": {
          "base_uri": "https://localhost:8080/"
        },
        "id": "oPOo26YM2CiB",
        "outputId": "bcb440f8-a432-453e-ebde-8ae891aa8ac6"
      },
      "execution_count": 5,
      "outputs": [
        {
          "output_type": "stream",
          "name": "stdout",
          "text": [
            "[6, 7, 1, 2, 3]\n"
          ]
        }
      ]
    },
    {
      "cell_type": "markdown",
      "source": [
        "# Question no.5 :-\n",
        "\n",
        "You are given a string S, the task is to reverse the string using stack.\n",
        "\n",
        "Example 1:\n",
        "\n",
        "Input: S=\"GeeksforGeeks\"\n",
        "\n",
        "Output: skeeGrofskeeG"
      ],
      "metadata": {
        "id": "Fi0f7YWm3uNt"
      }
    },
    {
      "cell_type": "code",
      "source": [
        "def reverse_string(S):\n",
        "    stack = []\n",
        "    for char in S:\n",
        "        stack.append(char)\n",
        "\n",
        "    reversed_string = ''\n",
        "    while stack:\n",
        "        reversed_string += stack.pop()\n",
        "\n",
        "    return reversed_string\n",
        "\n",
        "\n",
        "S = \"GeeksforGeeks\"\n",
        "reversed_str = reverse_string(S)\n",
        "print(reversed_str)"
      ],
      "metadata": {
        "colab": {
          "base_uri": "https://localhost:8080/"
        },
        "id": "MH8L4itQ3sg0",
        "outputId": "46e5e919-9dde-4bfb-ff50-4e35c9ffecb5"
      },
      "execution_count": 6,
      "outputs": [
        {
          "output_type": "stream",
          "name": "stdout",
          "text": [
            "skeeGrofskeeG\n"
          ]
        }
      ]
    },
    {
      "cell_type": "markdown",
      "source": [
        "# Question no.6 :-\n",
        "\n",
        "Given string S representing a postfix expression, the task is to evaluate the expression and find the final value. Operators will only include the basic arithmetic operators like *, /, + and -.\n",
        "\n",
        "Example 1:\n",
        "\n",
        "Input: S = \"231*+9-\"\n",
        "\n",
        "Output: -4\n",
        "\n",
        "Explanation:\n",
        "\n",
        "After solving the given expression, we have -4 as result."
      ],
      "metadata": {
        "id": "4x1bTXn875xz"
      }
    },
    {
      "cell_type": "code",
      "source": [
        "def evaluate_postfix_expression(S):\n",
        "    stack = []\n",
        "\n",
        "    for char in S:\n",
        "        if char.isdigit():\n",
        "            stack.append(int(char))\n",
        "        else:\n",
        "            operand2 = stack.pop()\n",
        "            operand1 = stack.pop()\n",
        "\n",
        "            if char == '*':\n",
        "                result = operand1 * operand2\n",
        "            elif char == '/':\n",
        "                result = operand1 / operand2\n",
        "            elif char == '+':\n",
        "                result = operand1 + operand2\n",
        "            elif char == '-':\n",
        "                result = operand1 - operand2\n",
        "\n",
        "            stack.append(result)\n",
        "\n",
        "    return stack.pop()\n",
        "\n",
        "\n",
        "S = \"231*+9-\"\n",
        "result = evaluate_postfix_expression(S)\n",
        "print(result)\n"
      ],
      "metadata": {
        "colab": {
          "base_uri": "https://localhost:8080/"
        },
        "id": "S2Sd5j688Rmd",
        "outputId": "6dacb32a-e1e3-4960-c7d9-bc2aafdf2916"
      },
      "execution_count": 7,
      "outputs": [
        {
          "output_type": "stream",
          "name": "stdout",
          "text": [
            "-4\n"
          ]
        }
      ]
    },
    {
      "cell_type": "markdown",
      "source": [
        "# Question no.7 :-\n",
        "\n",
        "Design a stack that supports push, pop, top, and retrieving the minimum element in constant time.\n",
        "\n",
        "Implement the MinStack class:\n",
        "\n",
        "MinStack() initializes the stack object.\n",
        "void push(int val) pushes the element val onto the stack.\n",
        "void pop() removes the element on the top of the stack.\n",
        "int top() gets the top element of the stack.\n",
        "int getMin() retrieves the minimum element in the stack.\n",
        "You must implement a solution with O(1) time complexity for each function."
      ],
      "metadata": {
        "id": "bzfqsG5j8PU1"
      }
    },
    {
      "cell_type": "code",
      "source": [
        "class MinStack:\n",
        "    def __init__(self):\n",
        "        self.stack = []\n",
        "        self.min_stack = []\n",
        "\n",
        "    def push(self, val):\n",
        "        self.stack.append(val)\n",
        "        if not self.min_stack or val <= self.min_stack[-1]:\n",
        "            self.min_stack.append(val)\n",
        "\n",
        "    def pop(self):\n",
        "        if self.stack.pop() == self.min_stack[-1]:\n",
        "            self.min_stack.pop()\n",
        "\n",
        "    def top(self):\n",
        "        return self.stack[-1]\n",
        "\n",
        "    def getMin(self):\n",
        "        return self.min_stack[-1]\n",
        "\n",
        "minStack = MinStack()\n",
        "minStack.push(-2)\n",
        "minStack.push(0)\n",
        "minStack.push(-3)\n",
        "print(minStack.getMin())\n",
        "minStack.pop()\n",
        "print(minStack.top())\n",
        "print(minStack.getMin())"
      ],
      "metadata": {
        "colab": {
          "base_uri": "https://localhost:8080/"
        },
        "id": "DzmOIGry8jNA",
        "outputId": "468a035a-0dd5-41cd-f648-a5d2f4a9bb28"
      },
      "execution_count": 9,
      "outputs": [
        {
          "output_type": "stream",
          "name": "stdout",
          "text": [
            "-3\n",
            "0\n",
            "-2\n"
          ]
        }
      ]
    },
    {
      "cell_type": "markdown",
      "source": [
        "# Question no.8 :-\n",
        "Given n non-negative integers representing an elevation map where the width of each bar is 1, compute how much water it can trap after raining.\n",
        "\n",
        "Example 1:\n",
        "\n",
        "Input: height = [0,1,0,2,1,0,1,3,2,1,2,1]\n",
        "\n",
        "Output: 6\n",
        "\n",
        "Explanation: The above elevation map (black section) is represented by array [0,1,0,2,1,0,1,3,2,1,2,1]. In this case, 6 units of rain water (blue section) are being trapped."
      ],
      "metadata": {
        "id": "dpjTeB_9-3Yi"
      }
    },
    {
      "cell_type": "code",
      "source": [
        "def maxWater(arr, n):\n",
        "    res = 0\n",
        "\n",
        "    for i in range(1, n - 1):\n",
        "\n",
        "        left = arr[i]\n",
        "        for j in range(i):\n",
        "            left = max(left, arr[j])\n",
        "\n",
        "        right = arr[i]\n",
        "\n",
        "        for j in range(i + 1, n):\n",
        "            right = max(right, arr[j])\n",
        "\n",
        "        res = res + (min(left, right) - arr[i])\n",
        "\n",
        "    return res\n",
        "\n",
        "\n",
        "\n",
        "arr = [0,1,0,2,1,0,1,3,2,1,2,1]\n",
        "n = len(arr)\n",
        "print(maxWater(arr, n))"
      ],
      "metadata": {
        "colab": {
          "base_uri": "https://localhost:8080/"
        },
        "id": "gGElCEFr-rOA",
        "outputId": "ee49ca6b-2c93-43b7-d3c1-b874ba68b6fa"
      },
      "execution_count": 10,
      "outputs": [
        {
          "output_type": "stream",
          "name": "stdout",
          "text": [
            "6\n"
          ]
        }
      ]
    }
  ]
}