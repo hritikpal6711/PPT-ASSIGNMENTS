{
  "nbformat": 4,
  "nbformat_minor": 0,
  "metadata": {
    "colab": {
      "provenance": []
    },
    "kernelspec": {
      "name": "python3",
      "display_name": "Python 3"
    },
    "language_info": {
      "name": "python"
    }
  },
  "cells": [
    {
      "cell_type": "markdown",
      "source": [
        "# Assignment 14 - Linked List"
      ],
      "metadata": {
        "id": "RgzW-TQH5YJB"
      }
    },
    {
      "cell_type": "markdown",
      "source": [
        "## Question no.1 :-\n",
        "\n",
        "Question no.1 :- Given a linked list of N nodes such that it may contain a loop.\n",
        "\n",
        "A loop here means that the last node of the link list is connected to the node at position X(1-based index). If the link list does not have any loop, X=0.\n",
        "\n",
        "Remove the loop from the linked list, if it is present, i.e. unlink the last node which is forming the loop.\n",
        "\n",
        "Example 1:\n",
        "\n",
        "Input:\n",
        "\n",
        "N = 3\n",
        "\n",
        "value[] = {1,3,4}\n",
        "\n",
        "X = 2 Output:1\n",
        "\n",
        "Explanation:The link list looks like\n",
        "\n",
        "1 -> 3 -> 4\n",
        "\n",
        "\n",
        "A loop is present. If you remove it successfully, the answer will be 1."
      ],
      "metadata": {
        "id": "2P61hw0X5b54"
      }
    },
    {
      "cell_type": "code",
      "execution_count": null,
      "metadata": {
        "id": "RLcO13Jr5P6i"
      },
      "outputs": [],
      "source": []
    },
    {
      "cell_type": "markdown",
      "source": [
        "## Question no.2 :-\n",
        "\n",
        "A number N is represented in Linked List such that each digit corresponds to a node in linked list. You need to add 1 to it.\n",
        "\n",
        "Example 1:\n",
        "\n",
        "Input:\n",
        "\n",
        "LinkedList: 4->5->6\n",
        "\n",
        "Output:457"
      ],
      "metadata": {
        "id": "aCy7iOGC64I4"
      }
    },
    {
      "cell_type": "code",
      "source": [
        "class Node:\n",
        "    def __init__(self, data):\n",
        "        self.data = data\n",
        "        self.next = None\n",
        "\n",
        "\n",
        "def push(head_ref, new_data):\n",
        "\n",
        "    new_node = Node(new_data)\n",
        "    new_node.next = head_ref\n",
        "    head_ref = new_node\n",
        "    return head_ref\n",
        "\n",
        "def printList(n):\n",
        "    while n:\n",
        "        print(n.data, end=\" \")\n",
        "        n = n.next\n",
        "    print()\n",
        "\n",
        "def addTwoLists(first):\n",
        "    num1 = 0\n",
        "\n",
        "    while first.next != None:\n",
        "        num1 += first.data\n",
        "        num1 *= 10\n",
        "        first = first.next\n",
        "    num1 += first.data\n",
        "\n",
        "    num2 = num1 + 1\n",
        "    temp = None\n",
        "\n",
        "    while num2 != 0:\n",
        "        last = num2 % 10\n",
        "        temp = push(temp, last)\n",
        "        num2 //= 10\n",
        "\n",
        "    return temp\n",
        "\n",
        "\n",
        "\n",
        "first = None\n",
        "first = push(first, 6)\n",
        "first = push(first, 5)\n",
        "first = push(first, 4)\n",
        "\n",
        "ans = addTwoLists(first)\n",
        "print(\"Sum plus one is: \", end=\"\")\n",
        "printList(ans)"
      ],
      "metadata": {
        "colab": {
          "base_uri": "https://localhost:8080/"
        },
        "id": "H24znz-966yI",
        "outputId": "651e27bd-b238-4bbb-8274-5719d2bb8354"
      },
      "execution_count": 1,
      "outputs": [
        {
          "output_type": "stream",
          "name": "stdout",
          "text": [
            "Sum plus one is: 4 5 7 \n"
          ]
        }
      ]
    },
    {
      "cell_type": "markdown",
      "source": [
        "## Question no.3 :-\n",
        "\n",
        "Given a Linked List of size N, where every node represents a sub-linked-list and contains two pointers:(i) a next pointer to the next node,(ii) a bottom pointer to a linked list where this node is head.Each of the sub-linked-list is in sorted order.Flatten the Link List such that all the nodes appear in a single level while maintaining the sorted order. Note: The flattened list will be printed using the bottom pointer instead of next pointer.\n",
        "\n",
        "Example 1:\n",
        "\n",
        "Input:\n",
        "\n",
        "5 -> 10 -> 19 -> 28 | | | | 7 20 22 35 | | | 8 50 40 | | 30 45\n",
        "\n",
        "Output: 5-> 7-> 8- > 10 -> 19-> 20-> 22-> 28-> 30-> 35-> 40-> 45-> 50.\n",
        "\n",
        "Explanation: The resultant linked lists has every node in a single level.(Note:| represents the bottom pointer.)"
      ],
      "metadata": {
        "id": "7UO1fA3h7A2I"
      }
    },
    {
      "cell_type": "code",
      "source": [
        "\n",
        "class Node():\n",
        "    def __init__(self, data):\n",
        "        self.data = data\n",
        "        self.right = None\n",
        "        self.down = None\n",
        "\n",
        "\n",
        "class LinkedList():\n",
        "    def __init__(self):\n",
        "        self.head = None\n",
        "\n",
        "\n",
        "    def push(self, head_ref, data):\n",
        "\n",
        "        new_node = Node(data)\n",
        "        new_node.down = head_ref\n",
        "        head_ref = new_node\n",
        "        return head_ref\n",
        "\n",
        "    def printList(self):\n",
        "\n",
        "        temp = self.head\n",
        "        while(temp != None):\n",
        "            print(temp.data, end=\" \")\n",
        "            temp = temp.down\n",
        "\n",
        "        print()\n",
        "\n",
        "    def merge(self, a, b):\n",
        "\n",
        "        if(a == None):\n",
        "            return b\n",
        "\n",
        "        if(b == None):\n",
        "            return a\n",
        "\n",
        "        result = None\n",
        "\n",
        "        if (a.data < b.data):\n",
        "            result = a\n",
        "            result.down = self.merge(a.down, b)\n",
        "        else:\n",
        "            result = b\n",
        "            result.down = self.merge(a, b.down)\n",
        "\n",
        "        result.right = None\n",
        "        return result\n",
        "\n",
        "    def flatten(self, root):\n",
        "\n",
        "\n",
        "        if(root == None or root.right == None):\n",
        "            return root\n",
        "\n",
        "        root.right = self.flatten(root.right)\n",
        "        root = self.merge(root, root.right)\n",
        "        return root\n",
        "\n",
        "\n",
        "L = LinkedList()\n",
        "\n",
        "\n",
        "L.head = L.push(L.head, 30)\n",
        "L.head = L.push(L.head, 8)\n",
        "L.head = L.push(L.head, 7)\n",
        "L.head = L.push(L.head, 5)\n",
        "\n",
        "L.head.right = L.push(L.head.right, 20)\n",
        "L.head.right = L.push(L.head.right, 10)\n",
        "\n",
        "L.head.right.right = L.push(L.head.right.right, 50)\n",
        "L.head.right.right = L.push(L.head.right.right, 22)\n",
        "L.head.right.right = L.push(L.head.right.right, 19)\n",
        "\n",
        "L.head.right.right.right = L.push(L.head.right.right.right, 45)\n",
        "L.head.right.right.right = L.push(L.head.right.right.right, 40)\n",
        "L.head.right.right.right = L.push(L.head.right.right.right, 35)\n",
        "L.head.right.right.right = L.push(L.head.right.right.right, 20)\n",
        "\n",
        "\n",
        "L.head = L.flatten(L.head)\n",
        "\n",
        "L.printList()"
      ],
      "metadata": {
        "colab": {
          "base_uri": "https://localhost:8080/"
        },
        "id": "Gqb5GxJn7ANZ",
        "outputId": "c547e27a-6a5d-42cf-f583-1b2377f0ae2f"
      },
      "execution_count": 2,
      "outputs": [
        {
          "output_type": "stream",
          "name": "stdout",
          "text": [
            "5 7 8 10 19 20 20 22 30 35 40 45 50 \n"
          ]
        }
      ]
    },
    {
      "cell_type": "markdown",
      "source": [
        "## Question no.4 :-\n",
        "\n",
        " You are given a special linked list with N nodes where each node has a next pointer pointing to its next node. You are also given M random pointers, where you will be given M number of pairs denoting two nodes a and b i.e. a->arb = b (arb is pointer to random node).\n",
        "\n",
        "Construct a copy of the given list. The copy should consist of exactly N new nodes, where each new node has its value set to the value of its corresponding original node. Both the next and random pointer of the new nodes should point to new nodes in the copied list such that the pointers in the original list and copied list represent the same list state. None of the pointers in the new list should point to nodes in the original list.\n",
        "\n",
        "For example, if there are two nodes X and Y in the original list, where X.arb --> Y, then for the corresponding two nodes x and y in the copied list, x.arb --> y.\n",
        "\n",
        "Return the head of the copied linked list.\n",
        "\n",
        "Note :- The diagram isn't part of any example, it just depicts an example of how the linked list may look like.\n",
        "\n",
        "Example 1:\n",
        "\n",
        "Input:\n",
        "\n",
        "N = 4, M = 2\n",
        "\n",
        "value[] = {1,3,5,9}\n",
        "\n",
        "pairs[] = {{1,1},{3,4}}\n",
        "\n",
        "Output:1\n",
        "\n",
        "Explanation:In the given testcase , applying the method as stated in the above example, the output will be 1.\n",
        "\n"
      ],
      "metadata": {
        "id": "08LVNLEo7QsI"
      }
    },
    {
      "cell_type": "code",
      "source": [],
      "metadata": {
        "id": "r-U6rECZ8NLH"
      },
      "execution_count": null,
      "outputs": []
    },
    {
      "cell_type": "markdown",
      "source": [
        "## Question no.5 :-\n",
        "\n",
        "Given the head of a singly linked list, group all the nodes with odd indices together followed by the nodes with even indices, and return the reordered list.\n",
        "\n",
        "The first node is considered odd, and the second node is even, and so on.\n",
        "\n",
        "Note that the relative order inside both the even and odd groups should remain as it was in the input.\n",
        "\n",
        "You must solve the problem in O(1) extra space complexity and O(n) time complexity.\n",
        "\n",
        "Example 1:\n",
        "\n",
        "Input: head = [1,2,3,4,5]\n",
        "\n",
        "Output: [1,3,5,2,4]"
      ],
      "metadata": {
        "id": "_WaVATPQ8NmX"
      }
    },
    {
      "cell_type": "code",
      "source": [
        "class ListNode:\n",
        "    def __init__(self, val=0, next=None):\n",
        "        self.val = val\n",
        "        self.next = next\n",
        "\n",
        "def rearrange_linked_list(head: ListNode) -> ListNode:\n",
        "\n",
        "    odd_head = odd = ListNode(0)\n",
        "    even_head = even = ListNode(0)\n",
        "    curr = head\n",
        "    counter = 1\n",
        "\n",
        "\n",
        "    while curr:\n",
        "        if counter % 2 == 1:\n",
        "            odd.next = curr\n",
        "            odd = odd.next\n",
        "        else:\n",
        "            even.next = curr\n",
        "            even = even.next\n",
        "\n",
        "        curr = curr.next\n",
        "        counter += 1\n",
        "\n",
        "    odd.next = even_head.next\n",
        "    even.next = None\n",
        "\n",
        "    return odd_head.next\n",
        "\n",
        "\n",
        "head = ListNode(1, ListNode(2, ListNode(3, ListNode(4, ListNode(5)))))\n",
        "\n",
        "new_head = rearrange_linked_list(head)\n",
        "\n",
        "res = []\n",
        "while new_head:\n",
        "    res.append(new_head.val)\n",
        "    new_head = new_head.next\n",
        "\n",
        "print(res)"
      ],
      "metadata": {
        "colab": {
          "base_uri": "https://localhost:8080/"
        },
        "id": "HYgZSC928Rag",
        "outputId": "34892e77-1cc9-45be-c26f-e58c1d5a1a78"
      },
      "execution_count": 4,
      "outputs": [
        {
          "output_type": "stream",
          "name": "stdout",
          "text": [
            "[1, 3, 5, 2, 4]\n"
          ]
        }
      ]
    },
    {
      "cell_type": "markdown",
      "source": [
        "## Question no.6 :-\n",
        "\n",
        "Given a singly linked list of size N. The task is to left-shift the linked list by k nodes, where k is a given positive integer smaller than or equal to length of the linked list.\n",
        "\n",
        "Example 1:\n",
        "\n",
        "Input:\n",
        "\n",
        "N = 5\n",
        "\n",
        "value[] = {2, 4, 7, 8, 9}\n",
        "\n",
        "k = 3\n",
        "\n",
        "Output:8 9 2 4 7\n",
        "\n",
        "Explanation:\n",
        "\n",
        "Rotate 1: 4 -> 7 -> 8 -> 9 -> 2\n",
        "\n",
        "Rotate 2: 7 -> 8 -> 9 -> 2 -> 4\n",
        "\n",
        "Rotate 3: 8 -> 9 -> 2 -> 4 -> 7\n",
        "\n"
      ],
      "metadata": {
        "id": "yLT2-NF18a7n"
      }
    },
    {
      "cell_type": "code",
      "source": [
        "class Node:\n",
        "\n",
        "    def __init__(self, data):\n",
        "        self.data = data\n",
        "        self.next = None\n",
        "\n",
        "\n",
        "class LinkedList:\n",
        "\n",
        "    def __init__(self):\n",
        "        self.head = None\n",
        "\n",
        "    def push(self, new_data):\n",
        "        new_node = Node(new_data)\n",
        "        new_node.next = self.head\n",
        "        self.head = new_node\n",
        "\n",
        "    def printList(self):\n",
        "        temp = self.head\n",
        "        while(temp):\n",
        "            print(temp.data)\n",
        "            temp = temp.next\n",
        "\n",
        "    def rotate(self, k):\n",
        "        if k == 0:\n",
        "            return\n",
        "\n",
        "        current = self.head\n",
        "\n",
        "        count = 1\n",
        "        while(count < k and current is not None):\n",
        "            current = current.next\n",
        "            count += 1\n",
        "\n",
        "        if current is None:\n",
        "            return\n",
        "\n",
        "        kthNode = current\n",
        "\n",
        "        while(current.next is not None):\n",
        "            current = current.next\n",
        "\n",
        "        current.next = self.head\n",
        "        self.head = kthNode.next\n",
        "        kthNode.next = None\n",
        "\n",
        "\n",
        "\n",
        "llist = LinkedList()\n",
        "\n",
        "for i in range(9,0,-1):\n",
        "    llist.push(i)\n",
        "\n",
        "print(\"Given linked list:\")\n",
        "llist.printList()\n",
        "llist.rotate(2)\n",
        "\n",
        "print(\"\\nRotated Linked list:\")\n",
        "llist.printList()\n",
        ""
      ],
      "metadata": {
        "colab": {
          "base_uri": "https://localhost:8080/"
        },
        "id": "PO-qu6CX8Y1A",
        "outputId": "4ddffd7e-a30b-46b7-9866-7b8f6cecaab7"
      },
      "execution_count": 5,
      "outputs": [
        {
          "output_type": "stream",
          "name": "stdout",
          "text": [
            "Given linked list:\n",
            "1\n",
            "2\n",
            "3\n",
            "4\n",
            "5\n",
            "6\n",
            "7\n",
            "8\n",
            "9\n",
            "\n",
            "Rotated Linked list:\n",
            "3\n",
            "4\n",
            "5\n",
            "6\n",
            "7\n",
            "8\n",
            "9\n",
            "1\n",
            "2\n"
          ]
        }
      ]
    },
    {
      "cell_type": "markdown",
      "source": [
        "## Question no.7 :-\n",
        "\n",
        "You are given the head of a linked list with n nodes.\n",
        "\n",
        "For each node in the list, find the value of the next greater node. That is, for each node, find the value of the first node that is next to it and has a strictly larger value than it.\n",
        "\n",
        "Return an integer array answer where answer[i] is the value of the next greater node of the ith node (1-indexed). If the ith node does not have a next greater node, set answer[i] = 0.\n",
        "\n",
        "Example 1:\n",
        "\n",
        "Input: head = [2,1,5]\n",
        "\n",
        "Output: [5,5,0]"
      ],
      "metadata": {
        "id": "FXGGJ95v8ssf"
      }
    },
    {
      "cell_type": "code",
      "source": [
        "class ListNode:\n",
        "\n",
        "    def __init__(self, x):\n",
        "\n",
        "        self.val = x\n",
        "        self.next = None\n",
        "\n",
        "def rev(head):\n",
        "\n",
        "    pre = None;\n",
        "    curr = head;\n",
        "    nex = curr.next;\n",
        "\n",
        "    while (curr):\n",
        "        curr.next = pre;\n",
        "        pre = curr;\n",
        "        curr = nex;\n",
        "        nex = (curr.next) if curr else None\n",
        "\n",
        "    head = pre\n",
        "    return head\n",
        "\n",
        "\n",
        "def printList(head):\n",
        "\n",
        "    while(head):\n",
        "        print(str(head.val), end = ' ')\n",
        "        head = head.next\n",
        "\n",
        "\n",
        "def nextLargerL(head):\n",
        "\n",
        "    if (head == None):\n",
        "        return None\n",
        "\n",
        "    res = ListNode(-1)\n",
        "    temp = res\n",
        "\n",
        "    head = rev(head);\n",
        "    st = []\n",
        "\n",
        "    while (head):\n",
        "\n",
        "        if (len(st) == 0):\n",
        "            temp.next = ListNode(0)\n",
        "            st.append(head.val)\n",
        "\n",
        "        else:\n",
        "\n",
        "            while (len(st) != 0 and st[-1]<= head.val):\n",
        "                st.pop()\n",
        "\n",
        "            if (len(st) == 0):\n",
        "                temp.next = ListNode(0)\n",
        "                st.append(head.val)\n",
        "\n",
        "            else:\n",
        "                temp.next = ListNode(st[-1]);\n",
        "                st.append(head.val)\n",
        "\n",
        "        head = head.next\n",
        "        temp = temp.next\n",
        "\n",
        "\n",
        "    temp = res\n",
        "    res = res.next\n",
        "    del temp\n",
        "\n",
        "\n",
        "    res = rev(res)\n",
        "    return res\n",
        "\n",
        "\n",
        "head = ListNode(2)\n",
        "curr = head\n",
        "\n",
        "curr.next = ListNode(1)\n",
        "curr = curr.next\n",
        "\n",
        "curr.next = ListNode(5)\n",
        "curr = curr.next\n",
        "\n",
        "printList(nextLargerL(head))"
      ],
      "metadata": {
        "colab": {
          "base_uri": "https://localhost:8080/"
        },
        "id": "PRSM2cqK8m9Q",
        "outputId": "94779c75-ff79-4fc6-db9b-c89852cefe5e"
      },
      "execution_count": 6,
      "outputs": [
        {
          "output_type": "stream",
          "name": "stdout",
          "text": [
            "5 5 0 "
          ]
        }
      ]
    },
    {
      "cell_type": "markdown",
      "source": [
        "## Question no.8 :-\n",
        "\n",
        "Given the head of a linked list, we repeatedly delete consecutive sequences of nodes that sum to 0 until there are no such sequences.\n",
        "\n",
        "After doing so, return the head of the final linked list. You may return any such answer.\n",
        "\n",
        "(Note that in the examples below, all sequences are serializations of ListNode objects.)\n",
        "\n",
        "Example 1:\n",
        "\n",
        "Input: head = [1,2,-3,3,1]\n",
        "\n",
        "Output: [3,1]\n",
        "\n",
        "Note: The answer [1,2,1] would also be accepted."
      ],
      "metadata": {
        "id": "qQM6Up5182fH"
      }
    },
    {
      "cell_type": "code",
      "source": [
        "class ListNode:\n",
        "    def __init__(self, data):\n",
        "        self.data = data\n",
        "        self.next = None\n",
        "\n",
        "class RemoveNullSum:\n",
        "    def remove_zero_sum(self, head):\n",
        "        dummy = ListNode(0)\n",
        "        dummy.next = head\n",
        "\n",
        "        prefix_sum = 0\n",
        "        sum_map = {0: dummy}\n",
        "        node = head\n",
        "\n",
        "        while node:\n",
        "            prefix_sum += node.data\n",
        "            if prefix_sum in sum_map:\n",
        "                # Remove the sublist with zero sum\n",
        "                prev = sum_map[prefix_sum]\n",
        "                prev.next = node.next\n",
        "                node = prev.next\n",
        "                continue\n",
        "\n",
        "            sum_map[prefix_sum] = node\n",
        "            node = node.next\n",
        "\n",
        "        return dummy.next\n",
        "\n",
        "# Create the linked list [1, 2, -3, 3, 1]\n",
        "head = ListNode(1)\n",
        "node1 = ListNode(2)\n",
        "node2 = ListNode(-3)\n",
        "node3 = ListNode(3)\n",
        "node4 = ListNode(1)\n",
        "\n",
        "head.next = node1\n",
        "node1.next = node2\n",
        "node2.next = node3\n",
        "node3.next = node4\n",
        "\n",
        "# Call the remove_zero_sum function\n",
        "remover = RemoveNullSum()\n",
        "new_head = remover.remove_zero_sum(head)\n",
        "\n",
        "# Print the data in the resulting list\n",
        "result = []\n",
        "node = new_head\n",
        "while node:\n",
        "    result.append(node.data)\n",
        "    node = node.next\n",
        "\n",
        "print(result)\n"
      ],
      "metadata": {
        "colab": {
          "base_uri": "https://localhost:8080/"
        },
        "id": "Ns4veQ7F9cyH",
        "outputId": "b9842629-99ec-4db0-abde-b854dafcdece"
      },
      "execution_count": 8,
      "outputs": [
        {
          "output_type": "stream",
          "name": "stdout",
          "text": [
            "[3, 1]\n"
          ]
        }
      ]
    }
  ]
}