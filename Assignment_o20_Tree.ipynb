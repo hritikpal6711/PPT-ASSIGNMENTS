{
  "nbformat": 4,
  "nbformat_minor": 0,
  "metadata": {
    "colab": {
      "provenance": []
    },
    "kernelspec": {
      "name": "python3",
      "display_name": "Python 3"
    },
    "language_info": {
      "name": "python"
    }
  },
  "cells": [
    {
      "cell_type": "markdown",
      "source": [
        "# Assignment 20 - Tree"
      ],
      "metadata": {
        "id": "tCAE9-sLwrpS"
      }
    },
    {
      "cell_type": "markdown",
      "source": [
        "\n",
        "#  Question-1\n",
        "\n",
        "Given a binary tree, your task is to find subtree with maximum sum in tree.\n",
        "\n",
        "Examples:\n",
        "\n",
        "Input1 :\n",
        "\n",
        "  1\n",
        "\n",
        "  /\\\n",
        "\n",
        "   2 3\n",
        "\n",
        "  /\\    /\\\n",
        "\n",
        "4   5  6   7\n",
        "\n",
        "Output1 : 28\n",
        "\n",
        "As all the tree elements are positive, the largest subtree sum is equal to sum of all tree elements.\n",
        "\n",
        "Input2 :\n",
        "\n",
        " 1\n",
        "\n",
        "  /\\\n",
        "\n",
        "  -2 3\n",
        "\n",
        "  /\\ /\\\n",
        "\n",
        "4  5 -6 2\n",
        "\n",
        "Output2 : 7\n",
        "\n",
        "Subtree with largest sum is :\n",
        "\n",
        "-2\n",
        "\n",
        "/\\\n",
        "\n",
        "4 5\n",
        "\n",
        "Also, entire tree sum is also 7.\n",
        "\n",
        "</aside>\n"
      ],
      "metadata": {
        "id": "SBRUeycmwv19"
      }
    },
    {
      "cell_type": "code",
      "source": [
        "class TreeNode:\n",
        "    def __init__(self, value):\n",
        "        self.value = value\n",
        "        self.left = None\n",
        "        self.right = None\n",
        "\n",
        "class Tree:\n",
        "    def __init__(self):\n",
        "        self.root = None\n",
        "\n",
        "    def maxSubtreeSum(self):\n",
        "        maxSum = [-float(\"inf\")]\n",
        "        self.subtreeSum(self.root, maxSum)\n",
        "        return maxSum[0]\n",
        "\n",
        "    def subtreeSum(self, node, maxSum):\n",
        "        if node is None:\n",
        "            return 0\n",
        "\n",
        "        leftSum = self.subtreeSum(node.left, maxSum)\n",
        "        rightSum = self.subtreeSum(node.right, maxSum)\n",
        "\n",
        "        subtreeSum = node.value + leftSum + rightSum\n",
        "\n",
        "        maxSum[0] = max(maxSum[0], subtreeSum)\n",
        "\n",
        "        return subtreeSum\n",
        "\n",
        "\n",
        "\n",
        "tree1 = Tree()\n",
        "tree1.root = TreeNode(1)\n",
        "tree1.root.left = TreeNode(2)\n",
        "tree1.root.right = TreeNode(3)\n",
        "tree1.root.left.left = TreeNode(4)\n",
        "tree1.root.left.right = TreeNode(5)\n",
        "tree1.root.right.left = TreeNode(6)\n",
        "tree1.root.right.right = TreeNode(7)\n",
        "\n",
        "print(\"Max subtree sum:\", tree1.maxSubtreeSum())\n",
        "\n",
        "\n",
        "\n",
        "tree2 = Tree()\n",
        "tree2.root = TreeNode(1)\n",
        "tree2.root.left = TreeNode(-2)\n",
        "tree2.root.right = TreeNode(3)\n",
        "tree2.root.left.left = TreeNode(4)\n",
        "tree2.root.left.right = TreeNode(5)\n",
        "tree2.root.right.left = TreeNode(-6)\n",
        "tree2.root.right.right = TreeNode(2)\n",
        "\n",
        "print(\"Max subtree sum:\", tree2.maxSubtreeSum())\n"
      ],
      "metadata": {
        "colab": {
          "base_uri": "https://localhost:8080/"
        },
        "id": "luSOecRnyzT-",
        "outputId": "2b04f98e-add4-4fff-8db3-cd0205a39c17"
      },
      "execution_count": 2,
      "outputs": [
        {
          "output_type": "stream",
          "name": "stdout",
          "text": [
            "Max subtree sum: 28\n",
            "Max subtree sum: 7\n"
          ]
        }
      ]
    },
    {
      "cell_type": "markdown",
      "source": [
        "# Question-2\n",
        "\n",
        "Construct the BST (Binary Search Tree) from its given level order traversal.\n",
        "\n",
        "Example:\n",
        "\n",
        "Input: arr[] = {7, 4, 12, 3, 6, 8, 1, 5, 10}\n",
        "\n",
        "Output: BST:\n",
        "\n",
        "7\n",
        "\n",
        "/\\\n",
        "\n",
        "4 12\n",
        "\n",
        "/\\ /\n",
        "\n",
        "3 6 8\n",
        "\n",
        "/ /\\\n",
        "\n",
        " 1    5      10\n",
        "\n",
        "</aside>"
      ],
      "metadata": {
        "id": "6SUKGIElzgXd"
      }
    },
    {
      "cell_type": "code",
      "source": [
        "from collections import deque\n",
        "\n",
        "class TreeNode:\n",
        "    def __init__(self, value):\n",
        "        self.value = value\n",
        "        self.left = None\n",
        "        self.right = None\n",
        "\n",
        "class Tree:\n",
        "    def __init__(self):\n",
        "        self.root = None\n",
        "\n",
        "    def constructBST(self, levelOrder):\n",
        "        if not levelOrder:\n",
        "            return None\n",
        "\n",
        "        self.root = TreeNode(levelOrder[0])\n",
        "        queue = deque()\n",
        "        queue.append(self.root)\n",
        "        i = 1\n",
        "\n",
        "        while i < len(levelOrder):\n",
        "            currentNode = queue.popleft()\n",
        "            leftValue = levelOrder[i]\n",
        "            rightValue = levelOrder[i + 1]\n",
        "\n",
        "            if leftValue is not None:\n",
        "                leftNode = TreeNode(leftValue)\n",
        "                currentNode.left = leftNode\n",
        "                queue.append(leftNode)\n",
        "\n",
        "            if rightValue is not None:\n",
        "                rightNode = TreeNode(rightValue)\n",
        "                currentNode.right = rightNode\n",
        "                queue.append(rightNode)\n",
        "\n",
        "            i += 2\n",
        "\n",
        "\n",
        "\n",
        "levelOrder = [7, 4, 12, 3, 6, 8, 1, 5, 10]\n",
        "\n",
        "bst = Tree()\n",
        "bst.constructBST(levelOrder)\n",
        "\n",
        "\n",
        "def printBST(root):\n",
        "    if root is None:\n",
        "        return\n",
        "\n",
        "    printBST(root.left)\n",
        "    print(root.value, end=' ')\n",
        "    printBST(root.right)\n",
        "\n",
        "printBST(bst.root)\n"
      ],
      "metadata": {
        "colab": {
          "base_uri": "https://localhost:8080/"
        },
        "id": "vURtH2DA0PxI",
        "outputId": "77de5cf3-c4ac-46cb-ea06-a7d7db2c8a3a"
      },
      "execution_count": 3,
      "outputs": [
        {
          "output_type": "stream",
          "name": "stdout",
          "text": [
            "5 3 10 4 6 7 8 12 1 "
          ]
        }
      ]
    },
    {
      "cell_type": "markdown",
      "source": [
        "# Question-3\n",
        "\n",
        "Given an array of size n. The problem is to check whether the given array can represent the level order traversal of a Binary Search Tree or not.\n",
        "\n",
        "Examples:\n",
        "\n",
        "Input1 : arr[] = {7, 4, 12, 3, 6, 8, 1, 5, 10}\n",
        "\n",
        "Output1 : Yes\n",
        "\n",
        "For the given arr[], the Binary Search Tree is:\n",
        "\n",
        "7\n",
        "\n",
        "/\\\n",
        "\n",
        "4 12\n",
        "\n",
        "/\\ /\n",
        "\n",
        "3 6 8\n",
        "\n",
        "/ /\\\n",
        "\n",
        " 1    5      10\n",
        "\n",
        "\n",
        "Input2 : arr[] = {11, 6, 13, 5, 12, 10}\n",
        "\n",
        "Output2 : No\n",
        "\n",
        "The given arr[] does not represent the level order traversal of a BST.\n",
        "\n",
        "</aside>"
      ],
      "metadata": {
        "id": "Q5GIzvHa0nvE"
      }
    },
    {
      "cell_type": "code",
      "source": [
        "Minimum = float('-inf')\n",
        "Maximum = float('inf')\n",
        "\n",
        "class NodeDetails:\n",
        "\n",
        "    def __init__(self, data, min, max):\n",
        "        self.data = data\n",
        "        self.min = min\n",
        "        self.max = max\n",
        "\n",
        "def levelOrderIsOfBST(arr, n):\n",
        "\n",
        "    if n == 0:\n",
        "        return True\n",
        "\n",
        "    q = []\n",
        "    i = 0\n",
        "\n",
        "    newNode = NodeDetails(arr[i],Minimum,Maximum)\n",
        "    i += 1\n",
        "    q.append(newNode)\n",
        "\n",
        "\n",
        "\n",
        "    while i != n and len(q) != 0:\n",
        "\n",
        "        temp = q.pop(0)\n",
        "\n",
        "        if i < n and (arr[i] < temp.data and\n",
        "                    arr[i] > temp.min):\n",
        "\n",
        "            newNode = NodeDetails(arr[i], temp.min, temp.data)\n",
        "            i += 1\n",
        "            q.append(newNode)\n",
        "\n",
        "        if i < n and (arr[i] > temp.data and\n",
        "                    arr[i] < temp.max):\n",
        "\n",
        "            newNode = NodeDetails(arr[i], temp.data, temp.max)\n",
        "            i += 1\n",
        "            q.append(newNode)\n",
        "\n",
        "    if i == n:\n",
        "        return True\n",
        "    return False\n",
        "\n",
        "\n",
        "\n",
        "arr = [7, 4, 12, 3, 6, 8, 1, 5, 10]\n",
        "n = len(arr)\n",
        "if levelOrderIsOfBST(arr, n):\n",
        "    print(\"Yes\")\n",
        "else:\n",
        "    print(\"No\")\n",
        ""
      ],
      "metadata": {
        "colab": {
          "base_uri": "https://localhost:8080/"
        },
        "id": "USCG8E5U1qtq",
        "outputId": "265734ea-cc1f-48dd-ec62-f3e42e2ba65d"
      },
      "execution_count": 6,
      "outputs": [
        {
          "output_type": "stream",
          "name": "stdout",
          "text": [
            "Yes\n"
          ]
        }
      ]
    }
  ]
}