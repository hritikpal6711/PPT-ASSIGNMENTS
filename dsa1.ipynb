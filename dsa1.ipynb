{
 "cells": [
  {
   "cell_type": "markdown",
   "id": "8858c74a",
   "metadata": {},
   "source": [
    "Q1. Given an array of integers nums and an integer target, return indices of the two numbers such that they add up to target."
   ]
  },
  {
   "cell_type": "code",
   "execution_count": 1,
   "id": "975126b5",
   "metadata": {},
   "outputs": [
    {
     "name": "stdout",
     "output_type": "stream",
     "text": [
      "[0, 1]\n"
     ]
    }
   ],
   "source": [
    "def twoSum(nums, target):\n",
    "    num_map = {}  # Hash map to store the complement of each number\n",
    "\n",
    "    for i, num in enumerate(nums):\n",
    "        complement = target - num\n",
    "\n",
    "        if complement in num_map:\n",
    "            return [num_map[complement], i]\n",
    "\n",
    "        num_map[num] = i\n",
    "\n",
    "    return []  # No two numbers found that add up to the target\n",
    "\n",
    "nums = [2, 7, 11, 15]\n",
    "target = 9\n",
    "result = twoSum(nums, target)\n",
    "print(result) "
   ]
  },
  {
   "cell_type": "markdown",
   "id": "1ce5fffb",
   "metadata": {},
   "source": [
    "Q2.Given an integer array nums and an integer val, remove all occurrences of val in nums in-place. The order of the elements may be changed. Then return the number of elements in nums which are not equal to val."
   ]
  },
  {
   "cell_type": "code",
   "execution_count": 9,
   "id": "89a1852a",
   "metadata": {},
   "outputs": [
    {
     "name": "stdout",
     "output_type": "stream",
     "text": [
      "Number of items remained in the list are 3\n"
     ]
    }
   ],
   "source": [
    "def removeElement(nums, val):\n",
    "    i = 0 \n",
    "    for j in range(len(nums)):\n",
    "        if nums[j] != val:\n",
    "            nums[i] = nums[j]\n",
    "            i += 1\n",
    "\n",
    "    return i\n",
    "\n",
    "nums = [3, 2, 2, 3,5]\n",
    "val = 3\n",
    "result = removeElement(nums, val)\n",
    "print(\"Number of items remained in the list are\",result)  \n"
   ]
  },
  {
   "cell_type": "markdown",
   "id": "38ec88cd",
   "metadata": {},
   "source": [
    "\n",
    "💡 **Q3.** Given a sorted array of distinct integers and a target value, return the index if the target is found. If not, return the index where it would be if it were inserted in order.\n",
    "\n",
    "You must write an algorithm with O(log n) runtime complexity.\n",
    "\n"
   ]
  },
  {
   "cell_type": "code",
   "execution_count": 40,
   "id": "72cde486",
   "metadata": {},
   "outputs": [
    {
     "name": "stdout",
     "output_type": "stream",
     "text": [
      "Target found at index 2\n",
      "Target must be added at index 1\n"
     ]
    }
   ],
   "source": [
    "def searchInsert(nums, target):\n",
    "    left, right = 0, len(nums) - 1\n",
    "\n",
    "    while left <= right:\n",
    "        middle = (left + right) // 2\n",
    "\n",
    "        if nums[middle] == target:\n",
    "            return middle\n",
    "        elif nums[middle] < target:\n",
    "            left = middle + 1\n",
    "        else:\n",
    "            right = middle - 1\n",
    "\n",
    "    return left\n",
    "\n",
    "nums = [1, 3, 5, 6]\n",
    "target = 5\n",
    "result = searchInsert(nums, target)\n",
    "print(\"Target found at index\",result)  \n",
    "\n",
    "target = 2\n",
    "result = searchInsert(nums, target)\n",
    "print(\"Target must be added at index\",result)  "
   ]
  },
  {
   "cell_type": "markdown",
   "id": "0eb55c35",
   "metadata": {},
   "source": [
    "<aside>\n",
    "💡 **Q4.** You are given a large integer represented as an integer array digits, where each digits[i] is the ith digit of the integer. The digits are ordered from most significant to least significant in left-to-right order. The large integer does not contain any leading 0's.\n",
    "\n",
    "Increment the large integer by one and return the resulting array of digits.\n",
    "\n",
    "</aside>"
   ]
  },
  {
   "cell_type": "code",
   "execution_count": 44,
   "id": "e94136f9",
   "metadata": {},
   "outputs": [
    {
     "name": "stdout",
     "output_type": "stream",
     "text": [
      "[1, 2, 4]\n",
      "[1, 0, 0, 0]\n"
     ]
    }
   ],
   "source": [
    "def plusOne(digits):\n",
    "    num = int(\"\".join(map(str, digits))) \n",
    "    num += 1  \n",
    "    return list(map(int, str(num)))  \n",
    "\n",
    "\n",
    "digits = [1, 2,3]\n",
    "result = plusOne(digits)\n",
    "print(result)  \n",
    "\n",
    "digits = [9, 9, 9]\n",
    "result = plusOne(digits)\n",
    "print(result)  "
   ]
  },
  {
   "cell_type": "markdown",
   "id": "359bffa5",
   "metadata": {},
   "source": [
    "<aside>\n",
    "💡 Q5 ****You are given two integer arrays nums1 and nums2, sorted in non-decreasing order, and two integers m and n, representing the number of elements in nums1 and nums2 respectively.\n",
    "\n",
    "Merge nums1 and nums2 into a single array sorted in non-decreasing order.\n",
    "\n",
    "The final sorted array should not be returned by the function, but instead be stored inside the array nums1. To accommodate this, nums1 has a length of m + n, where the first m elements denote the elements that should be merged, and the last n elements are set to 0 and should be ignored. nums2 has a length of n.\n",
    "\n",
    "</aside>"
   ]
  },
  {
   "cell_type": "code",
   "execution_count": 46,
   "id": "fc0f0d76",
   "metadata": {},
   "outputs": [
    {
     "name": "stdout",
     "output_type": "stream",
     "text": [
      "[1, 2, 2, 3, 5, 6]\n"
     ]
    }
   ],
   "source": [
    "def merge(nums1, m, nums2, n):\n",
    "    p1 = m - 1  \n",
    "    p2 = n - 1  \n",
    "    p = m + n - 1 \n",
    "    \n",
    "    while p2 >= 0:\n",
    "        if p1 >= 0 and nums1[p1] >= nums2[p2]:\n",
    "            nums1[p] = nums1[p1]\n",
    "            p1 -= 1\n",
    "        else:\n",
    "            nums1[p] = nums2[p2]\n",
    "            p2 -= 1\n",
    "        p -= 1\n",
    "\n",
    "    \n",
    "    while p2 >= 0:\n",
    "        nums1[p] = nums2[p2]\n",
    "        p2 -= 1\n",
    "        p -= 1\n",
    "\n",
    "    return nums1\n",
    "\n",
    "\n",
    "nums1 = [1, 2, 3, 0, 0, 0]\n",
    "m = 3\n",
    "nums2 = [2, 5, 6]\n",
    "n = 3\n",
    "result = merge(nums1, m, nums2, n)\n",
    "print(result)  "
   ]
  },
  {
   "cell_type": "markdown",
   "id": "e93c02da",
   "metadata": {},
   "source": [
    "Q6. Given an integer array nums, return true if any value appears at least twice in the array, and return false if every element is distinct."
   ]
  },
  {
   "cell_type": "code",
   "execution_count": 48,
   "id": "c6a67b34",
   "metadata": {},
   "outputs": [
    {
     "name": "stdout",
     "output_type": "stream",
     "text": [
      "True\n",
      "False\n"
     ]
    }
   ],
   "source": [
    "def istrue(nums):\n",
    "    num_set = set()\n",
    "\n",
    "    for num in nums:\n",
    "        if num in num_set:\n",
    "            return True\n",
    "        num_set.add(num)\n",
    "\n",
    "    return False\n",
    "\n",
    "nums = [1, 2, 3, 1]\n",
    "result = istrue(nums)\n",
    "print(result)  \n",
    "\n",
    "nums = [1, 2, 3, 4]\n",
    "result = istrue(nums)\n",
    "print(result)  "
   ]
  },
  {
   "cell_type": "markdown",
   "id": "d4473ced",
   "metadata": {},
   "source": [
    "Q7 Given an integer array nums, move all 0's to the end of it while maintaining the relative order of the nonzero elements."
   ]
  },
  {
   "cell_type": "code",
   "execution_count": 49,
   "id": "3edb4103",
   "metadata": {},
   "outputs": [
    {
     "name": "stdout",
     "output_type": "stream",
     "text": [
      "[1, 3, 12, 0, 0]\n"
     ]
    }
   ],
   "source": [
    "def moveZeroes(nums):\n",
    "    nonZero = 0\n",
    "\n",
    "    for current in range(len(nums)):\n",
    "        if nums[current] != 0:\n",
    "            nums[current], nums[nonZero] = nums[nonZero], nums[current]\n",
    "            nonZero += 1\n",
    "\n",
    "    nums[nonZero:] = [0] * (len(nums) - nonZero)\n",
    "\n",
    "\n",
    "nums = [0, 1, 0, 3, 12]\n",
    "moveZeroes(nums)\n",
    "print(nums)  "
   ]
  },
  {
   "cell_type": "markdown",
   "id": "245d3e48",
   "metadata": {},
   "source": [
    "<aside>\n",
    "💡 **Q8.** You have a set of integers s, which originally contains all the numbers from 1 to n. Unfortunately, due to some error, one of the numbers in s got duplicated to another number in the set, which results in repetition of one number and loss of another number.\n",
    "\n",
    "You are given an integer array nums representing the data status of this set after the error.\n",
    "\n",
    "Find the number that occurs twice and the number that is missing and return them in the form of an array.\n",
    "\n",
    "</aside>"
   ]
  },
  {
   "cell_type": "code",
   "execution_count": 50,
   "id": "4e286584",
   "metadata": {},
   "outputs": [
    {
     "name": "stdout",
     "output_type": "stream",
     "text": [
      "[2, 3]\n"
     ]
    }
   ],
   "source": [
    "def findErrorNums(nums):\n",
    "    numSet = set()\n",
    "    duplicate = -1\n",
    "    missing = -1\n",
    "\n",
    "    for num in nums:\n",
    "        if num in numSet:\n",
    "            duplicate = num\n",
    "        numSet.add(num)\n",
    "\n",
    "    for i in range(1, len(nums) + 1):\n",
    "        if i not in numSet:\n",
    "            missing = i\n",
    "            break\n",
    "\n",
    "    return [duplicate, missing]\n",
    "\n",
    "\n",
    "nums = [1, 2, 2, 4]\n",
    "result = findErrorNums(nums)\n",
    "print(result)"
   ]
  },
  {
   "cell_type": "code",
   "execution_count": null,
   "id": "21f3e0d7",
   "metadata": {},
   "outputs": [],
   "source": []
  }
 ],
 "metadata": {
  "kernelspec": {
   "display_name": "Python 3 (ipykernel)",
   "language": "python",
   "name": "python3"
  },
  "language_info": {
   "codemirror_mode": {
    "name": "ipython",
    "version": 3
   },
   "file_extension": ".py",
   "mimetype": "text/x-python",
   "name": "python",
   "nbconvert_exporter": "python",
   "pygments_lexer": "ipython3",
   "version": "3.10.4"
  }
 },
 "nbformat": 4,
 "nbformat_minor": 5
}
