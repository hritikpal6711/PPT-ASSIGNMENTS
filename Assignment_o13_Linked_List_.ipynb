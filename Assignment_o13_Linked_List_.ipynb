{
  "nbformat": 4,
  "nbformat_minor": 0,
  "metadata": {
    "colab": {
      "provenance": []
    },
    "kernelspec": {
      "name": "python3",
      "display_name": "Python 3"
    },
    "language_info": {
      "name": "python"
    }
  },
  "cells": [
    {
      "cell_type": "markdown",
      "source": [
        "# Assignment 13 - Linked List"
      ],
      "metadata": {
        "id": "dFGAt9DTwHvm"
      }
    },
    {
      "cell_type": "markdown",
      "source": [
        "# Question no.1 :-\n",
        "\n",
        "Given two linked list of the same size, the task is to create a new linked list using those linked lists. The condition is that the greater node among both linked list will be added to the new linked list.\n",
        "\n",
        "Examples:\n",
        "\n",
        "Input: list1 = 5->2->3->8\n",
        "\n",
        "list2 = 1->7->4->5\n",
        "\n",
        "Output: New list = 5->7->4->8\n",
        "\n",
        "Input:list1 = 2->8->9->3\n",
        "\n",
        "list2 = 5->3->6->4\n",
        "\n",
        "Output: New list = 5->8->9->4"
      ],
      "metadata": {
        "id": "eR4PnwfPwKDF"
      }
    },
    {
      "cell_type": "code",
      "execution_count": 1,
      "metadata": {
        "colab": {
          "base_uri": "https://localhost:8080/"
        },
        "id": "mGB_FThbwBQF",
        "outputId": "d987c6fb-4169-45ce-ef41-b4e7e5e8e600"
      },
      "outputs": [
        {
          "output_type": "stream",
          "name": "stdout",
          "text": [
            "First List:  5 -> 2 -> 3 -> 8 ->  \n",
            "Second List:  1 -> 7 -> 4 -> 5 ->  \n",
            "New List:  5 -> 7 -> 4 -> 8 ->  \n"
          ]
        }
      ],
      "source": [
        "class Node:\n",
        "\n",
        "    def __init__(self, data):\n",
        "        self.data = data\n",
        "        self.next = None\n",
        "\n",
        "def insert(root, item):\n",
        "\n",
        "    temp = Node(0)\n",
        "    temp.data = item\n",
        "    temp.next = None\n",
        "\n",
        "    if (root == None):\n",
        "        root = temp\n",
        "    else :\n",
        "        ptr = root\n",
        "        while (ptr.next != None):\n",
        "            ptr = ptr.next\n",
        "\n",
        "        ptr.next = temp\n",
        "\n",
        "    return root\n",
        "\n",
        "def newList(root1, root2):\n",
        "\n",
        "    ptr1 = root1\n",
        "    ptr2 = root2\n",
        "\n",
        "    root = None\n",
        "    while (ptr1 != None) :\n",
        "        temp = Node(0)\n",
        "        temp.next = None\n",
        "\n",
        "        if (ptr1.data < ptr2.data):\n",
        "            temp.data = ptr2.data\n",
        "        else:\n",
        "            temp.data = ptr1.data\n",
        "\n",
        "        if (root == None):\n",
        "            root = temp\n",
        "        else :\n",
        "            ptr = root\n",
        "            while (ptr.next != None):\n",
        "                ptr = ptr.next\n",
        "\n",
        "            ptr.next = temp\n",
        "\n",
        "        ptr1 = ptr1.next\n",
        "        ptr2 = ptr2.next\n",
        "\n",
        "    return root\n",
        "\n",
        "def display(root):\n",
        "\n",
        "    while (root != None) :\n",
        "        print(root.data, \"->\", end = \" \")\n",
        "        root = root.next\n",
        "\n",
        "    print(\" \");\n",
        "\n",
        "\n",
        "\n",
        "root1 = None\n",
        "root2 = None\n",
        "root = None\n",
        "\n",
        "root1 = insert(root1, 5)\n",
        "root1 = insert(root1, 2)\n",
        "root1 = insert(root1, 3)\n",
        "root1 = insert(root1, 8)\n",
        "\n",
        "print(\"First List: \", end = \" \")\n",
        "display(root1)\n",
        "\n",
        "root2 = insert(root2, 1)\n",
        "root2 = insert(root2, 7)\n",
        "root2 = insert(root2, 4)\n",
        "root2 = insert(root2, 5)\n",
        "\n",
        "print(\"Second List: \", end = \" \")\n",
        "display(root2)\n",
        "\n",
        "root = newList(root1, root2)\n",
        "print(\"New List: \", end = \" \")\n",
        "display(root)"
      ]
    },
    {
      "cell_type": "markdown",
      "source": [
        "## Question no.2 :-\n",
        "\n",
        "Write a function that takes a list sorted in non-decreasing order and deletes any duplicate nodes from the list. The list should only be traversed once.\n",
        "\n",
        "For example if the linked list is 11->11->11->21->43->43->60 then removeDuplicates() should convert the list to 11->21->43->60.\n",
        "\n",
        "Example 1:\n",
        "\n",
        "Input:\n",
        "\n",
        "LinkedList:\n",
        "\n",
        "11->11->11->21->43->43->60\n",
        "\n",
        "Output:\n",
        "\n",
        "11->21->43->60"
      ],
      "metadata": {
        "id": "-_Q2lkah0e80"
      }
    },
    {
      "cell_type": "code",
      "source": [
        "class Node:\n",
        "    def __init__(self):\n",
        "        self.data = 0\n",
        "        self.next = None\n",
        "\n",
        "def push(head_ref, new_data):\n",
        "\n",
        "    new_node = Node()\n",
        "    new_node.data = new_data\n",
        "    new_node.next = (head_ref)\n",
        "    head_ref = new_node\n",
        "    return head_ref\n",
        "\n",
        "def printList(node):\n",
        "    while (node != None):\n",
        "        print(node.data, end=\" \")\n",
        "        node = node.next\n",
        "\n",
        "\n",
        "def removeDuplicates(head):\n",
        "    track = {}\n",
        "    temp = head\n",
        "\n",
        "    while(temp != None):\n",
        "        if (not temp.data in track):\n",
        "            print(temp.data, end=\" \")\n",
        "\n",
        "        track[temp.data] = True\n",
        "        temp = temp.next\n",
        "\n",
        "\n",
        "head = None\n",
        "\n",
        "head = push(head, 19)\n",
        "head = push(head, 14)\n",
        "head = push(head, 13)\n",
        "head = push(head, 11)\n",
        "head = push(head, 11)\n",
        "head = push(head, 11)\n",
        "\n",
        "print(\"Before duplicate removal:\", end=\" \")\n",
        "printList(head)\n",
        "\n",
        "print(\"\\nAfter duplicate removal:\", end=\" \")\n",
        "removeDuplicates(head)"
      ],
      "metadata": {
        "colab": {
          "base_uri": "https://localhost:8080/"
        },
        "id": "hPsUnQgZ0dcW",
        "outputId": "614db567-3249-43ea-9157-c4483a45c0d9"
      },
      "execution_count": 2,
      "outputs": [
        {
          "output_type": "stream",
          "name": "stdout",
          "text": [
            "Before duplicate removal: 11 11 11 13 14 19 \n",
            "After duplicate removal: 11 13 14 19 "
          ]
        }
      ]
    },
    {
      "cell_type": "markdown",
      "source": [
        "## Question no.3 :-\n",
        "\n",
        "Given a linked list of size N. The task is to reverse every k nodes (where k is an input to the function) in the linked list. If the number of nodes is not a multiple of k then left-out nodes, in the end, should be considered as a group and must be reversed (See Example 2 for clarification).\n",
        "\n",
        "Example 1:\n",
        "\n",
        "Input:\n",
        "\n",
        "LinkedList: 1->2->2->4->5->6->7->8\n",
        "\n",
        "K = 4\n",
        "\n",
        "Output:4 2 2 1 8 7 6 5\n",
        "\n",
        "Explanation: The first 4 elements 1,2,2,4 are reversed first and then the next 4 elements 5,6,7,8. Hence, the resultant linked list is 4->2->2->1->8->7->6->5."
      ],
      "metadata": {
        "id": "kZuRBLb50pj0"
      }
    },
    {
      "cell_type": "code",
      "source": [
        "class Node:\n",
        "\n",
        "    def __init__(self, data):\n",
        "        self.data = data\n",
        "        self.next = None\n",
        "\n",
        "\n",
        "class LinkedList:\n",
        "\n",
        "    def __init__(self):\n",
        "        self.head = None\n",
        "\n",
        "    def reverse(self, head, k):\n",
        "\n",
        "        if head == None:\n",
        "          return None\n",
        "        current = head\n",
        "        next = None\n",
        "        prev = None\n",
        "        count = 0\n",
        "\n",
        "        while(current is not None and count < k):\n",
        "            next = current.next\n",
        "            current.next = prev\n",
        "            prev = current\n",
        "            current = next\n",
        "            count += 1\n",
        "\n",
        "        if next is not None:\n",
        "            head.next = self.reverse(next, k)\n",
        "\n",
        "        return prev\n",
        "\n",
        "    def push(self, new_data):\n",
        "        new_node = Node(new_data)\n",
        "        new_node.next = self.head\n",
        "        self.head = new_node\n",
        "\n",
        "    def printList(self):\n",
        "        temp = self.head\n",
        "        while(temp):\n",
        "            print(temp.data,end=' ')\n",
        "            temp = temp.next\n",
        "\n",
        "\n",
        "llist = LinkedList()\n",
        "llist.push(9)\n",
        "llist.push(8)\n",
        "llist.push(7)\n",
        "llist.push(6)\n",
        "llist.push(5)\n",
        "llist.push(4)\n",
        "llist.push(3)\n",
        "llist.push(2)\n",
        "llist.push(1)\n",
        "\n",
        "print(\"Given linked list\")\n",
        "llist.printList()\n",
        "llist.head = llist.reverse(llist.head, 4)\n",
        "\n",
        "print (\"\\nReversed Linked list\")\n",
        "llist.printList()"
      ],
      "metadata": {
        "colab": {
          "base_uri": "https://localhost:8080/"
        },
        "id": "HY3oRfvX0ozF",
        "outputId": "ca8a49ce-8f64-44e8-ba60-76cff9d6bcd1"
      },
      "execution_count": 3,
      "outputs": [
        {
          "output_type": "stream",
          "name": "stdout",
          "text": [
            "Given linked list\n",
            "1 2 3 4 5 6 7 8 9 \n",
            "Reversed Linked list\n",
            "4 3 2 1 8 7 6 5 9 "
          ]
        }
      ]
    },
    {
      "cell_type": "markdown",
      "source": [
        "## Question no.4 :-\n",
        "\n",
        "Given a linked list, write a function to reverse every alternate k nodes (where k is an input to the function) in an efficient way. Give the complexity of your algorithm.\n",
        "\n",
        "Example:\n",
        "\n",
        "Inputs: 1->2->3->4->5->6->7->8->9->NULL and k = 3\n",
        "\n",
        "Output: 3->2->1->4->5->6->9->8->7->NULL."
      ],
      "metadata": {
        "id": "BRkReOY70yoj"
      }
    },
    {
      "cell_type": "code",
      "source": [
        "class Node:\n",
        "    def __init__(self, data=None):\n",
        "        self.data = data\n",
        "        self.next = None\n",
        "\n",
        "def reverse_alternate_k_nodes(head, k):\n",
        "    if not head or k <= 1:\n",
        "        return head\n",
        "\n",
        "    prev = None\n",
        "    curr = head\n",
        "    next = None\n",
        "    count = 0\n",
        "\n",
        "    # Reverse the first k nodes\n",
        "    while curr and count < k:\n",
        "        next = curr.next\n",
        "        curr.next = prev\n",
        "        prev = curr\n",
        "        curr = next\n",
        "        count += 1\n",
        "\n",
        "    # Connect the reversed segment to the rest of the list\n",
        "    if head:\n",
        "        head.next = curr\n",
        "\n",
        "    # Skip the next k nodes\n",
        "    count = 0\n",
        "    while curr and count < k - 1:\n",
        "        curr = curr.next\n",
        "        count += 1\n",
        "\n",
        "    # Recursively reverse the next segment\n",
        "    if curr:\n",
        "        curr.next = reverse_alternate_k_nodes(curr.next, k)\n",
        "\n",
        "    return prev\n",
        "\n",
        "\n",
        "# Linked List: 1->2->3->4->5->6->7->8->9->NULL\n",
        "# k = 3\n",
        "\n",
        "# Create the linked list\n",
        "head = Node(1)\n",
        "head.next = Node(2)\n",
        "head.next.next = Node(3)\n",
        "head.next.next.next = Node(4)\n",
        "head.next.next.next.next = Node(5)\n",
        "head.next.next.next.next.next = Node(6)\n",
        "head.next.next.next.next.next.next = Node(7)\n",
        "head.next.next.next.next.next.next.next = Node(8)\n",
        "head.next.next.next.next.next.next.next.next = Node(9)\n",
        "\n",
        "# Call the function to reverse every alternate 3 nodes\n",
        "new_head = reverse_alternate_k_nodes(head, 3)\n",
        "\n",
        "# Print the resulting linked list\n",
        "while new_head:\n",
        "    print(new_head.data, end=\"->\")\n",
        "    new_head = new_head.next"
      ],
      "metadata": {
        "colab": {
          "base_uri": "https://localhost:8080/"
        },
        "id": "KwbO7zUm2t1u",
        "outputId": "1fdaf47d-f7ed-45e0-c10d-e82668a29aa5"
      },
      "execution_count": 5,
      "outputs": [
        {
          "output_type": "stream",
          "name": "stdout",
          "text": [
            "3->2->1->4->5->6->9->8->7->"
          ]
        }
      ]
    },
    {
      "cell_type": "markdown",
      "source": [
        "## Question no.5 :-\n",
        "\n",
        "Given a linked list and a key to be deleted. Delete last occurrence of key from linked. The list may have duplicates.\n",
        "\n",
        "Examples:\n",
        "\n",
        "Input: 1->2->3->5->2->10, key = 2\n",
        "\n",
        "Output: 1->2->3->5->10"
      ],
      "metadata": {
        "id": "-AWhyicl25JK"
      }
    },
    {
      "cell_type": "code",
      "source": [
        "class Node:\n",
        "    def __init__(self, new_data):\n",
        "        self.data = new_data\n",
        "        self.next = None\n",
        "\n",
        "def deleteLast(head, x):\n",
        "\n",
        "    temp = head\n",
        "    ptr = None\n",
        "    while (temp!=None):\n",
        "\n",
        "        if (temp.data == x) :\n",
        "            ptr = temp\n",
        "        temp = temp.next\n",
        "\n",
        "    if (ptr != None and ptr.next == None):\n",
        "        temp = head\n",
        "        while (temp.next != ptr) :\n",
        "            temp = temp.next\n",
        "        temp.next = None\n",
        "\n",
        "    if (ptr != None and ptr.next != None):\n",
        "        ptr.data = ptr.next.data\n",
        "        temp = ptr.next\n",
        "        ptr.next = ptr.next.next\n",
        "\n",
        "    return head\n",
        "\n",
        "def newNode(x):\n",
        "\n",
        "    node = Node(0)\n",
        "    node.data = x\n",
        "    node.next = None\n",
        "    return node\n",
        "\n",
        "def display( head):\n",
        "\n",
        "    temp = head\n",
        "    if (head == None):\n",
        "        print(\"None\\n\")\n",
        "        return\n",
        "\n",
        "    while (temp != None):\n",
        "        print( temp.data,\" -> \",end=\"\")\n",
        "        temp = temp.next\n",
        "\n",
        "    print(\"None\")\n",
        "\n",
        "\n",
        "head = newNode(1)\n",
        "head.next = newNode(2)\n",
        "head.next.next = newNode(3)\n",
        "head.next.next.next = newNode(4)\n",
        "head.next.next.next.next = newNode(5)\n",
        "head.next.next.next.next.next = newNode(4)\n",
        "\n",
        "print(\"Linked list: \")\n",
        "display(head)\n",
        "\n",
        "head = deleteLast(head, 4)\n",
        "\n",
        "print(\"After deletion of Key: \")\n",
        "display(head)"
      ],
      "metadata": {
        "id": "uRVA5LZR3Psj"
      },
      "execution_count": null,
      "outputs": []
    },
    {
      "cell_type": "markdown",
      "source": [
        "## Question no.6 :-\n",
        "\n",
        "Given two sorted linked lists consisting of N and M nodes respectively. The task is to merge both of the lists (in place) and return the head of the merged list.\n",
        "\n",
        "Examples:\n",
        "\n",
        "Input: a: 5->10->15, b: 2->3->20\n",
        "\n",
        "Output: 2->3->5->10->15->20\n",
        "\n",
        "Input: a: 1->1, b: 2->4\n",
        "\n",
        "Output: 1->1->2->4"
      ],
      "metadata": {
        "id": "OkR5JSwm3Wf7"
      }
    },
    {
      "cell_type": "code",
      "source": [
        "class Node:\n",
        "    def __init__(self, key):\n",
        "        self.key = key\n",
        "        self.next = None\n",
        "\n",
        "\n",
        "def newNode(key):\n",
        "    return Node(key)\n",
        "\n",
        "a = Node(5)\n",
        "a.next = Node(10)\n",
        "a.next.next = Node(15)\n",
        "a.next.next.next = Node(40)\n",
        "\n",
        "b = Node(2)\n",
        "b.next = Node(3)\n",
        "b.next.next = Node(20)\n",
        "\n",
        "v = []\n",
        "while(a is not None):\n",
        "    v.append(a.key)\n",
        "    a = a.next\n",
        "\n",
        "while(b is not None):\n",
        "    v.append(b.key)\n",
        "    b = b.next\n",
        "\n",
        "v.sort()\n",
        "result = Node(-1)\n",
        "temp = result\n",
        "for i in range(len(v)):\n",
        "    result.next = Node(v[i])\n",
        "    result = result.next\n",
        "\n",
        "temp = temp.next\n",
        "\n",
        "while(temp is not None):\n",
        "    print(temp.key, end=\" \")\n",
        "    temp = temp.next"
      ],
      "metadata": {
        "colab": {
          "base_uri": "https://localhost:8080/"
        },
        "id": "zvnSt_Jv3dYq",
        "outputId": "cc21bc5c-1d7d-4277-cc26-a405f4ddd390"
      },
      "execution_count": 6,
      "outputs": [
        {
          "output_type": "stream",
          "name": "stdout",
          "text": [
            "2 3 5 10 15 20 40 "
          ]
        }
      ]
    },
    {
      "cell_type": "markdown",
      "source": [
        "## Question no.7 :-\n",
        "\n",
        "Given a Doubly Linked List, the task is to reverse the given Doubly Linked List.\n",
        "\n",
        "Example:\n",
        "\n",
        "Original Linked list 10 8 4 2\n",
        "\n",
        "Reversed Linked list 2 4 8 10"
      ],
      "metadata": {
        "id": "11gDrVf63kkK"
      }
    },
    {
      "cell_type": "code",
      "source": [
        "class Node:\n",
        "    def __init__(self):\n",
        "        self.data = 0\n",
        "        self.prev = None\n",
        "        self.next = None\n",
        "\n",
        "def reverse(head_ref):\n",
        "    current = head_ref\n",
        "    temp = None\n",
        "\n",
        "    while current != None:\n",
        "        temp = current.prev\n",
        "        current.prev = current.next\n",
        "        current.next = temp\n",
        "        current = current.prev\n",
        "\n",
        "    if temp != None:\n",
        "        head_ref = temp.prev\n",
        "\n",
        "    return head_ref\n",
        "\n",
        "def printList(node):\n",
        "    while node != None:\n",
        "        print(node.data, end=\" \")\n",
        "        node = node.next\n",
        "\n",
        "\n",
        "head = Node()\n",
        "second = Node()\n",
        "third = Node()\n",
        "\n",
        "head.data = 1\n",
        "head.prev = None\n",
        "head.next = second\n",
        "\n",
        "second.data = 2\n",
        "second.prev = head\n",
        "second.next = third\n",
        "\n",
        "third.data = 3\n",
        "third.prev = second\n",
        "third.next = None\n",
        "\n",
        "\n",
        "print(\"Original List: \", end=\"\")\n",
        "printList(head)\n",
        "\n",
        "head = reverse(head)\n",
        "\n",
        "print(\"\\nReversed List: \", end=\"\")\n",
        "printList(head)"
      ],
      "metadata": {
        "colab": {
          "base_uri": "https://localhost:8080/"
        },
        "id": "yvOlBN3y3m9K",
        "outputId": "1d38d0f7-3ae9-44ef-9b91-c7001ddb3aad"
      },
      "execution_count": 7,
      "outputs": [
        {
          "output_type": "stream",
          "name": "stdout",
          "text": [
            "Original List: 1 2 3 \n",
            "Reversed List: 3 2 1 "
          ]
        }
      ]
    },
    {
      "cell_type": "markdown",
      "source": [
        "## Question no.8 :-\n",
        "\n",
        "Given a doubly linked list and a position. The task is to delete a node from given position in a doubly linked list.\n",
        "\n",
        "Example 1:\n",
        "\n",
        "Input:\n",
        "\n",
        "LinkedList = 1 <--> 3 <--> 4\n",
        "\n",
        "x = 3\n",
        "\n",
        "Output:1 3\n",
        "\n",
        "Explanation:After deleting the node at position 3 (position starts from 1), the linked list will be now as 1->3."
      ],
      "metadata": {
        "id": "fobLCpEV3xVq"
      }
    },
    {
      "cell_type": "code",
      "source": [
        "class Node:\n",
        "    def __init__(self, data=None):\n",
        "        self.data = data\n",
        "        self.prev = None\n",
        "        self.next = None\n",
        "\n",
        "def delete_node_at_position(head, position):\n",
        "    if not head:\n",
        "        return head\n",
        "\n",
        "    # Case 1: Deleting the head node\n",
        "    if position == 1:\n",
        "        if head.next:\n",
        "            head.next.prev = None\n",
        "        head = head.next\n",
        "        return head\n",
        "\n",
        "    curr = head\n",
        "    count = 1\n",
        "\n",
        "    # Traverse to find the node at the given position\n",
        "    while curr and count < position:\n",
        "        curr = curr.next\n",
        "        count += 1\n",
        "\n",
        "    # Case 2: Node at given position exists\n",
        "    if curr:\n",
        "        prev_node = curr.prev\n",
        "        next_node = curr.next\n",
        "        prev_node.next = next_node\n",
        "        if next_node:\n",
        "            next_node.prev = prev_node\n",
        "\n",
        "    return head\n"
      ],
      "metadata": {
        "id": "8_CHmUSK3sjL"
      },
      "execution_count": 8,
      "outputs": []
    },
    {
      "cell_type": "code",
      "source": [
        "# Doubly Linked List: 1 <--> 3 <--> 4\n",
        "# Position: 3\n",
        "\n",
        "# Create the doubly linked list\n",
        "head = Node(1)\n",
        "head.next = Node(3)\n",
        "head.next.prev = head\n",
        "head.next.next = Node(4)\n",
        "head.next.next.prev = head.next\n",
        "\n",
        "# Call the function to delete the node at position 3\n",
        "new_head = delete_node_at_position(head, 3)\n",
        "\n",
        "# Print the resulting linked list\n",
        "while new_head:\n",
        "    print(new_head.data, end=\" \")\n",
        "    new_head = new_head.next"
      ],
      "metadata": {
        "colab": {
          "base_uri": "https://localhost:8080/"
        },
        "id": "ZQRslHmd4QD6",
        "outputId": "485af7cb-31e0-47f8-f329-6fd58d6dc531"
      },
      "execution_count": 9,
      "outputs": [
        {
          "output_type": "stream",
          "name": "stdout",
          "text": [
            "1 3 "
          ]
        }
      ]
    }
  ]
}